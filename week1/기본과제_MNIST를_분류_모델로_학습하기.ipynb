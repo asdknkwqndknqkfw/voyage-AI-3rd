{
  "cells": [
    {
      "cell_type": "markdown",
      "metadata": {
        "id": "PMJD3PBUOoTO"
      },
      "source": [
        "# [1주차] 기본과제 - MNIST를 분류 모델로 학습하기"
      ]
    },
    {
      "cell_type": "markdown",
      "metadata": {
        "id": "Tb84_1QBPANw"
      },
      "source": [
        "## Test data 준비하기\n",
        "- Test data는 MNIST의 train data를 load하는 코드에서 train=False로 두면 됩니다.\n",
        "- Train data와 마찬가지로 test data에 대한 data loader를 생성해주시면 됩니다(batch size는 동일하게 적용).\n",
        "- Test data는 랜덤하게 섞일 필요가 없기 때문에 shuffle=False로 설정합니다."
      ]
    },
    {
      "cell_type": "code",
      "execution_count": 1,
      "metadata": {
        "id": "RvZQRva0pM0S"
      },
      "outputs": [],
      "source": [
        "import torch\n",
        "import torchvision\n",
        "import torchvision.transforms as transforms"
      ]
    },
    {
      "cell_type": "code",
      "execution_count": null,
      "metadata": {
        "id": "d6M4SpWQoML9"
      },
      "outputs": [],
      "source": [
        "transform = transforms.ToTensor()\n",
        "\n",
        "trainset = torchvision.datasets.MNIST(\n",
        "    root=\"./data\", train=True, download=True, transform=transform\n",
        ")\n",
        "\n",
        "testset = torchvision.datasets.MNIST(\n",
        "    root=\"./data\", train=False, download=True, transform=transform\n",
        ")"
      ]
    },
    {
      "cell_type": "code",
      "execution_count": null,
      "metadata": {
        "id": "aQKs5i-IVG2D"
      },
      "outputs": [],
      "source": [
        "batch_size = 256\n",
        "\n",
        "trainloader = torch.utils.data.DataLoader(trainset, batch_size=batch_size, shuffle=True)\n",
        "\n",
        "testloader = torch.utils.data.DataLoader(testset, batch_size=batch_size, shuffle=False)"
      ]
    },
    {
      "cell_type": "markdown",
      "metadata": {
        "id": "GDC-67ssP6Z2"
      },
      "source": [
        "## nn.CrossEntropyLoss 적용하기\n",
        "- 현재 코드는 regression model을 구현한 상태로, MSE를 loss로 사용하고 있습니다.\n",
        "- 하지만 MNIST와 같은 분류 문제에서는 MSE는 적합하지 않습니다.\n",
        "  - MSE에 따르면 1에 해당하는 손글씨 이미지는 7에 해당하는 손글씨 이미지보다 0에 해당하는 손글씨 이미지가 더 가깝게 여겨집니다.\n",
        "  - 하지만 1은 실제로 0보다 7과 더 비슷하게 생겼습니다.\n",
        "- 일반적으로 분류 문제는 MSE 대신 cross entropy loss를 사용합니다.\n",
        "- PyTorch에서의 cross entropy loss 문서 또는 웹 자료들을 통해 이해한 후, MSE를 대체하는 코드를 구현하시면 됩니다.\n",
        "  - 변경되어야 할 점은 2가지\n",
        "    - i) Model의 최종 output의 dimension과\n",
        "    - ii) loss 계산 부분입니다."
      ]
    },
    {
      "cell_type": "code",
      "execution_count": null,
      "metadata": {
        "id": "130CiwTiPnFS"
      },
      "outputs": [],
      "source": [
        "from torch import nn\n",
        "\n",
        "\n",
        "class Model(nn.Module):\n",
        "    def __init__(self, input_dim, n_dim):\n",
        "        super().__init__()\n",
        "\n",
        "        self.layer1 = nn.Linear(input_dim, n_dim)\n",
        "        self.layer2 = nn.Linear(n_dim, n_dim)\n",
        "        self.layer3 = nn.Linear(n_dim, 10)\n",
        "\n",
        "        self.act = nn.ReLU()\n",
        "\n",
        "    def forward(self, x):\n",
        "        x = torch.flatten(x, start_dim=1)\n",
        "        x = self.act(self.layer1(x))\n",
        "        x = self.act(self.layer2(x))\n",
        "        x = self.act(self.layer3(x))\n",
        "\n",
        "        return x"
      ]
    },
    {
      "cell_type": "code",
      "execution_count": null,
      "metadata": {
        "id": "BfbXWC2NTIWH"
      },
      "outputs": [],
      "source": [
        "from torch.optim import SGD\n",
        "\n",
        "model = Model(28 * 28 * 1, 1024).to(\"cuda\")\n",
        "\n",
        "lr = 0.001\n",
        "optimizer = SGD(model.parameters(), lr=lr)\n",
        "loss_fn = nn.CrossEntropyLoss()"
      ]
    },
    {
      "cell_type": "code",
      "execution_count": null,
      "metadata": {
        "id": "7I4Xfk3LV5yw"
      },
      "outputs": [],
      "source": [
        "def accuracy(model, dataloader):\n",
        "    cnt = 0\n",
        "    acc = 0\n",
        "\n",
        "    for data in dataloader:\n",
        "        inputs, labels = data\n",
        "        inputs, labels = inputs.to(\"cuda\"), labels.to(\"cuda\")\n",
        "\n",
        "        preds = model(inputs)\n",
        "        preds = torch.argmax(preds, dim=-1)\n",
        "\n",
        "        cnt += labels.shape[0]\n",
        "        acc += (labels == preds).sum().item()\n",
        "\n",
        "    return acc / cnt"
      ]
    },
    {
      "cell_type": "markdown",
      "metadata": {
        "id": "z1Gp6zpChqre"
      },
      "source": [
        "## 학습을 진행한 후, epoch에 따른 model의 train과 test data에 대한 정확도 plot하기\n",
        "- 다음 조건들 아래에서 학습을 진행하면 됩니다.\n",
        "  - n_epochs=100, batch_size=256, lr=0.001.\n",
        "- 어떤 dataloader에 대한 model의 정확도를 측정하는 코드는 다음 함수를 사용하시면 됩니다:\n",
        "- 추가적으로 구현되어야 하는 부분들을 요약하면 다음과 같습니다:\n",
        "  - 매 epoch가 끝난 뒤의 model의 trainloader와 testloader에 대한 정확도를 각각 list로 저장해둡니다.\n",
        "  - Epoch에 따른 train과 test data에 대한 model의 정확도를 다음 코드를 사용하여 plot합니다:"
      ]
    },
    {
      "cell_type": "markdown",
      "metadata": {
        "id": "QVY76gBrhqoV"
      },
      "source": []
    },
    {
      "cell_type": "code",
      "execution_count": null,
      "metadata": {
        "colab": {
          "base_uri": "https://localhost:8080/"
        },
        "id": "0c7sB4UfV7bQ",
        "outputId": "0389dba7-ff47-4784-d94e-889cd02b4793"
      },
      "outputs": [
        {
          "name": "stdout",
          "output_type": "stream",
          "text": [
            "Epoch   0 | Loss: 541.1588664054871\n",
            "Epoch   1 | Loss: 540.6642286777496\n",
            "Epoch   2 | Loss: 540.201388835907\n",
            "Epoch   3 | Loss: 539.7606801986694\n",
            "Epoch   4 | Loss: 539.3249616622925\n",
            "Epoch   5 | Loss: 538.8779792785645\n",
            "Epoch   6 | Loss: 538.4224779605865\n",
            "Epoch   7 | Loss: 537.9490733146667\n",
            "Epoch   8 | Loss: 537.4537074565887\n",
            "Epoch   9 | Loss: 536.9421768188477\n",
            "Epoch  10 | Loss: 536.3879883289337\n",
            "Epoch  11 | Loss: 535.8213157653809\n",
            "Epoch  12 | Loss: 535.2114896774292\n",
            "Epoch  13 | Loss: 534.5529005527496\n",
            "Epoch  14 | Loss: 533.8427834510803\n",
            "Epoch  15 | Loss: 533.1246933937073\n",
            "Epoch  16 | Loss: 532.3165073394775\n",
            "Epoch  17 | Loss: 531.4779920578003\n",
            "Epoch  18 | Loss: 530.5664784908295\n",
            "Epoch  19 | Loss: 529.6103205680847\n",
            "Epoch  20 | Loss: 528.6035373210907\n",
            "Epoch  21 | Loss: 527.5049440860748\n",
            "Epoch  22 | Loss: 526.0975940227509\n",
            "Epoch  23 | Loss: 524.3625407218933\n",
            "Epoch  24 | Loss: 522.6507377624512\n",
            "Epoch  25 | Loss: 520.8925352096558\n",
            "Epoch  26 | Loss: 519.0594589710236\n",
            "Epoch  27 | Loss: 517.1927013397217\n",
            "Epoch  28 | Loss: 515.2392256259918\n",
            "Epoch  29 | Loss: 513.2480711936951\n",
            "Epoch  30 | Loss: 511.2297842502594\n",
            "Epoch  31 | Loss: 509.15527606010437\n",
            "Epoch  32 | Loss: 507.0909490585327\n",
            "Epoch  33 | Loss: 504.94034218788147\n",
            "Epoch  34 | Loss: 502.79491996765137\n",
            "Epoch  35 | Loss: 500.67409682273865\n",
            "Epoch  36 | Loss: 498.46971368789673\n",
            "Epoch  37 | Loss: 496.26997542381287\n",
            "Epoch  38 | Loss: 494.0164635181427\n",
            "Epoch  39 | Loss: 491.7635426521301\n",
            "Epoch  40 | Loss: 489.44054412841797\n",
            "Epoch  41 | Loss: 487.20960080623627\n",
            "Epoch  42 | Loss: 484.88923621177673\n",
            "Epoch  43 | Loss: 482.5705637931824\n",
            "Epoch  44 | Loss: 480.33015990257263\n",
            "Epoch  45 | Loss: 478.09588754177094\n",
            "Epoch  46 | Loss: 475.957337141037\n",
            "Epoch  47 | Loss: 473.7400745153427\n",
            "Epoch  48 | Loss: 470.80196821689606\n",
            "Epoch  49 | Loss: 467.72211027145386\n",
            "Epoch  50 | Loss: 464.88926553726196\n",
            "Epoch  51 | Loss: 462.2687631845474\n",
            "Epoch  52 | Loss: 459.8068174123764\n",
            "Epoch  53 | Loss: 457.529150724411\n",
            "Epoch  54 | Loss: 455.1430449485779\n",
            "Epoch  55 | Loss: 452.9633541107178\n",
            "Epoch  56 | Loss: 450.76495826244354\n",
            "Epoch  57 | Loss: 448.7084276676178\n",
            "Epoch  58 | Loss: 446.53332221508026\n",
            "Epoch  59 | Loss: 444.55926299095154\n",
            "Epoch  60 | Loss: 442.4372208118439\n",
            "Epoch  61 | Loss: 440.4736008644104\n",
            "Epoch  62 | Loss: 438.6585810184479\n",
            "Epoch  63 | Loss: 436.6849685907364\n",
            "Epoch  64 | Loss: 434.9660190343857\n",
            "Epoch  65 | Loss: 433.22884833812714\n",
            "Epoch  66 | Loss: 431.3544716835022\n",
            "Epoch  67 | Loss: 429.6589206457138\n",
            "Epoch  68 | Loss: 427.99415016174316\n",
            "Epoch  69 | Loss: 426.45088016986847\n",
            "Epoch  70 | Loss: 424.8893620967865\n",
            "Epoch  71 | Loss: 423.3245857954025\n",
            "Epoch  72 | Loss: 421.80992901325226\n",
            "Epoch  73 | Loss: 420.4793368577957\n",
            "Epoch  74 | Loss: 419.021959066391\n",
            "Epoch  75 | Loss: 417.6890062093735\n",
            "Epoch  76 | Loss: 416.33530580997467\n",
            "Epoch  77 | Loss: 415.13178539276123\n",
            "Epoch  78 | Loss: 413.9312928915024\n",
            "Epoch  79 | Loss: 412.65646183490753\n",
            "Epoch  80 | Loss: 411.57164442539215\n",
            "Epoch  81 | Loss: 410.4872269630432\n",
            "Epoch  82 | Loss: 409.41396164894104\n",
            "Epoch  83 | Loss: 408.3595857620239\n",
            "Epoch  84 | Loss: 407.3538453578949\n",
            "Epoch  85 | Loss: 406.48560094833374\n",
            "Epoch  86 | Loss: 405.50071823596954\n",
            "Epoch  87 | Loss: 404.754500746727\n",
            "Epoch  88 | Loss: 403.94010877609253\n",
            "Epoch  89 | Loss: 403.1045671701431\n",
            "Epoch  90 | Loss: 402.4192165136337\n",
            "Epoch  91 | Loss: 401.6390392780304\n",
            "Epoch  92 | Loss: 400.89399218559265\n",
            "Epoch  93 | Loss: 400.1966096162796\n",
            "Epoch  94 | Loss: 399.54275608062744\n",
            "Epoch  95 | Loss: 398.95366394519806\n",
            "Epoch  96 | Loss: 398.3855092525482\n",
            "Epoch  97 | Loss: 397.69520223140717\n",
            "Epoch  98 | Loss: 397.2042089700699\n",
            "Epoch  99 | Loss: 396.6102523803711\n"
          ]
        }
      ],
      "source": [
        "n_epochs = 100\n",
        "train_accs = []\n",
        "test_accs = []\n",
        "\n",
        "for epoch in range(n_epochs):\n",
        "    total_loss = 0.0\n",
        "    for data in trainloader:\n",
        "        model.zero_grad()\n",
        "        inputs, labels = data\n",
        "        inputs, labels = inputs.to(\"cuda\"), labels.to(\"cuda\")\n",
        "\n",
        "        preds = model(inputs)\n",
        "        loss = loss_fn(preds, labels)\n",
        "        loss.backward()\n",
        "        optimizer.step()\n",
        "\n",
        "        total_loss += loss.item()\n",
        "\n",
        "    train_accs.append(accuracy(model, trainloader))\n",
        "    test_accs.append(accuracy(model, testloader))\n",
        "\n",
        "    print(f\"Epoch {epoch:3d} | Loss: {total_loss}\")"
      ]
    },
    {
      "cell_type": "code",
      "execution_count": null,
      "metadata": {
        "id": "zIbjo1rAWCu3"
      },
      "outputs": [],
      "source": [
        "import numpy as np\n",
        "import matplotlib.pyplot as plt\n",
        "\n",
        "\n",
        "def plot_acc(train_accs, test_accs, label1=\"train\", label2=\"test\"):\n",
        "    x = np.arange(len(train_accs))\n",
        "\n",
        "    plt.plot(x, train_accs, label=label1)\n",
        "    plt.plot(x, test_accs, label=label2)\n",
        "    plt.legend()\n",
        "    plt.show()"
      ]
    },
    {
      "cell_type": "code",
      "execution_count": 10,
      "metadata": {
        "colab": {
          "base_uri": "https://localhost:8080/",
          "height": 430
        },
        "id": "nh1cqMM3fxbm",
        "outputId": "200d55af-43ee-41f9-f037-5cda2fd9e4a0"
      },
      "outputs": [
        {
          "data": {
            "image/png": "[encoded data removed]",
            "text/plain": [
              "<Figure size 640x480 with 1 Axes>"
            ]
          },
          "metadata": {},
          "output_type": "display_data"
        }
      ],
      "source": [
        "plot_acc(train_accs, test_accs)"
      ]
    }
  ],
  "metadata": {
    "accelerator": "GPU",
    "colab": {
      "gpuType": "T4",
      "provenance": []
    },
    "kernelspec": {
      "display_name": "Python 3",
      "name": "python3"
    },
    "language_info": {
      "name": "python"
    }
  },
  "nbformat": 4,
  "nbformat_minor": 0
}
