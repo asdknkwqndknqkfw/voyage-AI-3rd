{
  "nbformat": 4,
  "nbformat_minor": 0,
  "metadata": {
    "colab": {
      "provenance": []
    },
    "kernelspec": {
      "name": "python3",
      "display_name": "Python 3"
    },
    "language_info": {
      "name": "python"
    }
  },
  "cells": [
    {
      "cell_type": "code",
      "execution_count": 1,
      "metadata": {
        "id": "TwaANvAGIwl4"
      },
      "outputs": [],
      "source": [
        "!pip install langchain-community langchain-chroma langchain-openai bs4 > /dev/null"
      ]
    },
    {
      "cell_type": "code",
      "source": [
        "from langchain import hub\n",
        "from langchain_chroma import Chroma\n",
        "from langchain_openai import ChatOpenAI\n",
        "from langchain_openai import OpenAIEmbeddings\n",
        "from langchain_community.document_loaders import WebBaseLoader\n",
        "from langchain_text_splitters import RecursiveCharacterTextSplitter\n",
        "from google.colab import userdata\n",
        "\n",
        "import bs4\n",
        "\n",
        "api_key = userdata.get('API_KEY')"
      ],
      "metadata": {
        "colab": {
          "base_uri": "https://localhost:8080/"
        },
        "id": "lrlcWNMyI0HQ",
        "outputId": "ad875228-cef1-4d10-9318-e889429b1d5d"
      },
      "execution_count": 2,
      "outputs": [
        {
          "output_type": "stream",
          "name": "stderr",
          "text": [
            "WARNING:langchain_community.utils.user_agent:USER_AGENT environment variable not set, consider setting it to identify your requests.\n"
          ]
        }
      ]
    },
    {
      "cell_type": "code",
      "source": [
        "llm = ChatOpenAI(model=\"gpt-4o-mini\", api_key=api_key)"
      ],
      "metadata": {
        "id": "gdjtGqsgI2Ub"
      },
      "execution_count": 3,
      "outputs": []
    },
    {
      "cell_type": "code",
      "source": [
        "loader = WebBaseLoader(\n",
        "    web_paths=(\"https://spartacodingclub.kr/blog/all-in-challenge_winner\",),\n",
        "    bs_kwargs=dict(\n",
        "        parse_only=bs4.SoupStrainer(\"section\", class_=\"css-18vt64m\")\n",
        "    )\n",
        ")\n",
        "docs = loader.load()"
      ],
      "metadata": {
        "id": "qhuzvEYGI4Yq"
      },
      "execution_count": 6,
      "outputs": []
    },
    {
      "cell_type": "code",
      "source": [
        "text_splitter = RecursiveCharacterTextSplitter(\n",
        "    chunk_size=1000,\n",
        "    chunk_overlap=200\n",
        ")\n",
        "splits = text_splitter.split_documents(docs)\n",
        "vectorstore = Chroma.from_documents(\n",
        "    documents=splits,\n",
        "    embedding=OpenAIEmbeddings(api_key=api_key)\n",
        ")"
      ],
      "metadata": {
        "id": "ewqNBMS_I7zB"
      },
      "execution_count": 7,
      "outputs": []
    },
    {
      "cell_type": "code",
      "source": [
        "retriever = vectorstore.as_retriever()\n",
        "\n",
        "user_msg = \"ALL-in 코딩 공모전 수상작들을 요약해줘.\"\n",
        "retrieved_docs = retriever.invoke(user_msg)\n",
        "\n",
        "def format_docs(docs):\n",
        "    return \"\\n\\n\".join(doc.page_content for doc in docs)\n",
        "prompt = hub.pull(\"rlm/rag-prompt\")\n",
        "\n",
        "user_prompt = prompt.invoke({\"context\": format_docs(retrieved_docs), \"question\": user_msg})\n",
        "print(user_prompt)"
      ],
      "metadata": {
        "colab": {
          "base_uri": "https://localhost:8080/"
        },
        "id": "dKwUiRrPJMq1",
        "outputId": "968d8268-0d5a-455c-fd71-0f3b2e8b27b2"
      },
      "execution_count": 8,
      "outputs": [
        {
          "output_type": "stream",
          "name": "stderr",
          "text": [
            "/usr/local/lib/python3.11/dist-packages/langsmith/client.py:280: LangSmithMissingAPIKeyWarning: API key must be provided when using hosted LangSmith API\n",
            "  warnings.warn(\n"
          ]
        },
        {
          "output_type": "stream",
          "name": "stdout",
          "text": [
            "messages=[HumanMessage(content=\"You are an assistant for question-answering tasks. Use the following pieces of retrieved context to answer the question. If you don't know the answer, just say that you don't know. Use three sentences maximum and keep the answer concise.\\nQuestion: ALL-in 코딩 공모전 수상작들을 요약해줘. \\nContext: ì‹¶ì�€ ëˆ„êµ¬ë‚˜ì—�ê²Œ ì—´ë\\xa0¤ ì�ˆìœ¼ë‹ˆ ì£¼ì\\xa0€ë§�ê³\\xa0 ë�„ì\\xa0„í•´ ë³´ì„¸ìš”.ğŸ’¡<All-in> ì½”ë”© ê³µëª¨ì\\xa0„ì—�ì„œ ë§Œë“\\xa0 ë‹¤ì–‘í•œ ì„œë¹„ìŠ¤ë¥¼ ë§Œë‚˜ë³´ê³\\xa0 ì‹¶ë‹¤ë©´?ë‹¤ì–‘í•œ ì„œë¹„ìŠ¤ì™€ ê¸°ë°œí•œ ì•„ì�´ë””ì–´ê°€ ëª¨ì�¸ ê³³ì—� ì´ˆëŒ€í•©ë‹ˆë‹¤. ì°¸ê°€ì��ë“¤ì�˜ ë¬¸ì\\xa0œ í•´ê²°ë°©ë²•ì�´ ê¶�ê¸ˆí•˜ì‹œë‹¤ë©´ ì§€ê¸ˆ ë°”ë¡œ â€˜All-in ê³µëª¨ì\\xa0„â€™ì—�ì„œ ë§Œë‚˜ë³´ì„¸ìš”!ğŸ‘‰ğŸ�»Â\\xa0ê³µëª¨ì\\xa0„ ê²°ê³¼ë¬¼ ë³´ëŸ¬ê°€ê¸°ëˆ„êµ¬ë‚˜ í�°ì�¼ ë‚¼ ìˆ˜ ì�ˆì–´ìŠ¤íŒŒë¥´íƒ€ì½”ë”©í�´ëŸ½ê¸€ | ì‹\\xa0ìˆ˜ì§€ íŒ€ìŠ¤íŒŒë¥´íƒ€ ì—�ë””í„°- í•´ë‹¹ ì½˜í…�ì¸\\xa0ëŠ” ì\\xa0€ì�‘ê¶Œë²•ì—� ì�˜í•´ ë³´í˜¸ë°›ëŠ” ì\\xa0€ì�‘ë¬¼ë¡œ ìŠ¤íŒŒë¥´íƒ€ì½”ë”©í�´ëŸ½ì—� ì\\xa0€ì�‘ê¶Œì�´ ì�ˆìŠµë‹ˆë‹¤.- í•´ë‹¹ ì½˜í…�ì¸\\xa0ëŠ” ì‚¬ì\\xa0„ ë�™ì�˜ ì—†ì�´ 2ì°¨ ê°€ê³µ ë°� ì˜�ë¦¬ì\\xa0�ì�¸ ì�´ìš©ì�„ ê¸ˆí•˜ê³\\xa0 ì�ˆìŠµë‹ˆë‹¤.ë‚´ìš©ì�´ ìœ\\xa0ì�µí•˜ì…¨ë‹¤ë©´? ê³µìœ\\xa0í•˜ê¸°\\n\\nì¤‘ìš”í•œ ì†Œí†µ ëŠ¥ë\\xa0¥ì�„ ê¸°ë¥¼ ìˆ˜ ì�ˆëŠ” ë¬¸í™”ì�˜ ì�¥ìœ¼ë¡œ ì“°ì�¼ ìˆ˜ ì�ˆê²\\xa0ì£\\xa0!ì‚¬ìš©í•œ ê¸°ìˆ\\xa0 ìŠ¤íƒ�-FE(í”„ë¡\\xa0íŠ¸ì—”ë“œ): Spring Boot, MySQL, Spring WebSocket-BE(ë°±ì—”ë“œ): React Native, TanStack Query, Axiosì½”ë”© ê³µëª¨ì\\xa0„ ìˆ˜ìƒ�ì�‘ì�€ ëŒ€í•™ìƒ�ë“¤ì�˜ íŒ€í”„ë¡œì\\xa0�íŠ¸ë¥¼ í†µí•´ ë§Œë“¤ì–´ì§„ ì›¹/ì•± ì„œë¹„ìŠ¤ì�…ë‹ˆë‹¤. ìº\\xa0í�¼ìŠ¤ì—�ì„œì�˜ ë¬¸ì\\xa0œë¥¼ í•´ê²°í•˜ì��ëŠ” ì°¸ê°€ì��ë“¤ì�˜ ì•„ì�´ë””ì–´ì—�ì„œ ì‹œì�‘ë�˜ì—ˆì£\\xa0. ëˆ„êµ¬ë‚˜ ì„¸ìƒ�ì—� ì„\\xa0ë³´ì�´ê³\\xa0 ì‹¶ì�€ ë‚˜ë§Œì�˜ ì•„ì�´ë””ì–´ì™€ ê¸°ì´ˆ ì½”ë”© ê¸°ìˆ\\xa0ë§Œ í™œìš©í•œë‹¤ë©´, ì–¼ë§ˆë“\\xa0ì§€ ì„œë¹„ìŠ¤ë¥¼ ë§Œë“¤ ìˆ˜ ì�ˆìŠµë‹ˆë‹¤. ìŠ¤íŒŒë¥´íƒ€ì½”ë”©í�´ëŸ½ì�˜ ë‚´ì�¼ë°°ì›€ìº\\xa0í”„ì—�ì„œëŠ” ë¹„ì\\xa0„ê³µ, ì´ˆë³´ì��ë�„ ì›¹/ì•± ê°œë°œì��ë¡œ ê±°ë“\\xadë‚\\xa0 ìˆ˜ ì�ˆëŠ” ë‹¤ì–‘í•œ íŠ¸ë�™ì�´ ì¤€ë¹„ë�¼ ì�ˆìŠµë‹ˆë‹¤. ë‚˜ë§Œì�˜ ì•„ì�´ë””ì–´ë¥¼ ì„¸ìƒ�ì—� ì„\\xa0ë³´ì�´ê³\\xa0 ì‹¶ì�€ ëˆ„êµ¬ë‚˜ì—�ê²Œ ì—´ë\\xa0¤ ì�ˆìœ¼ë‹ˆ ì£¼ì\\xa0€ë§�ê³\\xa0 ë�„ì\\xa0„í•´ ë³´ì„¸ìš”.ğŸ’¡<All-in> ì½”ë”© ê³µëª¨ì\\xa0„ì—�ì„œ ë§Œë“\\xa0 ë‹¤ì–‘í•œ ì„œë¹„ìŠ¤ë¥¼ ë§Œë‚˜ë³´ê³\\xa0 ì‹¶ë‹¤ë©´?ë‹¤ì–‘í•œ ì„œë¹„ìŠ¤ì™€ ê¸°ë°œí•œ\\n\\nNoteê°€ ìš”ê¸´í•œ í•™ìŠµ ë�„ìš°ë¯¸ê°€ ë�˜ì—ˆê¸° ë•Œë¬¸ì�…ë‹ˆë‹¤.ì‚¬ìš©í•œ ê¸°ìˆ\\xa0 ìŠ¤íƒ� -FE(í”„ë¡\\xa0íŠ¸ì—”ë“œ): React, Tesseract.js, React-Quill, HTML, CSS, JavaScript-BE(ë°±ì—”ë“œ): Java, Spring Boot, MariaDBğŸ�–ï¸�Â\\xa0ìš°ìˆ˜ìƒ�[ìš°ë¦¬ì§‘ í�ˆì–´ë¡œì¦ˆ] ë²Œë\\xa0ˆ í‡´ì¹˜ ì˜�ì›… ë§¤ì¹\\xad ì„œë¹„ìŠ¤ì„œë¹„ìŠ¤ ì\\xa0œì�‘ì��: ì�¸íŠ¸(ë°°ì\\xa0•ì—°, í•œì§€ìˆ˜)ğŸ’¡CëŠ” ì�´ë²ˆ í•™ê¸° ì²˜ì�Œìœ¼ë¡œ ì��ì·¨ë¥¼ ì‹œì�‘í–ˆìŠµë‹ˆë‹¤. ì›�ë�˜ë¶€í„° ì�‘ì�€ ë²Œë\\xa0ˆì—� ë¯¼ê°�í–ˆë�˜ C. ì��ì·¨ë°©ì—�ì„œ ì��ì£¼ ë‚˜íƒ€ë‚˜ëŠ” ë²Œë\\xa0ˆë“¤ ë•Œë¬¸ì—� ë°¤ì�\\xa0ì�„ ì„¤ì¹˜ê¸¸ ë°˜ë³µí–ˆìŠµë‹ˆë‹¤. ë°¤ë§ˆë‹¤ ë²Œë\\xa0ˆë¥¼ ì�¡ìœ¼ë\\xa0¤ê³\\xa0 ì•\\xa0ì“°ë�˜ CëŠ” ì»¤ë®¤ë‹ˆí‹°ë¥¼ í†µí•´ ë‹¤ë¥¸ í•™ìƒ�ë“¤ë�„ ê°™ì�€ ë¬¸ì\\xa0œë¥¼ ê²ªê³\\xa0 ì�ˆë‹¤ëŠ” ê²ƒì�„ ì•Œê²Œ ë�˜ì—ˆìŠµë‹ˆë‹¤. í•˜ì§€ë§Œ ì»¤ë®¤ë‹ˆí‹°ì—�ì„œ ë²Œë\\xa0ˆ í‡´ì¹˜ í�ˆì–´ë¡œë¥¼ ì°¾ê¸° ìœ„í•´ì„œëŠ” ë‚´ ê°œì�¸ ì\\xa0•ë³´ë¥¼ ë…¸ì¶œí•´ì•¼ í•œë‹¤ëŠ” ì\\xa0�ì�´ ì°�ì°�í–ˆì£\\xa0.ì�´ ë¬¸ì\\xa0œë¥¼ í•´ê²°í•\\xa0 ìˆ˜ ì�ˆëŠ” ë°©ë²•ì�´ ë°”ë¡œ <ìš°ë¦¬ì§‘ í�ˆì–´ë¡œì¦ˆ> ì„œë¹„ìŠ¤ì�…ë‹ˆë‹¤. ëŒ€í•™ìƒ� ì��ì·¨ìƒ�ë“¤ì�´ ì��ì·¨ë°©ì—�ì„œ ê²ªëŠ” ë²Œë\\xa0ˆ\\n\\nì‹¤ì‹œê°„ìœ¼ë¡œ í•™ìƒ�ë“¤ì�˜ ì�´í•´ë�„ë¥¼ íŒŒì•…í•\\xa0 ìˆ˜ ì�ˆìŠµë‹ˆë‹¤. ìˆ˜ì—… ì¤‘ ë˜�ëŠ” í›„ì—� êµ�ìˆ˜ì��ê°€ ìˆ˜ì—…ì—� ëŒ€í•œ í”¼ë“œë°±ì�„ ë°›ì�„ ìˆ˜ ì�ˆëŠ” í�‰ê°€ ê¸°ëŠ¥ê³¼ í•™ìƒ�ì�˜ ì�´í•´ë�„ë¥¼ í…ŒìŠ¤íŠ¸ í•\\xa0 ìˆ˜ ì�ˆëŠ” í€´ì¦ˆ ìƒ�ì„± ê¸°ëŠ¥ì�´ ì�ˆì–´ í•„ìš”í•œ ê²½ìš° ìˆ˜ì—… ì†�ë�„ë¥¼ ì¡°ì\\xa0ˆí•˜ê³\\xa0 ì¶”ê°€ ì„¤ëª…ì�„ í•\\xa0 ìˆ˜ ì�ˆì–´ìš”.ì‚¬ìš©í•œ ê¸°ìˆ\\xa0 ìŠ¤íƒ� -FE(í”„ë¡\\xa0íŠ¸ì—”ë“œ): Flutter, Socket.IO, Expo CLI, Axios, TanStack Query-BE(ë°±ì—”ë“œ): Spring Boot, Spring Security, JWT, MySQL, Spring WebSocket, AWSğŸ�…Â\\xa0ì�…ì„\\xa0[Crewing] ì—°í•©ë�™ì•„ë¦¬ ì\\xa0•ë³´ í”Œë�«í�¼ì„œë¹„ìŠ¤ ì\\xa0œì�‘ì��: ë�™í•™ëŒ€í•™ìš´ë�™(ê¹€ë¯¼ì•„, ì�„ê²½ì§„, ì‹\\xa0ì�€í˜œ, ê³\\xa0ìˆ˜)ğŸ’¡ì‹\\xa0ì�…ìƒ�ì�¸ SëŠ” ëŒ€í•™ ìƒ�í™œì�„ ì•Œì°¨ê²Œ ë³´ë‚´ê³\\xa0 ì‹¶ì–´ì„œ ì—°í•© ë�™ì•„ë¦¬ì—� ê°€ì�…í•˜ë\\xa0¤ê³\\xa0 í–ˆì§€ë§Œ ì–´ë–¤ ë�™ì•„ë¦¬ê°€ ì��ì‹\\xa0ì—�ê²Œ ë§�ì�„ì§€ ê³\\xa0ë¯¼ì�´ ë§�ì•˜ìŠµë‹ˆë‹¤. ì�¸í„°ë„·ì—� ê²€ìƒ‰í•´ë³´ë‹ˆ ì—°í•© ë�™ì•„ë¦¬ í›„ê¸°ëŠ” ëŒ€ë¶€ë¶„ ì—¬ê¸°ì\\xa0€ê¸° í�©ì–´ì\\xa0¸ ì�ˆê³\\xa0, ì‹\\xa0ë¢°í•\\xa0 ë§Œí•œ ì\\xa0•ë³´ë¥¼ ì°¾ê¸° ì–´ë\\xa0¤ì›\\xa0ìŠµë‹ˆë‹¤.<Crewing>ì�€ \\nAnswer:\", additional_kwargs={}, response_metadata={})]\n"
          ]
        }
      ]
    },
    {
      "cell_type": "code",
      "source": [
        "response = llm.invoke(user_prompt)\n",
        "print(response.content)"
      ],
      "metadata": {
        "colab": {
          "base_uri": "https://localhost:8080/"
        },
        "id": "bqHKsIyUJc_m",
        "outputId": "eb7b4cec-1fa7-4bdf-8a98-00394e707bc0"
      },
      "execution_count": 9,
      "outputs": [
        {
          "output_type": "stream",
          "name": "stdout",
          "text": [
            "ALL-in 코딩 공모전의 수상작들은 다양한 기술 스택을 활용하여 웹 및 모바일 애플리케이션을 개발한 프로젝트들입니다. 수상작들은 프론트엔드에서 React, Spring Boot, Flutter 등 현대적인 프레임워크를 사용했고, 백엔드에서는 Java, MySQL 등 다양한 기술을 접목하여 효율적인 시스템을 구현했습니다. 각 프로젝트는 창의적이고 실용적인 접근 방식을 보여주며, 개별적인 주제와 기능을 가지고 있어 참가자들의 다채로운 아이디어를 반영하였습니다.\n"
          ]
        }
      ]
    },
    {
      "cell_type": "code",
      "source": [],
      "metadata": {
        "id": "pSXxCzCNJfIO"
      },
      "execution_count": null,
      "outputs": []
    }
  ]
}