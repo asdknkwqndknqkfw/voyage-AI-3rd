{
  "cells": [
    {
      "cell_type": "markdown",
      "source": [
        "# DistilBERT fine-tuning으로 감정 분석 모델 학습하기\n",
        "\n",
        "이번 실습에서는 pre-trained된 DistilBERT를 불러와 이전 주차 실습에서 사용하던 감정 분석 문제에 적용합니다. 먼저 필요한 library들을 불러옵니다."
      ],
      "metadata": {
        "id": "sbgz49PvHhLt"
      }
    },
    {
      "cell_type": "code",
      "execution_count": 1,
      "metadata": {
        "id": "1LqgujQUbv6X",
        "collapsed": true
      },
      "outputs": [],
      "source": [
        "!pip install -q tqdm boto3 requests regex sentencepiece sacremoses datasets"
      ]
    },
    {
      "cell_type": "markdown",
      "source": [
        "그 후, 우리가 사용하는 DistilBERT pre-training 때 사용한 tokenizer를 불러옵니다."
      ],
      "metadata": {
        "id": "6YP3FxG9IF7O"
      }
    },
    {
      "cell_type": "code",
      "execution_count": 2,
      "metadata": {
        "colab": {
          "base_uri": "https://localhost:8080/"
        },
        "id": "6lGiZUoPby6e",
        "outputId": "d25d2bc7-53f5-40d0-aa8c-1632fb837af2"
      },
      "outputs": [
        {
          "output_type": "stream",
          "name": "stderr",
          "text": [
            "Using cache found in /root/.cache/torch/hub/huggingface_pytorch-transformers_main\n",
            "/usr/local/lib/python3.11/dist-packages/huggingface_hub/utils/_auth.py:94: UserWarning: \n",
            "The secret `HF_TOKEN` does not exist in your Colab secrets.\n",
            "To authenticate with the Hugging Face Hub, create a token in your settings tab (https://huggingface.co/settings/tokens), set it as secret in your Google Colab and restart your session.\n",
            "You will be able to reuse this secret in all of your notebooks.\n",
            "Please note that authentication is recommended but still optional to access public models or datasets.\n",
            "  warnings.warn(\n"
          ]
        }
      ],
      "source": [
        "import torch\n",
        "from torch.utils.data import DataLoader\n",
        "\n",
        "# DistilBERT 모델용 tokenizer 로드 (pretrained)\n",
        "# 이 tokenizer는 문장을 토큰화해서 모델이 이해할 수 있는 input_ids로 변환해줌\n",
        "tokenizer = torch.hub.load('huggingface/pytorch-transformers', 'tokenizer', 'distilbert-base-uncased')"
      ]
    },
    {
      "cell_type": "code",
      "source": [
        "import kagglehub\n",
        "\n",
        "# Download latest version\n",
        "path = kagglehub.dataset_download(\"thedevastator/unlocking-language-understanding-with-the-multin\")\n",
        "\n",
        "print(\"Path to dataset files:\", path)"
      ],
      "metadata": {
        "colab": {
          "base_uri": "https://localhost:8080/"
        },
        "id": "ovQfYWvtybd8",
        "outputId": "a5d2f216-6ae7-4905-dc85-ffdc994f0f46"
      },
      "execution_count": 3,
      "outputs": [
        {
          "output_type": "stream",
          "name": "stdout",
          "text": [
            "Path to dataset files: /kaggle/input/unlocking-language-understanding-with-the-multin\n"
          ]
        }
      ]
    },
    {
      "cell_type": "markdown",
      "source": [
        "## Test data는 validation_matched.csv를 활용하시면 되고, colab으로 불러오는 것은 다음 코드를 참조해주시면 됩니다:"
      ],
      "metadata": {
        "id": "vCsifyTwy-86"
      }
    },
    {
      "cell_type": "code",
      "source": [
        "import random\n",
        "import pandas as pd\n",
        "\n",
        "\n",
        "def load_data(path, nrows=None):\n",
        "  df = pd.read_csv(path, nrows=nrows, keep_default_na=False)\n",
        "  data = []\n",
        "  for _, row in df.iterrows():\n",
        "    if len(row['premise']) * len(row['hypothesis']) != 0:\n",
        "      data.append({'premise': row['premise'], 'hypothesis': row['hypothesis'], 'label': row['label']})\n",
        "\n",
        "  return data\n",
        "\n",
        "# 경로 : load_data(path + '/불러올파일명.csv', nrows=1000)\n",
        "train_ds = load_data(path+'/train.csv', nrows=1000)\n",
        "test_ds = load_data(path+'/validation_matched.csv', nrows=1000)"
      ],
      "metadata": {
        "id": "WkxovxGjy9Ab"
      },
      "execution_count": 4,
      "outputs": []
    },
    {
      "cell_type": "markdown",
      "source": [
        "DistilBERT의 tokenizer를 불러왔으면 이제 `collate_fn`과 data loader를 정의합니다. 이 과정은 이전 실습과 동일하게 다음과 같이 구현할 수 있습니다."
      ],
      "metadata": {
        "id": "Cvfl_uFLIMWO"
      }
    },
    {
      "cell_type": "code",
      "source": [
        "# IMDB 감정 분석 데이터셋의 5%만 로드 (학습 데이터와 테스트 데이터 각각)\n",
        "# train_ds = load_dataset(\"stanfordnlp/imdb\", split=\"train[:5%]\")\n",
        "# test_ds = load_dataset(\"stanfordnlp/imdb\", split=\"test[:5%]\")\n",
        "\n",
        "# 데이터를 배치로 묶기 위한 함수 정의\n",
        "def collate_fn(batch):\n",
        "    max_len = 400  # 입력 문장의 최대 길이 설정\n",
        "    premises, hypotheses, labels = [], [], []  # 입력 문장들과 라벨들을 저장할 리스트\n",
        "\n",
        "    # 배치 내 각 샘플에 대해 text와 label 추출\n",
        "    for row in batch:\n",
        "        # print(f'row: {row}')\n",
        "        # premise와 hypothesis 분리 처리\n",
        "        premises.append(row['premise'])\n",
        "        hypotheses.append(row['hypothesis'])\n",
        "        labels.append(row['label'])\n",
        "\n",
        "    # tokenizer로 문장 쌍을 토큰화하고, 최대 길이로 패딩 및 자르기\n",
        "    # MNLI는 두 문장을 함께 인코딩해야 함\n",
        "    inputs = tokenizer(\n",
        "        premises,\n",
        "        hypotheses,\n",
        "        padding=True,\n",
        "        truncation=True,\n",
        "        max_length=max_len,\n",
        "        return_tensors='pt'\n",
        "    )\n",
        "\n",
        "    # 라벨 리스트를 LongTensor로 변환\n",
        "    labels = torch.LongTensor(labels)\n",
        "\n",
        "    # 모델 학습에 필요한 입력 (토큰화된 문장들)과 정답 라벨 반환\n",
        "    return inputs, labels\n",
        "\n",
        "# 학습용 DataLoader 정의 (shuffle=True로 배치 순서 랜덤화)\n",
        "train_loader = DataLoader(\n",
        "    train_ds, batch_size=64, shuffle=True, collate_fn=collate_fn\n",
        ")\n",
        "\n",
        "# 테스트용 DataLoader 정의 (shuffle=False로 배치 순서 고정)\n",
        "test_loader = DataLoader(\n",
        "    test_ds, batch_size=64, shuffle=False, collate_fn=collate_fn\n",
        ")"
      ],
      "metadata": {
        "id": "rE-y8sY9HuwP"
      },
      "execution_count": 5,
      "outputs": []
    },
    {
      "cell_type": "markdown",
      "source": [
        "이제 pre-trained DistilBERT를 불러옵니다. 이번에는 PyTorch hub에서 제공하는 DistilBERT를 불러봅시다."
      ],
      "metadata": {
        "id": "bF34XkoYIeEm"
      }
    },
    {
      "cell_type": "code",
      "execution_count": 6,
      "metadata": {
        "colab": {
          "base_uri": "https://localhost:8080/"
        },
        "id": "HJaUp2Vob0U-",
        "outputId": "64265238-6358-4437-a9da-ea6d3eb74f4d"
      },
      "outputs": [
        {
          "output_type": "stream",
          "name": "stderr",
          "text": [
            "Using cache found in /root/.cache/torch/hub/huggingface_pytorch-transformers_main\n"
          ]
        },
        {
          "output_type": "execute_result",
          "data": {
            "text/plain": [
              "DistilBertModel(\n",
              "  (embeddings): Embeddings(\n",
              "    (word_embeddings): Embedding(30522, 768, padding_idx=0)\n",
              "    (position_embeddings): Embedding(512, 768)\n",
              "    (LayerNorm): LayerNorm((768,), eps=1e-12, elementwise_affine=True)\n",
              "    (dropout): Dropout(p=0.1, inplace=False)\n",
              "  )\n",
              "  (transformer): Transformer(\n",
              "    (layer): ModuleList(\n",
              "      (0-5): 6 x TransformerBlock(\n",
              "        (attention): DistilBertSdpaAttention(\n",
              "          (dropout): Dropout(p=0.1, inplace=False)\n",
              "          (q_lin): Linear(in_features=768, out_features=768, bias=True)\n",
              "          (k_lin): Linear(in_features=768, out_features=768, bias=True)\n",
              "          (v_lin): Linear(in_features=768, out_features=768, bias=True)\n",
              "          (out_lin): Linear(in_features=768, out_features=768, bias=True)\n",
              "        )\n",
              "        (sa_layer_norm): LayerNorm((768,), eps=1e-12, elementwise_affine=True)\n",
              "        (ffn): FFN(\n",
              "          (dropout): Dropout(p=0.1, inplace=False)\n",
              "          (lin1): Linear(in_features=768, out_features=3072, bias=True)\n",
              "          (lin2): Linear(in_features=3072, out_features=768, bias=True)\n",
              "          (activation): GELUActivation()\n",
              "        )\n",
              "        (output_layer_norm): LayerNorm((768,), eps=1e-12, elementwise_affine=True)\n",
              "      )\n",
              "    )\n",
              "  )\n",
              ")"
            ]
          },
          "metadata": {},
          "execution_count": 6
        }
      ],
      "source": [
        "#DistilBERT 모델을 PyTorch Hub에서 로드 후 model 출력\n",
        "model = torch.hub.load('huggingface/pytorch-transformers', 'model', 'distilbert-base-uncased')\n",
        "model"
      ]
    },
    {
      "cell_type": "markdown",
      "source": [
        "출력 결과를 통해 우리는 DistilBERT의 architecture는 일반적인 Transformer와 동일한 것을 알 수 있습니다.\n",
        "Embedding layer로 시작해서 여러 layer의 Attention, FFN를 거칩니다.\n",
        "\n",
        "이제 DistilBERT를 거치고 난 `[CLS]` token의 representation을 가지고 text 분류를 하는 모델을 구현합시다."
      ],
      "metadata": {
        "id": "uh-tqY8WInQt"
      }
    },
    {
      "cell_type": "code",
      "execution_count": 7,
      "metadata": {
        "colab": {
          "base_uri": "https://localhost:8080/"
        },
        "id": "xW7ETZQzzNp2",
        "outputId": "da52a0bb-cba2-41cd-fca1-0f109863c9ec"
      },
      "outputs": [
        {
          "output_type": "stream",
          "name": "stderr",
          "text": [
            "Using cache found in /root/.cache/torch/hub/huggingface_pytorch-transformers_main\n"
          ]
        }
      ],
      "source": [
        "from torch import nn\n",
        "\n",
        "# 텍스트 분류 모델 정의 (DistilBERT + Linear layer)\n",
        "class TextClassifier(nn.Module):\n",
        "    def __init__(self):\n",
        "        super().__init__()\n",
        "\n",
        "        # 사전학습된 DistilBERT 모델을 encoder로 불러옴 (pretrained transformer)\n",
        "        self.encoder = torch.hub.load('huggingface/pytorch-transformers', 'model', 'distilbert-base-uncased')\n",
        "\n",
        "        # [CLS] 토큰 분류기 정의(3 클래스: entailment, neutral, contradiction)\n",
        "        self.classifier = nn.Linear(768, 3)\n",
        "\n",
        "        # 드롭아웃 추가\n",
        "        self.dropout = nn.Dropout(0.1)\n",
        "\n",
        "    def forward(self, x):\n",
        "        # encoder에 input_ids 전달\n",
        "        x = self.encoder(**x)['last_hidden_state']\n",
        "\n",
        "        x = self.dropout(x)\n",
        "\n",
        "        # [CLS] 토큰 위치 벡터를 classification head에 전달\n",
        "        x = self.classifier(x[:, 0])\n",
        "\n",
        "        return x  # logit 출력\n",
        "\n",
        "model = TextClassifier()"
      ]
    },
    {
      "cell_type": "markdown",
      "source": [
        "위와 같이 `TextClassifier`의 `encoder`를 불러온 DistilBERT, 그리고 `classifier`를 linear layer로 설정합니다.\n",
        "그리고 `forward` 함수에서 순차적으로 사용하여 예측 결과를 반환합니다.\n",
        "\n",
        "다음은 마지막 classifier layer를 제외한 나머지 부분을 freeze하는 코드를 구현합니다."
      ],
      "metadata": {
        "id": "_hFvSis0JLju"
      }
    },
    {
      "cell_type": "code",
      "execution_count": 8,
      "metadata": {
        "id": "uyTciaPZ0KYo"
      },
      "outputs": [],
      "source": [
        "for param in model.encoder.parameters():\n",
        "  param.requires_grad = False"
      ]
    },
    {
      "cell_type": "code",
      "source": [
        "def accuracy(model, dataloader):\n",
        "    cnt = 0      # 전체 샘플 수\n",
        "    acc = 0      # 정답 개수 누적\n",
        "\n",
        "    for data in dataloader:\n",
        "        inputs, labels = data\n",
        "        inputs, labels = inputs.to('cuda'), labels.to('cuda')\n",
        "\n",
        "        preds = model(inputs)  # 로짓(logit) 출력\n",
        "\n",
        "        # 시그모이드는 생략 가능 (BCEWithLogitsLoss를 썼다면 threshold만 적용)\n",
        "        preds = torch.argmax(preds, dim=-1)\n",
        "        # preds = (preds > 0).long()[..., 0]\n",
        "\n",
        "        cnt += labels.shape[0]  # 총 샘플 수 누적\n",
        "        acc += (labels == preds).sum().item()  # 예측이 맞은 수 누적\n",
        "\n",
        "    return acc / cnt  # 정확도 반환\n"
      ],
      "metadata": {
        "id": "M6fPWszH2io6"
      },
      "execution_count": 9,
      "outputs": []
    },
    {
      "cell_type": "markdown",
      "source": [
        "위의 코드는 `encoder`에 해당하는 parameter들의 `requires_grad`를 `False`로 설정하는 모습입니다.\n",
        "`requires_grad`를 `False`로 두는 경우, gradient 계산 및 업데이트가 이루어지지 않아 결과적으로 학습이 되지 않습니다.\n",
        "즉, 마지막 `classifier`에 해당하는 linear layer만 학습이 이루어집니다.\n",
        "이런 식으로 특정 부분들을 freeze하게 되면 효율적으로 학습을 할 수 있습니다.\n",
        "\n",
        "마지막으로 이전과 같은 코드를 사용하여 학습 결과를 확인해봅시다."
      ],
      "metadata": {
        "id": "hU7BWEbgJeKm"
      }
    },
    {
      "cell_type": "code",
      "execution_count": 10,
      "metadata": {
        "id": "XvvaAEwCznt-"
      },
      "outputs": [],
      "source": [
        "from torch.optim import Adam\n",
        "import numpy as np\n",
        "import matplotlib.pyplot as plt\n",
        "\n",
        "# 학습 설정\n",
        "lr = 0.001\n",
        "model = model.to('cuda')  # 모델을 GPU로 이동\n",
        "# loss_fn = nn.BCEWithLogitsLoss()  # 이진 분류용 손실 함수\n",
        "loss_fn = nn.CrossEntropyLoss()\n",
        "\n",
        "optimizer = Adam(model.parameters(), lr=lr)"
      ]
    },
    {
      "cell_type": "code",
      "source": [
        "# 학습 루프 함수\n",
        "def train_model(model, train_loader, test_loader, optimizer, loss_fn, n_epochs=5):\n",
        "    # 측정값 저장을 위한 리스트 생성\n",
        "    epoch_losses = []\n",
        "    train_accuracies = []\n",
        "    test_accuracies = []\n",
        "\n",
        "    # 학습 루프\n",
        "    for epoch in range(n_epochs):\n",
        "        total_loss = 0.\n",
        "        model.train()  # 학습 모드 설정\n",
        "\n",
        "        for inputs, labels in train_loader:\n",
        "            model.zero_grad()  # 이전 gradient 초기화\n",
        "\n",
        "            # GPU로 이동\n",
        "            inputs = {k: v.to('cuda') for k, v in inputs.items()}\n",
        "            labels = labels.to('cuda')\n",
        "\n",
        "            # 예측 및 손실 계산\n",
        "            logits = model(inputs)\n",
        "            loss = loss_fn(logits, labels)\n",
        "\n",
        "            # 역전파 및 옵티마이저 단계\n",
        "            loss.backward()\n",
        "            optimizer.step()\n",
        "\n",
        "            total_loss += loss.item()  # loss 누적\n",
        "\n",
        "        # 각 에폭의 손실값 저장\n",
        "        epoch_losses.append(total_loss)\n",
        "\n",
        "        print(f\"Epoch {epoch+1:3d} | Train Loss: {total_loss:.4f}\")\n",
        "\n",
        "        # 평가\n",
        "        with torch.no_grad():\n",
        "            model.eval()  # 평가 모드로 전환\n",
        "            train_acc = evaluate(model, train_loader)\n",
        "            test_acc = evaluate(model, test_loader)\n",
        "\n",
        "            # 정확도 저장\n",
        "            train_accuracies.append(train_acc)\n",
        "            test_accuracies.append(test_acc)\n",
        "\n",
        "            print(f\"=========> Train acc: {train_acc:.4f} | Test acc: {test_acc:.4f}\")\n",
        "\n",
        "    return epoch_losses, train_accuracies, test_accuracies"
      ],
      "metadata": {
        "id": "Foks5u95ZQ1_"
      },
      "execution_count": 11,
      "outputs": []
    },
    {
      "cell_type": "code",
      "source": [
        "# 정확도 평가 함수\n",
        "def evaluate(model, dataloader):\n",
        "    correct = 0\n",
        "    total = 0\n",
        "\n",
        "    for inputs, labels in dataloader:\n",
        "        # GPU로 이동\n",
        "        inputs = {k: v.to('cuda') for k, v in inputs.items()}\n",
        "        labels = labels.to('cuda')\n",
        "\n",
        "        # 예측\n",
        "        outputs = model(inputs)\n",
        "        _, predicted = torch.max(outputs, 1)\n",
        "\n",
        "        # 정확도 계산\n",
        "        total += labels.size(0)\n",
        "        correct += (predicted == labels).sum().item()\n",
        "\n",
        "    return correct / total"
      ],
      "metadata": {
        "id": "DA2ASTdHx_T9"
      },
      "execution_count": 12,
      "outputs": []
    },
    {
      "cell_type": "code",
      "source": [
        "# 모델 학습 실행\n",
        "n_epochs = 100\n",
        "losses, train_accs, test_accs = train_model(\n",
        "    model, train_loader, test_loader, optimizer, loss_fn, n_epochs\n",
        ")"
      ],
      "metadata": {
        "colab": {
          "base_uri": "https://localhost:8080/"
        },
        "id": "Mah5hXdWyA4L",
        "outputId": "f328a235-c8a6-42e8-e12f-77275c378704"
      },
      "execution_count": 13,
      "outputs": [
        {
          "output_type": "stream",
          "name": "stdout",
          "text": [
            "Epoch   1 | Train Loss: 17.4509\n",
            "=========> Train acc: 0.4120 | Test acc: 0.3600\n",
            "Epoch   2 | Train Loss: 17.2631\n",
            "=========> Train acc: 0.4670 | Test acc: 0.3740\n",
            "Epoch   3 | Train Loss: 17.0840\n",
            "=========> Train acc: 0.4600 | Test acc: 0.3720\n",
            "Epoch   4 | Train Loss: 16.8067\n",
            "=========> Train acc: 0.4760 | Test acc: 0.3780\n",
            "Epoch   5 | Train Loss: 16.6946\n",
            "=========> Train acc: 0.5070 | Test acc: 0.3840\n",
            "Epoch   6 | Train Loss: 16.5163\n",
            "=========> Train acc: 0.5110 | Test acc: 0.3890\n",
            "Epoch   7 | Train Loss: 16.3485\n",
            "=========> Train acc: 0.5080 | Test acc: 0.3860\n",
            "Epoch   8 | Train Loss: 16.2579\n",
            "=========> Train acc: 0.5270 | Test acc: 0.3980\n",
            "Epoch   9 | Train Loss: 16.0873\n",
            "=========> Train acc: 0.5360 | Test acc: 0.3990\n",
            "Epoch  10 | Train Loss: 16.0513\n",
            "=========> Train acc: 0.5310 | Test acc: 0.4000\n",
            "Epoch  11 | Train Loss: 15.8696\n",
            "=========> Train acc: 0.5480 | Test acc: 0.4130\n",
            "Epoch  12 | Train Loss: 15.7800\n",
            "=========> Train acc: 0.5470 | Test acc: 0.4050\n",
            "Epoch  13 | Train Loss: 15.7702\n",
            "=========> Train acc: 0.5440 | Test acc: 0.4160\n",
            "Epoch  14 | Train Loss: 15.8008\n",
            "=========> Train acc: 0.5580 | Test acc: 0.4180\n",
            "Epoch  15 | Train Loss: 15.6943\n",
            "=========> Train acc: 0.5440 | Test acc: 0.4020\n",
            "Epoch  16 | Train Loss: 15.6041\n",
            "=========> Train acc: 0.5700 | Test acc: 0.4210\n",
            "Epoch  17 | Train Loss: 15.4430\n",
            "=========> Train acc: 0.5580 | Test acc: 0.4100\n",
            "Epoch  18 | Train Loss: 15.4492\n",
            "=========> Train acc: 0.5620 | Test acc: 0.4070\n",
            "Epoch  19 | Train Loss: 15.4613\n",
            "=========> Train acc: 0.5740 | Test acc: 0.4080\n",
            "Epoch  20 | Train Loss: 15.4399\n",
            "=========> Train acc: 0.5870 | Test acc: 0.4280\n",
            "Epoch  21 | Train Loss: 15.3270\n",
            "=========> Train acc: 0.5640 | Test acc: 0.4100\n",
            "Epoch  22 | Train Loss: 15.3199\n",
            "=========> Train acc: 0.5620 | Test acc: 0.4310\n",
            "Epoch  23 | Train Loss: 15.2141\n",
            "=========> Train acc: 0.5770 | Test acc: 0.4120\n",
            "Epoch  24 | Train Loss: 14.9940\n",
            "=========> Train acc: 0.5860 | Test acc: 0.4190\n",
            "Epoch  25 | Train Loss: 15.0682\n",
            "=========> Train acc: 0.5950 | Test acc: 0.4310\n",
            "Epoch  26 | Train Loss: 15.0144\n",
            "=========> Train acc: 0.5920 | Test acc: 0.4230\n",
            "Epoch  27 | Train Loss: 14.9242\n",
            "=========> Train acc: 0.6040 | Test acc: 0.4300\n",
            "Epoch  28 | Train Loss: 14.9174\n",
            "=========> Train acc: 0.5980 | Test acc: 0.4250\n",
            "Epoch  29 | Train Loss: 14.9525\n",
            "=========> Train acc: 0.6000 | Test acc: 0.4240\n",
            "Epoch  30 | Train Loss: 14.9807\n",
            "=========> Train acc: 0.6070 | Test acc: 0.4360\n",
            "Epoch  31 | Train Loss: 14.8390\n",
            "=========> Train acc: 0.5860 | Test acc: 0.4160\n",
            "Epoch  32 | Train Loss: 14.7884\n",
            "=========> Train acc: 0.6140 | Test acc: 0.4280\n",
            "Epoch  33 | Train Loss: 14.9865\n",
            "=========> Train acc: 0.5820 | Test acc: 0.4230\n",
            "Epoch  34 | Train Loss: 14.7756\n",
            "=========> Train acc: 0.6070 | Test acc: 0.4260\n",
            "Epoch  35 | Train Loss: 14.7418\n",
            "=========> Train acc: 0.6030 | Test acc: 0.4230\n",
            "Epoch  36 | Train Loss: 14.3577\n",
            "=========> Train acc: 0.6130 | Test acc: 0.4380\n",
            "Epoch  37 | Train Loss: 14.6630\n",
            "=========> Train acc: 0.6140 | Test acc: 0.4310\n",
            "Epoch  38 | Train Loss: 14.6259\n",
            "=========> Train acc: 0.6180 | Test acc: 0.4450\n",
            "Epoch  39 | Train Loss: 14.5020\n",
            "=========> Train acc: 0.6260 | Test acc: 0.4350\n",
            "Epoch  40 | Train Loss: 14.4966\n",
            "=========> Train acc: 0.6070 | Test acc: 0.4260\n",
            "Epoch  41 | Train Loss: 14.7058\n",
            "=========> Train acc: 0.6030 | Test acc: 0.4280\n",
            "Epoch  42 | Train Loss: 14.4885\n",
            "=========> Train acc: 0.6050 | Test acc: 0.4340\n",
            "Epoch  43 | Train Loss: 14.4242\n",
            "=========> Train acc: 0.6260 | Test acc: 0.4440\n",
            "Epoch  44 | Train Loss: 14.3680\n",
            "=========> Train acc: 0.6200 | Test acc: 0.4350\n",
            "Epoch  45 | Train Loss: 14.4772\n",
            "=========> Train acc: 0.6300 | Test acc: 0.4460\n",
            "Epoch  46 | Train Loss: 14.3392\n",
            "=========> Train acc: 0.6390 | Test acc: 0.4370\n",
            "Epoch  47 | Train Loss: 14.4422\n",
            "=========> Train acc: 0.6170 | Test acc: 0.4370\n",
            "Epoch  48 | Train Loss: 14.2113\n",
            "=========> Train acc: 0.6280 | Test acc: 0.4420\n",
            "Epoch  49 | Train Loss: 14.3854\n",
            "=========> Train acc: 0.6410 | Test acc: 0.4400\n",
            "Epoch  50 | Train Loss: 14.0083\n",
            "=========> Train acc: 0.6190 | Test acc: 0.4340\n",
            "Epoch  51 | Train Loss: 14.1120\n",
            "=========> Train acc: 0.6450 | Test acc: 0.4420\n",
            "Epoch  52 | Train Loss: 14.1612\n",
            "=========> Train acc: 0.6300 | Test acc: 0.4420\n",
            "Epoch  53 | Train Loss: 14.2760\n",
            "=========> Train acc: 0.6260 | Test acc: 0.4290\n",
            "Epoch  54 | Train Loss: 14.1838\n",
            "=========> Train acc: 0.6290 | Test acc: 0.4330\n",
            "Epoch  55 | Train Loss: 14.0066\n",
            "=========> Train acc: 0.6470 | Test acc: 0.4290\n",
            "Epoch  56 | Train Loss: 14.1540\n",
            "=========> Train acc: 0.6290 | Test acc: 0.4360\n",
            "Epoch  57 | Train Loss: 14.1909\n",
            "=========> Train acc: 0.6210 | Test acc: 0.4350\n",
            "Epoch  58 | Train Loss: 14.0351\n",
            "=========> Train acc: 0.6470 | Test acc: 0.4450\n",
            "Epoch  59 | Train Loss: 14.0963\n",
            "=========> Train acc: 0.6340 | Test acc: 0.4380\n",
            "Epoch  60 | Train Loss: 14.0366\n",
            "=========> Train acc: 0.6480 | Test acc: 0.4430\n",
            "Epoch  61 | Train Loss: 14.0673\n",
            "=========> Train acc: 0.6360 | Test acc: 0.4390\n",
            "Epoch  62 | Train Loss: 13.9147\n",
            "=========> Train acc: 0.6440 | Test acc: 0.4390\n",
            "Epoch  63 | Train Loss: 14.2606\n",
            "=========> Train acc: 0.6460 | Test acc: 0.4420\n",
            "Epoch  64 | Train Loss: 13.9054\n",
            "=========> Train acc: 0.6320 | Test acc: 0.4340\n",
            "Epoch  65 | Train Loss: 14.1553\n",
            "=========> Train acc: 0.6630 | Test acc: 0.4440\n",
            "Epoch  66 | Train Loss: 13.8729\n",
            "=========> Train acc: 0.6420 | Test acc: 0.4420\n",
            "Epoch  67 | Train Loss: 13.8726\n",
            "=========> Train acc: 0.6480 | Test acc: 0.4380\n",
            "Epoch  68 | Train Loss: 13.9693\n",
            "=========> Train acc: 0.6360 | Test acc: 0.4430\n",
            "Epoch  69 | Train Loss: 13.7684\n",
            "=========> Train acc: 0.6540 | Test acc: 0.4400\n",
            "Epoch  70 | Train Loss: 14.0361\n",
            "=========> Train acc: 0.6490 | Test acc: 0.4460\n",
            "Epoch  71 | Train Loss: 13.9882\n",
            "=========> Train acc: 0.6600 | Test acc: 0.4440\n",
            "Epoch  72 | Train Loss: 14.0051\n",
            "=========> Train acc: 0.6540 | Test acc: 0.4420\n",
            "Epoch  73 | Train Loss: 13.7430\n",
            "=========> Train acc: 0.6590 | Test acc: 0.4470\n",
            "Epoch  74 | Train Loss: 13.9613\n",
            "=========> Train acc: 0.6640 | Test acc: 0.4470\n",
            "Epoch  75 | Train Loss: 13.8930\n",
            "=========> Train acc: 0.6560 | Test acc: 0.4310\n",
            "Epoch  76 | Train Loss: 13.7208\n",
            "=========> Train acc: 0.6530 | Test acc: 0.4450\n",
            "Epoch  77 | Train Loss: 13.7546\n",
            "=========> Train acc: 0.6480 | Test acc: 0.4330\n",
            "Epoch  78 | Train Loss: 14.0218\n",
            "=========> Train acc: 0.6460 | Test acc: 0.4390\n",
            "Epoch  79 | Train Loss: 13.8074\n",
            "=========> Train acc: 0.6600 | Test acc: 0.4430\n",
            "Epoch  80 | Train Loss: 13.7910\n",
            "=========> Train acc: 0.6510 | Test acc: 0.4450\n",
            "Epoch  81 | Train Loss: 13.8551\n",
            "=========> Train acc: 0.6580 | Test acc: 0.4530\n",
            "Epoch  82 | Train Loss: 13.7620\n",
            "=========> Train acc: 0.6670 | Test acc: 0.4440\n",
            "Epoch  83 | Train Loss: 13.6570\n",
            "=========> Train acc: 0.6610 | Test acc: 0.4380\n",
            "Epoch  84 | Train Loss: 13.5250\n",
            "=========> Train acc: 0.6650 | Test acc: 0.4520\n",
            "Epoch  85 | Train Loss: 13.6505\n",
            "=========> Train acc: 0.6700 | Test acc: 0.4520\n",
            "Epoch  86 | Train Loss: 13.7466\n",
            "=========> Train acc: 0.6690 | Test acc: 0.4530\n",
            "Epoch  87 | Train Loss: 13.4499\n",
            "=========> Train acc: 0.6640 | Test acc: 0.4490\n",
            "Epoch  88 | Train Loss: 13.5884\n",
            "=========> Train acc: 0.6620 | Test acc: 0.4450\n",
            "Epoch  89 | Train Loss: 13.3521\n",
            "=========> Train acc: 0.6790 | Test acc: 0.4470\n",
            "Epoch  90 | Train Loss: 13.7303\n",
            "=========> Train acc: 0.6580 | Test acc: 0.4530\n",
            "Epoch  91 | Train Loss: 13.5207\n",
            "=========> Train acc: 0.6760 | Test acc: 0.4470\n",
            "Epoch  92 | Train Loss: 13.5071\n",
            "=========> Train acc: 0.6630 | Test acc: 0.4440\n",
            "Epoch  93 | Train Loss: 13.5238\n",
            "=========> Train acc: 0.6740 | Test acc: 0.4490\n",
            "Epoch  94 | Train Loss: 13.5943\n",
            "=========> Train acc: 0.6750 | Test acc: 0.4410\n",
            "Epoch  95 | Train Loss: 13.4441\n",
            "=========> Train acc: 0.6630 | Test acc: 0.4400\n",
            "Epoch  96 | Train Loss: 13.5182\n",
            "=========> Train acc: 0.6720 | Test acc: 0.4430\n",
            "Epoch  97 | Train Loss: 13.6710\n",
            "=========> Train acc: 0.6650 | Test acc: 0.4410\n",
            "Epoch  98 | Train Loss: 13.4664\n",
            "=========> Train acc: 0.6790 | Test acc: 0.4390\n",
            "Epoch  99 | Train Loss: 13.5731\n",
            "=========> Train acc: 0.6740 | Test acc: 0.4450\n",
            "Epoch 100 | Train Loss: 13.2953\n",
            "=========> Train acc: 0.6660 | Test acc: 0.4410\n"
          ]
        }
      ]
    },
    {
      "cell_type": "code",
      "source": [
        "# 학습 결과 시각화\n",
        "import matplotlib.pyplot as plt\n",
        "\n",
        "plt.figure(figsize=(12, 5))\n",
        "\n",
        "# 손실 그래프\n",
        "plt.subplot(1, 2, 1)\n",
        "plt.plot(range(1, n_epochs+1), losses, 'o-', color='blue')\n",
        "plt.title('Loss per Epoch')\n",
        "plt.xlabel('Epoch')\n",
        "plt.ylabel('Total Loss')\n",
        "plt.grid(True)\n",
        "\n",
        "# 정확도 그래프\n",
        "plt.subplot(1, 2, 2)\n",
        "plt.plot(range(1, n_epochs+1), train_accs, 'o-', color='blue', label='Train Accuracy')\n",
        "plt.plot(range(1, n_epochs+1), test_accs, 'o-', color='red', label='Test Accuracy')\n",
        "plt.title('Train vs Test Accuracy')\n",
        "plt.xlabel('Epoch')\n",
        "plt.ylabel('Accuracy')\n",
        "plt.legend()\n",
        "plt.grid(True)\n",
        "\n",
        "plt.tight_layout()\n",
        "plt.savefig('mnli_training_results.png')\n",
        "plt.show()"
      ],
      "metadata": {
        "colab": {
          "base_uri": "https://localhost:8080/",
          "height": 493
        },
        "id": "PBQZFMYfyF-o",
        "outputId": "c2cd39d6-08a9-48f0-b9ee-d3c04fc9e616"
      },
      "execution_count": 14,
      "outputs": [
        {
          "output_type": "display_data",
          "data": {
            "text/plain": [
              "<Figure size 1200x500 with 2 Axes>"
            ],
            "image/png": "[encoded data removed]"
          },
          "metadata": {}
        }
      ]
    },
    {
      "cell_type": "markdown",
      "source": [
        "## 결과 분석\n",
        "1. 과적합 문제 있음\n",
        "  - 최종 학습 정확도: 67% vs 최종 테스트 정확도: 44%\n",
        "  - 정화도 차이 o\n",
        "\n",
        "## 개선 방안\n",
        "1. 학습률 조정\n",
        "  - 학습률 스케줄링(learning rate scheduling)\n",
        "  - 학습률 감소(learning rate decay)\n",
        "\n",
        "2. 모델 복잡성\n",
        "  - 현재 모델 보다 모델 구조 복잡하게\n",
        "\n",
        "3. 데이터 품질\n",
        "  - 학습 데이터와 테스트 데이터 간의 분포 차이 (확인 필요)\n",
        "    - 데이터 전처리나 증강"
      ],
      "metadata": {
        "id": "L5_bp11q7U1z"
      }
    },
    {
      "cell_type": "code",
      "source": [],
      "metadata": {
        "id": "2roIF8NLzOxD"
      },
      "execution_count": 14,
      "outputs": []
    }
  ],
  "metadata": {
    "accelerator": "GPU",
    "colab": {
      "gpuType": "T4",
      "provenance": []
    },
    "kernelspec": {
      "display_name": "Python 3",
      "name": "python3"
    },
    "language_info": {
      "name": "python"
    }
  },
  "nbformat": 4,
  "nbformat_minor": 0
}