{
  "cells": [
    {
      "cell_type": "markdown",
      "metadata": {
        "id": "13RfDLhyPNkX"
      },
      "source": [
        "## 0. 환경 설정"
      ]
    },
    {
      "cell_type": "code",
      "execution_count": 2,
      "metadata": {
        "collapsed": true,
        "id": "Db2sh3701xu-"
      },
      "outputs": [],
      "source": [
        "!pip install -qq neo4j-graphrag neo4j openai"
      ]
    },
    {
      "cell_type": "markdown",
      "metadata": {
        "id": "MKW-bdgH18WC"
      },
      "source": [
        "API 로그인 > API Key 생성 : https://openai.com/chatgpt/"
      ]
    },
    {
      "cell_type": "code",
      "execution_count": 3,
      "metadata": {
        "id": "mxVWhyMb2A1s"
      },
      "outputs": [],
      "source": [
        "from google.colab import userdata\n",
        "import os\n",
        "os.environ[\"OPENAI_API_KEY\"] = userdata.get('OPENAI_API_KEY')"
      ]
    },
    {
      "cell_type": "markdown",
      "metadata": {
        "id": "9_0oQo-APS7f"
      },
      "source": [
        "## 1. GraphDB 불러오기"
      ]
    },
    {
      "cell_type": "markdown",
      "metadata": {
        "id": "T2MzCTpQ2Ihk"
      },
      "source": [
        "Neo4j Sandbox : https://sandbox.neo4j.com/"
      ]
    },
    {
      "cell_type": "markdown",
      "metadata": {
        "id": "le_Pfi0pPVjj"
      },
      "source": [
        "### 1-1. Neo4j 드라이버 설정"
      ]
    },
    {
      "cell_type": "code",
      "execution_count": 4,
      "metadata": {
        "id": "5CDkAq8YPY-e"
      },
      "outputs": [],
      "source": [
        "from neo4j import GraphDatabase, basic_auth\n",
        "import openai\n",
        "\n",
        "driver = GraphDatabase.driver(\n",
        "  \"neo4j://98.82.21.181:7687\",\n",
        "  auth=basic_auth(\"neo4j\", \"oscillator-overloads-limps\"))"
      ]
    },
    {
      "cell_type": "markdown",
      "metadata": {
        "id": "-eQDxOSx2XSh"
      },
      "source": [
        "```cypher\n",
        "MATCH (m:Movie {title:$movie})<-[:RATED]-(u:User)-[:RATED]->(rec:Movie)\n",
        "RETURN distinct rec.title AS recommendation LIMIT 20\n",
        "```\n",
        "\n",
        "- `(m:Movie {title:$movie})` : title이 $movie 인 노드\n",
        "- `(rec:Movie)` : 이 노드는 rec이라는 변수로 지정\n",
        "- `RETURN distinct rec.title` : rec 변수에 있는 노드의 title을 RETURN\n",
        "\n"
      ]
    },
    {
      "cell_type": "code",
      "execution_count": null,
      "metadata": {
        "colab": {
          "base_uri": "https://localhost:8080/"
        },
        "id": "mTI3Q6qe00rw",
        "outputId": "074debac-f547-4f92-fe75-88b444e19dae"
      },
      "outputs": [
        {
          "name": "stderr",
          "output_type": "stream",
          "text": [
            "<ipython-input-5-18901dc9fb7f>:7: DeprecationWarning: read_transaction has been renamed to execute_read\n",
            "  results = session.read_transaction(\n"
          ]
        },
        {
          "name": "stdout",
          "output_type": "stream",
          "text": [
            "Mr. Holland's Opus\n",
            "Apollo 13\n",
            "Dead Man Walking\n",
            "Seven (a.k.a. Se7en)\n",
            "Heat\n",
            "Get Shorty\n",
            "Fugitive, The\n",
            "Dave\n",
            "Addams Family Values\n",
            "True Lies\n",
            "Speed\n",
            "Lion King, The\n",
            "Four Weddings and a Funeral\n",
            "Forrest Gump\n",
            "Star Trek: Generations\n",
            "Shawshank Redemption, The\n",
            "Stargate\n",
            "Pulp Fiction\n",
            "Outbreak\n",
            "Miracle on 34th Street\n"
          ]
        }
      ],
      "source": [
        "cypher_query = '''\n",
        "MATCH (m:Movie {title:$movie})<-[:RATED]-(u:User)-[:RATED]->(rec:Movie)\n",
        "RETURN distinct rec.title AS recommendation LIMIT 20\n",
        "'''\n",
        "\n",
        "with driver.session(database=\"neo4j\") as session:\n",
        "  results = session.read_transaction(\n",
        "    # 1. 영화 **\"Crimson Tide\"**를 \n",
        "    # 2. 평가한 사용자들이 \n",
        "    # 3. 다른 어떤 영화를 평가했는지\n",
        "    lambda tx: tx.run(cypher_query,\n",
        "                      movie=\"Crimson Tide\").data())\n",
        "  # 4. 추천 영화 목록을 최대 20개까지 출력\n",
        "  for record in results:\n",
        "    print(record['recommendation'])\n",
        "\n",
        "#driver.close()"
      ]
    },
    {
      "cell_type": "markdown",
      "metadata": {
        "id": "7UHTjrkZPfFE"
      },
      "source": [
        "## 2. Plot(줄거리) 임베딩 추가\n",
        "\n",
        "- Retriever 목표 : 줄거리 내용으로 검색해서 비슷한 내용의 영화 찾기\n",
        "\n",
        "How? 벡터 검색"
      ]
    },
    {
      "cell_type": "markdown",
      "metadata": {
        "id": "8dpi-2M8P1PW"
      },
      "source": [
        "### 2-1. 텍스트 to 임베딩 벡터 (OpenAI 임베딩 모델)"
      ]
    },
    {
      "cell_type": "code",
      "execution_count": 6,
      "metadata": {
        "id": "sA1RYap-PdDX"
      },
      "outputs": [],
      "source": [
        "def generate_embedding(text):\n",
        "    embedding = openai.embeddings.create(input = [text], model='text-embedding-ada-002').data[0].embedding\n",
        "    return embedding"
      ]
    },
    {
      "cell_type": "code",
      "execution_count": 7,
      "metadata": {
        "colab": {
          "base_uri": "https://localhost:8080/"
        },
        "id": "j_BlQZK4HH63",
        "outputId": "d5a2e7df-b337-4c19-ee33-c3dc77585648"
      },
      "outputs": [
        {
          "name": "stderr",
          "output_type": "stream",
          "text": [
            "<ipython-input-7-b710e4918a7a>:19: DeprecationWarning: write_transaction has been renamed to execute_write\n",
            "  session.write_transaction(add_embedding_to_movie)\n"
          ]
        },
        {
          "name": "stdout",
          "output_type": "stream",
          "text": [
            "1\n",
            "A cowboy doll is profoundly threatened and jealous when a new spaceman figure supplants him as top toy in a boy's room.\n",
            "=================\n"
          ]
        },
        {
          "name": "stderr",
          "output_type": "stream",
          "text": [
            "WARNING:neo4j.notifications:Received notification from DBMS server: {severity: WARNING} {code: Neo.ClientNotification.Statement.FeatureDeprecationWarning} {category: DEPRECATION} {title: This feature is deprecated and will be removed in future versions.} {description: The query used a deprecated function: `id`.} {position: line: 1, column: 83, offset: 82} for query: 'MATCH (m:Movie) WHERE m.plot IS NOT NULL RETURN m.title AS title, m.plot AS plot, ID(m) AS id LIMIT 100'\n"
          ]
        },
        {
          "name": "stdout",
          "output_type": "stream",
          "text": [
            "Updated movie 'Toy Story' with embedding.\n",
            "2\n",
            "When two kids find and play a magical board game, they release a man trapped for decades in it and a host of dangers that can only be stopped by finishing the game.\n",
            "=================\n"
          ]
        },
        {
          "name": "stderr",
          "output_type": "stream",
          "text": [
            "WARNING:neo4j.notifications:Received notification from DBMS server: {severity: WARNING} {code: Neo.ClientNotification.Statement.FeatureDeprecationWarning} {category: DEPRECATION} {title: This feature is deprecated and will be removed in future versions.} {description: The query used a deprecated function: `id`.} {position: line: 1, column: 23, offset: 22} for query: 'MATCH (m:Movie) WHERE ID(m) = $id SET m.plotEmbedding = $embedding'\n"
          ]
        },
        {
          "name": "stdout",
          "output_type": "stream",
          "text": [
            "Updated movie 'Jumanji' with embedding.\n",
            "3\n",
            "John and Max resolve to save their beloved bait shop from turning into an Italian restaurant, just as its new female owner catches Max's attention.\n",
            "=================\n"
          ]
        },
        {
          "name": "stderr",
          "output_type": "stream",
          "text": [
            "WARNING:neo4j.notifications:Received notification from DBMS server: {severity: WARNING} {code: Neo.ClientNotification.Statement.FeatureDeprecationWarning} {category: DEPRECATION} {title: This feature is deprecated and will be removed in future versions.} {description: The query used a deprecated function: `id`.} {position: line: 1, column: 23, offset: 22} for query: 'MATCH (m:Movie) WHERE ID(m) = $id SET m.plotEmbedding = $embedding'\n"
          ]
        },
        {
          "name": "stdout",
          "output_type": "stream",
          "text": [
            "Updated movie 'Grumpier Old Men' with embedding.\n",
            "4\n",
            "Based on Terry McMillan's novel, this film follows four very different African-American women and their relationships with the male gender.\n",
            "=================\n"
          ]
        },
        {
          "name": "stderr",
          "output_type": "stream",
          "text": [
            "WARNING:neo4j.notifications:Received notification from DBMS server: {severity: WARNING} {code: Neo.ClientNotification.Statement.FeatureDeprecationWarning} {category: DEPRECATION} {title: This feature is deprecated and will be removed in future versions.} {description: The query used a deprecated function: `id`.} {position: line: 1, column: 23, offset: 22} for query: 'MATCH (m:Movie) WHERE ID(m) = $id SET m.plotEmbedding = $embedding'\n"
          ]
        },
        {
          "name": "stdout",
          "output_type": "stream",
          "text": [
            "Updated movie 'Waiting to Exhale' with embedding.\n",
            "5\n",
            "In this sequel, George Banks deals not only with the pregnancy of his daughter, but also with the unexpected pregnancy of his wife.\n",
            "=================\n"
          ]
        },
        {
          "name": "stderr",
          "output_type": "stream",
          "text": [
            "WARNING:neo4j.notifications:Received notification from DBMS server: {severity: WARNING} {code: Neo.ClientNotification.Statement.FeatureDeprecationWarning} {category: DEPRECATION} {title: This feature is deprecated and will be removed in future versions.} {description: The query used a deprecated function: `id`.} {position: line: 1, column: 23, offset: 22} for query: 'MATCH (m:Movie) WHERE ID(m) = $id SET m.plotEmbedding = $embedding'\n"
          ]
        },
        {
          "name": "stdout",
          "output_type": "stream",
          "text": [
            "Updated movie 'Father of the Bride Part II' with embedding.\n",
            "6\n",
            "A group of professional bank robbers start to feel the heat from police when they unknowingly leave a clue at their latest heist.\n",
            "=================\n"
          ]
        },
        {
          "name": "stderr",
          "output_type": "stream",
          "text": [
            "WARNING:neo4j.notifications:Received notification from DBMS server: {severity: WARNING} {code: Neo.ClientNotification.Statement.FeatureDeprecationWarning} {category: DEPRECATION} {title: This feature is deprecated and will be removed in future versions.} {description: The query used a deprecated function: `id`.} {position: line: 1, column: 23, offset: 22} for query: 'MATCH (m:Movie) WHERE ID(m) = $id SET m.plotEmbedding = $embedding'\n"
          ]
        },
        {
          "name": "stdout",
          "output_type": "stream",
          "text": [
            "Updated movie 'Heat' with embedding.\n",
            "7\n",
            "An ugly duckling having undergone a remarkable change, still harbors feelings for her crush: a carefree playboy, but not before his business-focused brother has something to say about it.\n",
            "=================\n"
          ]
        },
        {
          "name": "stderr",
          "output_type": "stream",
          "text": [
            "WARNING:neo4j.notifications:Received notification from DBMS server: {severity: WARNING} {code: Neo.ClientNotification.Statement.FeatureDeprecationWarning} {category: DEPRECATION} {title: This feature is deprecated and will be removed in future versions.} {description: The query used a deprecated function: `id`.} {position: line: 1, column: 23, offset: 22} for query: 'MATCH (m:Movie) WHERE ID(m) = $id SET m.plotEmbedding = $embedding'\n"
          ]
        },
        {
          "name": "stdout",
          "output_type": "stream",
          "text": [
            "Updated movie 'Sabrina' with embedding.\n",
            "8\n",
            "Tom and Huck witness Injun Joe's killing of Doc Robinson one night at the graveyard. When an innocent man is accused of killing the Doc, Tom steps up as a witness, not respecting the promise made to Huck to lay low.\n",
            "=================\n"
          ]
        },
        {
          "name": "stderr",
          "output_type": "stream",
          "text": [
            "WARNING:neo4j.notifications:Received notification from DBMS server: {severity: WARNING} {code: Neo.ClientNotification.Statement.FeatureDeprecationWarning} {category: DEPRECATION} {title: This feature is deprecated and will be removed in future versions.} {description: The query used a deprecated function: `id`.} {position: line: 1, column: 23, offset: 22} for query: 'MATCH (m:Movie) WHERE ID(m) = $id SET m.plotEmbedding = $embedding'\n"
          ]
        },
        {
          "name": "stdout",
          "output_type": "stream",
          "text": [
            "Updated movie 'Tom and Huck' with embedding.\n",
            "9\n",
            "A former fireman takes on a group of terrorists holding the Vice President and others hostage during the seventh game of the NHL Stanley Cup finals.\n",
            "=================\n"
          ]
        },
        {
          "name": "stderr",
          "output_type": "stream",
          "text": [
            "WARNING:neo4j.notifications:Received notification from DBMS server: {severity: WARNING} {code: Neo.ClientNotification.Statement.FeatureDeprecationWarning} {category: DEPRECATION} {title: This feature is deprecated and will be removed in future versions.} {description: The query used a deprecated function: `id`.} {position: line: 1, column: 23, offset: 22} for query: 'MATCH (m:Movie) WHERE ID(m) = $id SET m.plotEmbedding = $embedding'\n"
          ]
        },
        {
          "name": "stdout",
          "output_type": "stream",
          "text": [
            "Updated movie 'Sudden Death' with embedding.\n",
            "10\n",
            "James Bond teams up with the lone survivor of a destroyed Russian research center to stop the hijacking of a nuclear space weapon by a fellow agent formerly believed to be dead.\n",
            "=================\n"
          ]
        },
        {
          "name": "stderr",
          "output_type": "stream",
          "text": [
            "WARNING:neo4j.notifications:Received notification from DBMS server: {severity: WARNING} {code: Neo.ClientNotification.Statement.FeatureDeprecationWarning} {category: DEPRECATION} {title: This feature is deprecated and will be removed in future versions.} {description: The query used a deprecated function: `id`.} {position: line: 1, column: 23, offset: 22} for query: 'MATCH (m:Movie) WHERE ID(m) = $id SET m.plotEmbedding = $embedding'\n"
          ]
        },
        {
          "name": "stdout",
          "output_type": "stream",
          "text": [
            "Updated movie 'GoldenEye' with embedding.\n",
            "11\n",
            "Comedy-drama about a widowed U.S. president and a lobbyist who fall in love. It's all above-board, but politics is perception and sparks fly anyway.\n",
            "=================\n"
          ]
        },
        {
          "name": "stderr",
          "output_type": "stream",
          "text": [
            "WARNING:neo4j.notifications:Received notification from DBMS server: {severity: WARNING} {code: Neo.ClientNotification.Statement.FeatureDeprecationWarning} {category: DEPRECATION} {title: This feature is deprecated and will be removed in future versions.} {description: The query used a deprecated function: `id`.} {position: line: 1, column: 23, offset: 22} for query: 'MATCH (m:Movie) WHERE ID(m) = $id SET m.plotEmbedding = $embedding'\n"
          ]
        },
        {
          "name": "stdout",
          "output_type": "stream",
          "text": [
            "Updated movie 'American President, The' with embedding.\n",
            "12\n",
            "Mel Brooks' parody of the classic vampire story and its famous film adaptations.\n",
            "=================\n"
          ]
        },
        {
          "name": "stderr",
          "output_type": "stream",
          "text": [
            "WARNING:neo4j.notifications:Received notification from DBMS server: {severity: WARNING} {code: Neo.ClientNotification.Statement.FeatureDeprecationWarning} {category: DEPRECATION} {title: This feature is deprecated and will be removed in future versions.} {description: The query used a deprecated function: `id`.} {position: line: 1, column: 23, offset: 22} for query: 'MATCH (m:Movie) WHERE ID(m) = $id SET m.plotEmbedding = $embedding'\n"
          ]
        },
        {
          "name": "stdout",
          "output_type": "stream",
          "text": [
            "Updated movie 'Dracula: Dead and Loving It' with embedding.\n",
            "13\n",
            "An outcast half-wolf risks his life to prevent a deadly epidemic from ravaging Nome, Alaska.\n",
            "=================\n"
          ]
        },
        {
          "name": "stderr",
          "output_type": "stream",
          "text": [
            "WARNING:neo4j.notifications:Received notification from DBMS server: {severity: WARNING} {code: Neo.ClientNotification.Statement.FeatureDeprecationWarning} {category: DEPRECATION} {title: This feature is deprecated and will be removed in future versions.} {description: The query used a deprecated function: `id`.} {position: line: 1, column: 23, offset: 22} for query: 'MATCH (m:Movie) WHERE ID(m) = $id SET m.plotEmbedding = $embedding'\n"
          ]
        },
        {
          "name": "stdout",
          "output_type": "stream",
          "text": [
            "Updated movie 'Balto' with embedding.\n",
            "14\n",
            "A biographical story of former U.S. president Richard Milhous Nixon, from his days as a young boy to his eventual presidency which ended in shame.\n",
            "=================\n"
          ]
        },
        {
          "name": "stderr",
          "output_type": "stream",
          "text": [
            "WARNING:neo4j.notifications:Received notification from DBMS server: {severity: WARNING} {code: Neo.ClientNotification.Statement.FeatureDeprecationWarning} {category: DEPRECATION} {title: This feature is deprecated and will be removed in future versions.} {description: The query used a deprecated function: `id`.} {position: line: 1, column: 23, offset: 22} for query: 'MATCH (m:Movie) WHERE ID(m) = $id SET m.plotEmbedding = $embedding'\n"
          ]
        },
        {
          "name": "stdout",
          "output_type": "stream",
          "text": [
            "Updated movie 'Nixon' with embedding.\n",
            "15\n",
            "A female pirate and her companion race against their rivals to find a hidden island that contains a fabulous treasure.\n",
            "=================\n"
          ]
        },
        {
          "name": "stderr",
          "output_type": "stream",
          "text": [
            "WARNING:neo4j.notifications:Received notification from DBMS server: {severity: WARNING} {code: Neo.ClientNotification.Statement.FeatureDeprecationWarning} {category: DEPRECATION} {title: This feature is deprecated and will be removed in future versions.} {description: The query used a deprecated function: `id`.} {position: line: 1, column: 23, offset: 22} for query: 'MATCH (m:Movie) WHERE ID(m) = $id SET m.plotEmbedding = $embedding'\n"
          ]
        },
        {
          "name": "stdout",
          "output_type": "stream",
          "text": [
            "Updated movie 'Cutthroat Island' with embedding.\n",
            "16\n",
            "Greed, deception, money, power, and murder occur between two mobster best friends and a trophy wife over a gambling empire.\n",
            "=================\n"
          ]
        },
        {
          "name": "stderr",
          "output_type": "stream",
          "text": [
            "WARNING:neo4j.notifications:Received notification from DBMS server: {severity: WARNING} {code: Neo.ClientNotification.Statement.FeatureDeprecationWarning} {category: DEPRECATION} {title: This feature is deprecated and will be removed in future versions.} {description: The query used a deprecated function: `id`.} {position: line: 1, column: 23, offset: 22} for query: 'MATCH (m:Movie) WHERE ID(m) = $id SET m.plotEmbedding = $embedding'\n"
          ]
        },
        {
          "name": "stdout",
          "output_type": "stream",
          "text": [
            "Updated movie 'Casino' with embedding.\n",
            "17\n",
            "Rich Mr. Dashwood dies, leaving his second wife and her three daughters poor by the rules of inheritance. The two eldest daughters are the titular opposites.\n",
            "=================\n"
          ]
        },
        {
          "name": "stderr",
          "output_type": "stream",
          "text": [
            "WARNING:neo4j.notifications:Received notification from DBMS server: {severity: WARNING} {code: Neo.ClientNotification.Statement.FeatureDeprecationWarning} {category: DEPRECATION} {title: This feature is deprecated and will be removed in future versions.} {description: The query used a deprecated function: `id`.} {position: line: 1, column: 23, offset: 22} for query: 'MATCH (m:Movie) WHERE ID(m) = $id SET m.plotEmbedding = $embedding'\n"
          ]
        },
        {
          "name": "stdout",
          "output_type": "stream",
          "text": [
            "Updated movie 'Sense and Sensibility' with embedding.\n",
            "18\n",
            "Four interlocking tales that take place in a fading hotel on New Year's Eve.\n",
            "=================\n"
          ]
        },
        {
          "name": "stderr",
          "output_type": "stream",
          "text": [
            "WARNING:neo4j.notifications:Received notification from DBMS server: {severity: WARNING} {code: Neo.ClientNotification.Statement.FeatureDeprecationWarning} {category: DEPRECATION} {title: This feature is deprecated and will be removed in future versions.} {description: The query used a deprecated function: `id`.} {position: line: 1, column: 23, offset: 22} for query: 'MATCH (m:Movie) WHERE ID(m) = $id SET m.plotEmbedding = $embedding'\n"
          ]
        },
        {
          "name": "stdout",
          "output_type": "stream",
          "text": [
            "Updated movie 'Four Rooms' with embedding.\n",
            "19\n",
            "Ace Ventura, Pet Detective, returns from a spiritual quest to investigate the disappearance of a rare white bat, the sacred animal of a tribe in Africa.\n",
            "=================\n"
          ]
        },
        {
          "name": "stderr",
          "output_type": "stream",
          "text": [
            "WARNING:neo4j.notifications:Received notification from DBMS server: {severity: WARNING} {code: Neo.ClientNotification.Statement.FeatureDeprecationWarning} {category: DEPRECATION} {title: This feature is deprecated and will be removed in future versions.} {description: The query used a deprecated function: `id`.} {position: line: 1, column: 23, offset: 22} for query: 'MATCH (m:Movie) WHERE ID(m) = $id SET m.plotEmbedding = $embedding'\n"
          ]
        },
        {
          "name": "stdout",
          "output_type": "stream",
          "text": [
            "Updated movie 'Ace Ventura: When Nature Calls' with embedding.\n",
            "20\n",
            "A vengeful New York transit cop decides to steal a trainload of subway fares; his foster brother, a fellow cop, tries to protect him.\n",
            "=================\n"
          ]
        },
        {
          "name": "stderr",
          "output_type": "stream",
          "text": [
            "WARNING:neo4j.notifications:Received notification from DBMS server: {severity: WARNING} {code: Neo.ClientNotification.Statement.FeatureDeprecationWarning} {category: DEPRECATION} {title: This feature is deprecated and will be removed in future versions.} {description: The query used a deprecated function: `id`.} {position: line: 1, column: 23, offset: 22} for query: 'MATCH (m:Movie) WHERE ID(m) = $id SET m.plotEmbedding = $embedding'\n"
          ]
        },
        {
          "name": "stdout",
          "output_type": "stream",
          "text": [
            "Updated movie 'Money Train' with embedding.\n",
            "21\n",
            "A mobster travels to Hollywood to collect a debt and discovers that the movie business is much the same as his current job.\n",
            "=================\n"
          ]
        },
        {
          "name": "stderr",
          "output_type": "stream",
          "text": [
            "WARNING:neo4j.notifications:Received notification from DBMS server: {severity: WARNING} {code: Neo.ClientNotification.Statement.FeatureDeprecationWarning} {category: DEPRECATION} {title: This feature is deprecated and will be removed in future versions.} {description: The query used a deprecated function: `id`.} {position: line: 1, column: 23, offset: 22} for query: 'MATCH (m:Movie) WHERE ID(m) = $id SET m.plotEmbedding = $embedding'\n"
          ]
        },
        {
          "name": "stdout",
          "output_type": "stream",
          "text": [
            "Updated movie 'Get Shorty' with embedding.\n",
            "22\n",
            "An agoraphobic psychologist and a female detective must work together to take down a serial killer who copies serial killers from the past.\n",
            "=================\n"
          ]
        },
        {
          "name": "stderr",
          "output_type": "stream",
          "text": [
            "WARNING:neo4j.notifications:Received notification from DBMS server: {severity: WARNING} {code: Neo.ClientNotification.Statement.FeatureDeprecationWarning} {category: DEPRECATION} {title: This feature is deprecated and will be removed in future versions.} {description: The query used a deprecated function: `id`.} {position: line: 1, column: 23, offset: 22} for query: 'MATCH (m:Movie) WHERE ID(m) = $id SET m.plotEmbedding = $embedding'\n"
          ]
        },
        {
          "name": "stdout",
          "output_type": "stream",
          "text": [
            "Updated movie 'Copycat' with embedding.\n",
            "23\n",
            "Professional hit-man Robert Rath wants to fulfill a few more contracts before retiring but unscrupulous ambitious newcomer hit-man Miguel Bain keeps killing Rath's targets.\n",
            "=================\n"
          ]
        },
        {
          "name": "stderr",
          "output_type": "stream",
          "text": [
            "WARNING:neo4j.notifications:Received notification from DBMS server: {severity: WARNING} {code: Neo.ClientNotification.Statement.FeatureDeprecationWarning} {category: DEPRECATION} {title: This feature is deprecated and will be removed in future versions.} {description: The query used a deprecated function: `id`.} {position: line: 1, column: 23, offset: 22} for query: 'MATCH (m:Movie) WHERE ID(m) = $id SET m.plotEmbedding = $embedding'\n"
          ]
        },
        {
          "name": "stdout",
          "output_type": "stream",
          "text": [
            "Updated movie 'Assassins' with embedding.\n",
            "24\n",
            "A young bald albino boy with unique powers shakes up the rural community he lives in.\n",
            "=================\n"
          ]
        },
        {
          "name": "stderr",
          "output_type": "stream",
          "text": [
            "WARNING:neo4j.notifications:Received notification from DBMS server: {severity: WARNING} {code: Neo.ClientNotification.Statement.FeatureDeprecationWarning} {category: DEPRECATION} {title: This feature is deprecated and will be removed in future versions.} {description: The query used a deprecated function: `id`.} {position: line: 1, column: 23, offset: 22} for query: 'MATCH (m:Movie) WHERE ID(m) = $id SET m.plotEmbedding = $embedding'\n"
          ]
        },
        {
          "name": "stdout",
          "output_type": "stream",
          "text": [
            "Updated movie 'Powder' with embedding.\n",
            "25\n",
            "Ben Sanderson, an alcoholic Hollywood screenwriter who lost everything because of his drinking, arrives in Las Vegas to drink himself to death. There, he meets and forms an uneasy friendship and non-interference pact with prostitute Sera.\n",
            "=================\n"
          ]
        },
        {
          "name": "stderr",
          "output_type": "stream",
          "text": [
            "WARNING:neo4j.notifications:Received notification from DBMS server: {severity: WARNING} {code: Neo.ClientNotification.Statement.FeatureDeprecationWarning} {category: DEPRECATION} {title: This feature is deprecated and will be removed in future versions.} {description: The query used a deprecated function: `id`.} {position: line: 1, column: 23, offset: 22} for query: 'MATCH (m:Movie) WHERE ID(m) = $id SET m.plotEmbedding = $embedding'\n"
          ]
        },
        {
          "name": "stdout",
          "output_type": "stream",
          "text": [
            "Updated movie 'Leaving Las Vegas' with embedding.\n",
            "26\n",
            "The evil Iago pretends to be friend of Othello in order to manipulate him to serve his own end in the film version of this Shakespeare classic.\n",
            "=================\n"
          ]
        },
        {
          "name": "stderr",
          "output_type": "stream",
          "text": [
            "WARNING:neo4j.notifications:Received notification from DBMS server: {severity: WARNING} {code: Neo.ClientNotification.Statement.FeatureDeprecationWarning} {category: DEPRECATION} {title: This feature is deprecated and will be removed in future versions.} {description: The query used a deprecated function: `id`.} {position: line: 1, column: 23, offset: 22} for query: 'MATCH (m:Movie) WHERE ID(m) = $id SET m.plotEmbedding = $embedding'\n"
          ]
        },
        {
          "name": "stdout",
          "output_type": "stream",
          "text": [
            "Updated movie 'Othello' with embedding.\n",
            "27\n",
            "Four 12-year-old girls grow up together during an eventful small-town summer in 1970.\n",
            "=================\n"
          ]
        },
        {
          "name": "stderr",
          "output_type": "stream",
          "text": [
            "WARNING:neo4j.notifications:Received notification from DBMS server: {severity: WARNING} {code: Neo.ClientNotification.Statement.FeatureDeprecationWarning} {category: DEPRECATION} {title: This feature is deprecated and will be removed in future versions.} {description: The query used a deprecated function: `id`.} {position: line: 1, column: 23, offset: 22} for query: 'MATCH (m:Movie) WHERE ID(m) = $id SET m.plotEmbedding = $embedding'\n",
            "WARNING:neo4j.notifications:Received notification from DBMS server: {severity: WARNING} {code: Neo.ClientNotification.Statement.FeatureDeprecationWarning} {category: DEPRECATION} {title: This feature is deprecated and will be removed in future versions.} {description: The query used a deprecated function: `id`.} {position: line: 1, column: 23, offset: 22} for query: 'MATCH (m:Movie) WHERE ID(m) = $id SET m.plotEmbedding = $embedding'\n"
          ]
        },
        {
          "name": "stdout",
          "output_type": "stream",
          "text": [
            "Updated movie 'Now and Then' with embedding.\n",
            "28\n",
            "Eight years earlier, Anne Elliot, the daughter of a financially troubled aristocratic family, was persuaded to break off her engagement to Frederick Wentworth, a young seaman, who, though ...\n",
            "=================\n",
            "Updated movie 'Persuasion' with embedding.\n",
            "29\n",
            "A scientist in a surrealist society kidnaps children to steal their dreams, hoping that they slow his aging process.\n",
            "=================\n"
          ]
        },
        {
          "name": "stderr",
          "output_type": "stream",
          "text": [
            "WARNING:neo4j.notifications:Received notification from DBMS server: {severity: WARNING} {code: Neo.ClientNotification.Statement.FeatureDeprecationWarning} {category: DEPRECATION} {title: This feature is deprecated and will be removed in future versions.} {description: The query used a deprecated function: `id`.} {position: line: 1, column: 23, offset: 22} for query: 'MATCH (m:Movie) WHERE ID(m) = $id SET m.plotEmbedding = $embedding'\n"
          ]
        },
        {
          "name": "stdout",
          "output_type": "stream",
          "text": [
            "Updated movie 'City of Lost Children, The (Cité des enfants perdus, La)' with embedding.\n",
            "30\n",
            "A provincial boy related to a Shanghai crime family is recruited by his uncle into cosmopolitan Shanghai in the 1930s to be a servant to a ganglord's mistress.\n",
            "=================\n"
          ]
        },
        {
          "name": "stderr",
          "output_type": "stream",
          "text": [
            "WARNING:neo4j.notifications:Received notification from DBMS server: {severity: WARNING} {code: Neo.ClientNotification.Statement.FeatureDeprecationWarning} {category: DEPRECATION} {title: This feature is deprecated and will be removed in future versions.} {description: The query used a deprecated function: `id`.} {position: line: 1, column: 23, offset: 22} for query: 'MATCH (m:Movie) WHERE ID(m) = $id SET m.plotEmbedding = $embedding'\n"
          ]
        },
        {
          "name": "stdout",
          "output_type": "stream",
          "text": [
            "Updated movie 'Shanghai Triad (Yao a yao yao dao waipo qiao)' with embedding.\n",
            "31\n",
            "An ex-Marine turned teacher struggles to connect with her students in an inner city school.\n",
            "=================\n"
          ]
        },
        {
          "name": "stderr",
          "output_type": "stream",
          "text": [
            "WARNING:neo4j.notifications:Received notification from DBMS server: {severity: WARNING} {code: Neo.ClientNotification.Statement.FeatureDeprecationWarning} {category: DEPRECATION} {title: This feature is deprecated and will be removed in future versions.} {description: The query used a deprecated function: `id`.} {position: line: 1, column: 23, offset: 22} for query: 'MATCH (m:Movie) WHERE ID(m) = $id SET m.plotEmbedding = $embedding'\n"
          ]
        },
        {
          "name": "stdout",
          "output_type": "stream",
          "text": [
            "Updated movie 'Dangerous Minds' with embedding.\n",
            "32\n",
            "In a future world devastated by disease, a convict is sent back in time to gather information about the man-made virus that wiped out most of the human population on the planet.\n",
            "=================\n"
          ]
        },
        {
          "name": "stderr",
          "output_type": "stream",
          "text": [
            "WARNING:neo4j.notifications:Received notification from DBMS server: {severity: WARNING} {code: Neo.ClientNotification.Statement.FeatureDeprecationWarning} {category: DEPRECATION} {title: This feature is deprecated and will be removed in future versions.} {description: The query used a deprecated function: `id`.} {position: line: 1, column: 23, offset: 22} for query: 'MATCH (m:Movie) WHERE ID(m) = $id SET m.plotEmbedding = $embedding'\n"
          ]
        },
        {
          "name": "stdout",
          "output_type": "stream",
          "text": [
            "Updated movie 'Twelve Monkeys (a.k.a. 12 Monkeys)' with embedding.\n",
            "33\n",
            "Babe, a pig raised by sheepdogs, learns to herd sheep with a little help from Farmer Hoggett.\n",
            "=================\n"
          ]
        },
        {
          "name": "stderr",
          "output_type": "stream",
          "text": [
            "WARNING:neo4j.notifications:Received notification from DBMS server: {severity: WARNING} {code: Neo.ClientNotification.Statement.FeatureDeprecationWarning} {category: DEPRECATION} {title: This feature is deprecated and will be removed in future versions.} {description: The query used a deprecated function: `id`.} {position: line: 1, column: 23, offset: 22} for query: 'MATCH (m:Movie) WHERE ID(m) = $id SET m.plotEmbedding = $embedding'\n"
          ]
        },
        {
          "name": "stdout",
          "output_type": "stream",
          "text": [
            "Updated movie 'Babe' with embedding.\n",
            "34\n",
            "The platonic relationship between artist Dora Carrington and writer Lytton Strachey in the early 20th century.\n",
            "=================\n"
          ]
        },
        {
          "name": "stderr",
          "output_type": "stream",
          "text": [
            "WARNING:neo4j.notifications:Received notification from DBMS server: {severity: WARNING} {code: Neo.ClientNotification.Statement.FeatureDeprecationWarning} {category: DEPRECATION} {title: This feature is deprecated and will be removed in future versions.} {description: The query used a deprecated function: `id`.} {position: line: 1, column: 23, offset: 22} for query: 'MATCH (m:Movie) WHERE ID(m) = $id SET m.plotEmbedding = $embedding'\n"
          ]
        },
        {
          "name": "stdout",
          "output_type": "stream",
          "text": [
            "Updated movie 'Carrington' with embedding.\n",
            "35\n",
            "A nun, while comforting a convicted killer on death row, empathizes with both the killer and his victim's families.\n",
            "=================\n"
          ]
        },
        {
          "name": "stderr",
          "output_type": "stream",
          "text": [
            "WARNING:neo4j.notifications:Received notification from DBMS server: {severity: WARNING} {code: Neo.ClientNotification.Statement.FeatureDeprecationWarning} {category: DEPRECATION} {title: This feature is deprecated and will be removed in future versions.} {description: The query used a deprecated function: `id`.} {position: line: 1, column: 23, offset: 22} for query: 'MATCH (m:Movie) WHERE ID(m) = $id SET m.plotEmbedding = $embedding'\n"
          ]
        },
        {
          "name": "stdout",
          "output_type": "stream",
          "text": [
            "Updated movie 'Dead Man Walking' with embedding.\n",
            "36\n",
            "A young Russian boy, Thomas Minton, travels to New York as a passenger on a Russian freighter. Close to Ellis Island he gets off and thus starts his journey to America the same way as all ...\n",
            "=================\n"
          ]
        },
        {
          "name": "stderr",
          "output_type": "stream",
          "text": [
            "WARNING:neo4j.notifications:Received notification from DBMS server: {severity: WARNING} {code: Neo.ClientNotification.Statement.FeatureDeprecationWarning} {category: DEPRECATION} {title: This feature is deprecated and will be removed in future versions.} {description: The query used a deprecated function: `id`.} {position: line: 1, column: 23, offset: 22} for query: 'MATCH (m:Movie) WHERE ID(m) = $id SET m.plotEmbedding = $embedding'\n"
          ]
        },
        {
          "name": "stdout",
          "output_type": "stream",
          "text": [
            "Updated movie 'Across the Sea of Time' with embedding.\n",
            "37\n",
            "Alyssa (a rich girl) and Amanda (an orphan) are two little girls who are identical, but complete strangers, that accidentally meet one day. In an attempt to stop Alyssa's father from ...\n",
            "=================\n"
          ]
        },
        {
          "name": "stderr",
          "output_type": "stream",
          "text": [
            "WARNING:neo4j.notifications:Received notification from DBMS server: {severity: WARNING} {code: Neo.ClientNotification.Statement.FeatureDeprecationWarning} {category: DEPRECATION} {title: This feature is deprecated and will be removed in future versions.} {description: The query used a deprecated function: `id`.} {position: line: 1, column: 23, offset: 22} for query: 'MATCH (m:Movie) WHERE ID(m) = $id SET m.plotEmbedding = $embedding'\n"
          ]
        },
        {
          "name": "stdout",
          "output_type": "stream",
          "text": [
            "Updated movie 'It Takes Two' with embedding.\n",
            "38\n",
            "A rich high school student tries to boost a new pupil's popularity, but reckons without affairs of the heart getting in the way.\n",
            "=================\n"
          ]
        },
        {
          "name": "stderr",
          "output_type": "stream",
          "text": [
            "WARNING:neo4j.notifications:Received notification from DBMS server: {severity: WARNING} {code: Neo.ClientNotification.Statement.FeatureDeprecationWarning} {category: DEPRECATION} {title: This feature is deprecated and will be removed in future versions.} {description: The query used a deprecated function: `id`.} {position: line: 1, column: 23, offset: 22} for query: 'MATCH (m:Movie) WHERE ID(m) = $id SET m.plotEmbedding = $embedding'\n"
          ]
        },
        {
          "name": "stdout",
          "output_type": "stream",
          "text": [
            "Updated movie 'Clueless' with embedding.\n",
            "39\n",
            "A South-African preacher goes to search for his wayward son who has committed a crime in the big city.\n",
            "=================\n"
          ]
        },
        {
          "name": "stderr",
          "output_type": "stream",
          "text": [
            "WARNING:neo4j.notifications:Received notification from DBMS server: {severity: WARNING} {code: Neo.ClientNotification.Statement.FeatureDeprecationWarning} {category: DEPRECATION} {title: This feature is deprecated and will be removed in future versions.} {description: The query used a deprecated function: `id`.} {position: line: 1, column: 23, offset: 22} for query: 'MATCH (m:Movie) WHERE ID(m) = $id SET m.plotEmbedding = $embedding'\n"
          ]
        },
        {
          "name": "stdout",
          "output_type": "stream",
          "text": [
            "Updated movie 'Cry, the Beloved Country' with embedding.\n",
            "40\n",
            "The classic Shakespearean play about a murderously scheming king staged in an alternative fascist England setting.\n",
            "=================\n"
          ]
        },
        {
          "name": "stderr",
          "output_type": "stream",
          "text": [
            "WARNING:neo4j.notifications:Received notification from DBMS server: {severity: WARNING} {code: Neo.ClientNotification.Statement.FeatureDeprecationWarning} {category: DEPRECATION} {title: This feature is deprecated and will be removed in future versions.} {description: The query used a deprecated function: `id`.} {position: line: 1, column: 23, offset: 22} for query: 'MATCH (m:Movie) WHERE ID(m) = $id SET m.plotEmbedding = $embedding'\n"
          ]
        },
        {
          "name": "stdout",
          "output_type": "stream",
          "text": [
            "Updated movie 'Richard III' with embedding.\n",
            "41\n",
            "A Vietnam vet adjusts to life after the war while trying to support his family, but the chance of a better life may involve crime and bloodshed.\n",
            "=================\n"
          ]
        },
        {
          "name": "stderr",
          "output_type": "stream",
          "text": [
            "WARNING:neo4j.notifications:Received notification from DBMS server: {severity: WARNING} {code: Neo.ClientNotification.Statement.FeatureDeprecationWarning} {category: DEPRECATION} {title: This feature is deprecated and will be removed in future versions.} {description: The query used a deprecated function: `id`.} {position: line: 1, column: 23, offset: 22} for query: 'MATCH (m:Movie) WHERE ID(m) = $id SET m.plotEmbedding = $embedding'\n"
          ]
        },
        {
          "name": "stdout",
          "output_type": "stream",
          "text": [
            "Updated movie 'Dead Presidents' with embedding.\n",
            "42\n",
            "The exiled royal physician to King Charles II devotes himself to helping Londoners suffering from the plague, and in the process falls in love with an equally poor woman.\n",
            "=================\n"
          ]
        },
        {
          "name": "stderr",
          "output_type": "stream",
          "text": [
            "WARNING:neo4j.notifications:Received notification from DBMS server: {severity: WARNING} {code: Neo.ClientNotification.Statement.FeatureDeprecationWarning} {category: DEPRECATION} {title: This feature is deprecated and will be removed in future versions.} {description: The query used a deprecated function: `id`.} {position: line: 1, column: 23, offset: 22} for query: 'MATCH (m:Movie) WHERE ID(m) = $id SET m.plotEmbedding = $embedding'\n"
          ]
        },
        {
          "name": "stdout",
          "output_type": "stream",
          "text": [
            "Updated movie 'Restoration' with embedding.\n",
            "43\n",
            "Three unknowing martial artists are summoned to a mysterious island to compete in a tournament whose outcome will decide the fate of the world.\n",
            "=================\n"
          ]
        },
        {
          "name": "stderr",
          "output_type": "stream",
          "text": [
            "WARNING:neo4j.notifications:Received notification from DBMS server: {severity: WARNING} {code: Neo.ClientNotification.Statement.FeatureDeprecationWarning} {category: DEPRECATION} {title: This feature is deprecated and will be removed in future versions.} {description: The query used a deprecated function: `id`.} {position: line: 1, column: 23, offset: 22} for query: 'MATCH (m:Movie) WHERE ID(m) = $id SET m.plotEmbedding = $embedding'\n"
          ]
        },
        {
          "name": "stdout",
          "output_type": "stream",
          "text": [
            "Updated movie 'Mortal Kombat' with embedding.\n",
            "44\n",
            "Suzanne Stone is an aspiring TV personality who will do anything to be in the spotlight, including enlisting three teenagers to kill her husband.\n",
            "=================\n"
          ]
        },
        {
          "name": "stderr",
          "output_type": "stream",
          "text": [
            "WARNING:neo4j.notifications:Received notification from DBMS server: {severity: WARNING} {code: Neo.ClientNotification.Statement.FeatureDeprecationWarning} {category: DEPRECATION} {title: This feature is deprecated and will be removed in future versions.} {description: The query used a deprecated function: `id`.} {position: line: 1, column: 23, offset: 22} for query: 'MATCH (m:Movie) WHERE ID(m) = $id SET m.plotEmbedding = $embedding'\n"
          ]
        },
        {
          "name": "stdout",
          "output_type": "stream",
          "text": [
            "Updated movie 'To Die For' with embedding.\n",
            "45\n",
            "Bride-to-be Finn Dodd hears tales of romance and sorrow from her elders as they construct a quilt.\n",
            "=================\n"
          ]
        },
        {
          "name": "stderr",
          "output_type": "stream",
          "text": [
            "WARNING:neo4j.notifications:Received notification from DBMS server: {severity: WARNING} {code: Neo.ClientNotification.Statement.FeatureDeprecationWarning} {category: DEPRECATION} {title: This feature is deprecated and will be removed in future versions.} {description: The query used a deprecated function: `id`.} {position: line: 1, column: 23, offset: 22} for query: 'MATCH (m:Movie) WHERE ID(m) = $id SET m.plotEmbedding = $embedding'\n"
          ]
        },
        {
          "name": "stdout",
          "output_type": "stream",
          "text": [
            "Updated movie 'How to Make an American Quilt' with embedding.\n",
            "46\n",
            "Two detectives, a rookie and a veteran, hunt a serial killer who uses the seven deadly sins as his modus operandi.\n",
            "=================\n"
          ]
        },
        {
          "name": "stderr",
          "output_type": "stream",
          "text": [
            "WARNING:neo4j.notifications:Received notification from DBMS server: {severity: WARNING} {code: Neo.ClientNotification.Statement.FeatureDeprecationWarning} {category: DEPRECATION} {title: This feature is deprecated and will be removed in future versions.} {description: The query used a deprecated function: `id`.} {position: line: 1, column: 23, offset: 22} for query: 'MATCH (m:Movie) WHERE ID(m) = $id SET m.plotEmbedding = $embedding'\n"
          ]
        },
        {
          "name": "stdout",
          "output_type": "stream",
          "text": [
            "Updated movie 'Seven (a.k.a. Se7en)' with embedding.\n",
            "47\n",
            "An English soldier and the daughter of an Algonquin chief share a romance when English colonists invade seventeenth-century Virginia.\n",
            "=================\n"
          ]
        },
        {
          "name": "stderr",
          "output_type": "stream",
          "text": [
            "WARNING:neo4j.notifications:Received notification from DBMS server: {severity: WARNING} {code: Neo.ClientNotification.Statement.FeatureDeprecationWarning} {category: DEPRECATION} {title: This feature is deprecated and will be removed in future versions.} {description: The query used a deprecated function: `id`.} {position: line: 1, column: 23, offset: 22} for query: 'MATCH (m:Movie) WHERE ID(m) = $id SET m.plotEmbedding = $embedding'\n"
          ]
        },
        {
          "name": "stdout",
          "output_type": "stream",
          "text": [
            "Updated movie 'Pocahontas' with embedding.\n",
            "48\n",
            "An uptight and conservative woman, working on tenure as a literacy professor at a large urban university, finds herself strangely attracted to a free-spirited, liberal woman who works at a local carnival that comes to town.\n",
            "=================\n"
          ]
        },
        {
          "name": "stderr",
          "output_type": "stream",
          "text": [
            "WARNING:neo4j.notifications:Received notification from DBMS server: {severity: WARNING} {code: Neo.ClientNotification.Statement.FeatureDeprecationWarning} {category: DEPRECATION} {title: This feature is deprecated and will be removed in future versions.} {description: The query used a deprecated function: `id`.} {position: line: 1, column: 23, offset: 22} for query: 'MATCH (m:Movie) WHERE ID(m) = $id SET m.plotEmbedding = $embedding'\n"
          ]
        },
        {
          "name": "stdout",
          "output_type": "stream",
          "text": [
            "Updated movie 'When Night Is Falling' with embedding.\n",
            "49\n",
            "A sole survivor tells of the twisty events leading up to a horrific gun battle on a boat, which begin when five criminals meet at a seemingly random police lineup.\n",
            "=================\n"
          ]
        },
        {
          "name": "stderr",
          "output_type": "stream",
          "text": [
            "WARNING:neo4j.notifications:Received notification from DBMS server: {severity: WARNING} {code: Neo.ClientNotification.Statement.FeatureDeprecationWarning} {category: DEPRECATION} {title: This feature is deprecated and will be removed in future versions.} {description: The query used a deprecated function: `id`.} {position: line: 1, column: 23, offset: 22} for query: 'MATCH (m:Movie) WHERE ID(m) = $id SET m.plotEmbedding = $embedding'\n"
          ]
        },
        {
          "name": "stdout",
          "output_type": "stream",
          "text": [
            "Updated movie 'Usual Suspects, The' with embedding.\n",
            "50\n",
            "When he discovers his adopted son is a genius, a New York sportswriter seeks out the boy's birth mother: a prostitute.\n",
            "=================\n"
          ]
        },
        {
          "name": "stderr",
          "output_type": "stream",
          "text": [
            "WARNING:neo4j.notifications:Received notification from DBMS server: {severity: WARNING} {code: Neo.ClientNotification.Statement.FeatureDeprecationWarning} {category: DEPRECATION} {title: This feature is deprecated and will be removed in future versions.} {description: The query used a deprecated function: `id`.} {position: line: 1, column: 23, offset: 22} for query: 'MATCH (m:Movie) WHERE ID(m) = $id SET m.plotEmbedding = $embedding'\n"
          ]
        },
        {
          "name": "stdout",
          "output_type": "stream",
          "text": [
            "Updated movie 'Mighty Aphrodite' with embedding.\n",
            "51\n",
            "Two Italian racketeers come to Albania just after the fall of the communists to set up a fictive firm and pocket the grants. They need a stooge. They choose an old one in a jail : Spiro. ...\n",
            "=================\n"
          ]
        },
        {
          "name": "stderr",
          "output_type": "stream",
          "text": [
            "WARNING:neo4j.notifications:Received notification from DBMS server: {severity: WARNING} {code: Neo.ClientNotification.Statement.FeatureDeprecationWarning} {category: DEPRECATION} {title: This feature is deprecated and will be removed in future versions.} {description: The query used a deprecated function: `id`.} {position: line: 1, column: 23, offset: 22} for query: 'MATCH (m:Movie) WHERE ID(m) = $id SET m.plotEmbedding = $embedding'\n"
          ]
        },
        {
          "name": "stdout",
          "output_type": "stream",
          "text": [
            "Updated movie 'Lamerica' with embedding.\n",
            "52\n",
            "Another Disney underdog sports team of misfit kids (soccer this time) learns to play a new sport and become champions, while building self-esteem, making friends and solving a variety of ...\n",
            "=================\n"
          ]
        },
        {
          "name": "stderr",
          "output_type": "stream",
          "text": [
            "WARNING:neo4j.notifications:Received notification from DBMS server: {severity: WARNING} {code: Neo.ClientNotification.Statement.FeatureDeprecationWarning} {category: DEPRECATION} {title: This feature is deprecated and will be removed in future versions.} {description: The query used a deprecated function: `id`.} {position: line: 1, column: 23, offset: 22} for query: 'MATCH (m:Movie) WHERE ID(m) = $id SET m.plotEmbedding = $embedding'\n"
          ]
        },
        {
          "name": "stdout",
          "output_type": "stream",
          "text": [
            "Updated movie 'Big Green, The' with embedding.\n",
            "53\n",
            "Sadie is desperately looking up to her older sister Georgia who is a famous C&W artist. Sadie wants to be a famous artist like her sister, but is always doing everything wrong. Her ...\n",
            "=================\n"
          ]
        },
        {
          "name": "stderr",
          "output_type": "stream",
          "text": [
            "WARNING:neo4j.notifications:Received notification from DBMS server: {severity: WARNING} {code: Neo.ClientNotification.Statement.FeatureDeprecationWarning} {category: DEPRECATION} {title: This feature is deprecated and will be removed in future versions.} {description: The query used a deprecated function: `id`.} {position: line: 1, column: 23, offset: 22} for query: 'MATCH (m:Movie) WHERE ID(m) = $id SET m.plotEmbedding = $embedding'\n"
          ]
        },
        {
          "name": "stdout",
          "output_type": "stream",
          "text": [
            "Updated movie 'Georgia' with embedding.\n",
            "54\n",
            "After losing her job, making out with her soon-to-be former boss and finding out that her daughter plans to spend Thanksgiving with her boyfriend, Claudia Larson faces spending the holiday with her family.\n",
            "=================\n"
          ]
        },
        {
          "name": "stderr",
          "output_type": "stream",
          "text": [
            "WARNING:neo4j.notifications:Received notification from DBMS server: {severity: WARNING} {code: Neo.ClientNotification.Statement.FeatureDeprecationWarning} {category: DEPRECATION} {title: This feature is deprecated and will be removed in future versions.} {description: The query used a deprecated function: `id`.} {position: line: 1, column: 23, offset: 22} for query: 'MATCH (m:Movie) WHERE ID(m) = $id SET m.plotEmbedding = $embedding'\n"
          ]
        },
        {
          "name": "stdout",
          "output_type": "stream",
          "text": [
            "Updated movie 'Home for the Holidays' with embedding.\n",
            "55\n",
            "Simple Italian postman learns to love poetry while delivering mail to a famous poet; he uses this to woo local beauty Beatrice.\n",
            "=================\n"
          ]
        },
        {
          "name": "stderr",
          "output_type": "stream",
          "text": [
            "WARNING:neo4j.notifications:Received notification from DBMS server: {severity: WARNING} {code: Neo.ClientNotification.Statement.FeatureDeprecationWarning} {category: DEPRECATION} {title: This feature is deprecated and will be removed in future versions.} {description: The query used a deprecated function: `id`.} {position: line: 1, column: 23, offset: 22} for query: 'MATCH (m:Movie) WHERE ID(m) = $id SET m.plotEmbedding = $embedding'\n"
          ]
        },
        {
          "name": "stdout",
          "output_type": "stream",
          "text": [
            "Updated movie 'Postman, The (Postino, Il)' with embedding.\n",
            "56\n",
            "The year is 1952, in Quebec City. Rachel, 16, unmarried, and pregnant, works in the church. Filled with shame, she unburdens her guilt to a young priest, under the confidentiality of the ...\n",
            "=================\n"
          ]
        },
        {
          "name": "stderr",
          "output_type": "stream",
          "text": [
            "WARNING:neo4j.notifications:Received notification from DBMS server: {severity: WARNING} {code: Neo.ClientNotification.Statement.FeatureDeprecationWarning} {category: DEPRECATION} {title: This feature is deprecated and will be removed in future versions.} {description: The query used a deprecated function: `id`.} {position: line: 1, column: 23, offset: 22} for query: 'MATCH (m:Movie) WHERE ID(m) = $id SET m.plotEmbedding = $embedding'\n"
          ]
        },
        {
          "name": "stdout",
          "output_type": "stream",
          "text": [
            "Updated movie 'Confessional, The (Confessionnal, Le)' with embedding.\n",
            "57\n",
            "On his ninth birthday a boy receives many presents. Two of them first seem to be less important: an old cupboard from his brother and a little Indian figure made of plastic from his best ...\n",
            "=================\n"
          ]
        },
        {
          "name": "stderr",
          "output_type": "stream",
          "text": [
            "WARNING:neo4j.notifications:Received notification from DBMS server: {severity: WARNING} {code: Neo.ClientNotification.Statement.FeatureDeprecationWarning} {category: DEPRECATION} {title: This feature is deprecated and will be removed in future versions.} {description: The query used a deprecated function: `id`.} {position: line: 1, column: 23, offset: 22} for query: 'MATCH (m:Movie) WHERE ID(m) = $id SET m.plotEmbedding = $embedding'\n"
          ]
        },
        {
          "name": "stdout",
          "output_type": "stream",
          "text": [
            "Updated movie 'Indian in the Cupboard, The' with embedding.\n",
            "58\n",
            "When the courts fail to keep behind bars the man who raped and murdered her daughter, a woman seeks her own form of justice.\n",
            "=================\n"
          ]
        },
        {
          "name": "stderr",
          "output_type": "stream",
          "text": [
            "WARNING:neo4j.notifications:Received notification from DBMS server: {severity: WARNING} {code: Neo.ClientNotification.Statement.FeatureDeprecationWarning} {category: DEPRECATION} {title: This feature is deprecated and will be removed in future versions.} {description: The query used a deprecated function: `id`.} {position: line: 1, column: 23, offset: 22} for query: 'MATCH (m:Movie) WHERE ID(m) = $id SET m.plotEmbedding = $embedding'\n",
            "WARNING:neo4j.notifications:Received notification from DBMS server: {severity: WARNING} {code: Neo.ClientNotification.Statement.FeatureDeprecationWarning} {category: DEPRECATION} {title: This feature is deprecated and will be removed in future versions.} {description: The query used a deprecated function: `id`.} {position: line: 1, column: 23, offset: 22} for query: 'MATCH (m:Movie) WHERE ID(m) = $id SET m.plotEmbedding = $embedding'\n"
          ]
        },
        {
          "name": "stdout",
          "output_type": "stream",
          "text": [
            "Updated movie 'Eye for an Eye' with embedding.\n",
            "59\n",
            "A frustrated composer finds fulfillment as a high school music teacher.\n",
            "=================\n",
            "Updated movie 'Mr. Holland's Opus' with embedding.\n",
            "60\n",
            "Don't Be a Menace to South Central While Drinking your Juice in the Hood is a parody of several U.S. films about being in the 'Hood', for instance Boyz n the Hood, South Central, ...\n",
            "=================\n"
          ]
        },
        {
          "name": "stderr",
          "output_type": "stream",
          "text": [
            "WARNING:neo4j.notifications:Received notification from DBMS server: {severity: WARNING} {code: Neo.ClientNotification.Statement.FeatureDeprecationWarning} {category: DEPRECATION} {title: This feature is deprecated and will be removed in future versions.} {description: The query used a deprecated function: `id`.} {position: line: 1, column: 23, offset: 22} for query: 'MATCH (m:Movie) WHERE ID(m) = $id SET m.plotEmbedding = $embedding'\n"
          ]
        },
        {
          "name": "stdout",
          "output_type": "stream",
          "text": [
            "Updated movie 'Don't Be a Menace to South Central While Drinking Your Juice in the Hood' with embedding.\n",
            "61\n",
            "Frank O'Brien, a petty thief, and his 7-year-long girlfriend Roz want to put an end to their unsteady lifestyle and just do that _last_ job, which involves stealing a valuable painting. ...\n",
            "=================\n"
          ]
        },
        {
          "name": "stderr",
          "output_type": "stream",
          "text": [
            "WARNING:neo4j.notifications:Received notification from DBMS server: {severity: WARNING} {code: Neo.ClientNotification.Statement.FeatureDeprecationWarning} {category: DEPRECATION} {title: This feature is deprecated and will be removed in future versions.} {description: The query used a deprecated function: `id`.} {position: line: 1, column: 23, offset: 22} for query: 'MATCH (m:Movie) WHERE ID(m) = $id SET m.plotEmbedding = $embedding'\n"
          ]
        },
        {
          "name": "stdout",
          "output_type": "stream",
          "text": [
            "Updated movie 'Two if by Sea' with embedding.\n",
            "62\n",
            "Moronic best friends get themselves locked inside the Bio-Dome, a science experiment, along with a group of environmental scientists for one year.\n",
            "=================\n"
          ]
        },
        {
          "name": "stderr",
          "output_type": "stream",
          "text": [
            "WARNING:neo4j.notifications:Received notification from DBMS server: {severity: WARNING} {code: Neo.ClientNotification.Statement.FeatureDeprecationWarning} {category: DEPRECATION} {title: This feature is deprecated and will be removed in future versions.} {description: The query used a deprecated function: `id`.} {position: line: 1, column: 23, offset: 22} for query: 'MATCH (m:Movie) WHERE ID(m) = $id SET m.plotEmbedding = $embedding'\n"
          ]
        },
        {
          "name": "stdout",
          "output_type": "stream",
          "text": [
            "Updated movie 'Bio-Dome' with embedding.\n",
            "63\n",
            "Jobe is resuscitated by Jonathan Walker. He wants Jobe to create a special computer chip that would connect all the computers in the world into one network, which Walker would control and ...\n",
            "=================\n"
          ]
        },
        {
          "name": "stderr",
          "output_type": "stream",
          "text": [
            "WARNING:neo4j.notifications:Received notification from DBMS server: {severity: WARNING} {code: Neo.ClientNotification.Statement.FeatureDeprecationWarning} {category: DEPRECATION} {title: This feature is deprecated and will be removed in future versions.} {description: The query used a deprecated function: `id`.} {position: line: 1, column: 23, offset: 22} for query: 'MATCH (m:Movie) WHERE ID(m) = $id SET m.plotEmbedding = $embedding'\n"
          ]
        },
        {
          "name": "stdout",
          "output_type": "stream",
          "text": [
            "Updated movie 'Lawnmower Man 2: Beyond Cyberspace' with embedding.\n",
            "64\n",
            "After learning of her husband's infidelities, a housewife invites an itinerant lesbian to move in with them. None of their lives will ever be the same again.\n",
            "=================\n"
          ]
        },
        {
          "name": "stderr",
          "output_type": "stream",
          "text": [
            "WARNING:neo4j.notifications:Received notification from DBMS server: {severity: WARNING} {code: Neo.ClientNotification.Statement.FeatureDeprecationWarning} {category: DEPRECATION} {title: This feature is deprecated and will be removed in future versions.} {description: The query used a deprecated function: `id`.} {position: line: 1, column: 23, offset: 22} for query: 'MATCH (m:Movie) WHERE ID(m) = $id SET m.plotEmbedding = $embedding'\n"
          ]
        },
        {
          "name": "stdout",
          "output_type": "stream",
          "text": [
            "Updated movie 'French Twist (Gazon maudit)' with embedding.\n",
            "65\n",
            "Two homies, Smokey and Craig, smoke a dope dealer's weed and try to figure a way to get the $200 they owe to the dealer by ten p.m. that same night. In that time, they smoke more weed, get jacked, and they get shot at in a drive-by.\n",
            "=================\n"
          ]
        },
        {
          "name": "stderr",
          "output_type": "stream",
          "text": [
            "WARNING:neo4j.notifications:Received notification from DBMS server: {severity: WARNING} {code: Neo.ClientNotification.Statement.FeatureDeprecationWarning} {category: DEPRECATION} {title: This feature is deprecated and will be removed in future versions.} {description: The query used a deprecated function: `id`.} {position: line: 1, column: 23, offset: 22} for query: 'MATCH (m:Movie) WHERE ID(m) = $id SET m.plotEmbedding = $embedding'\n"
          ]
        },
        {
          "name": "stdout",
          "output_type": "stream",
          "text": [
            "Updated movie 'Friday' with embedding.\n",
            "66\n",
            "Two criminals and their hostages unknowingly seek temporary refuge in an establishment populated by vampires, with chaotic results.\n",
            "=================\n"
          ]
        },
        {
          "name": "stderr",
          "output_type": "stream",
          "text": [
            "WARNING:neo4j.notifications:Received notification from DBMS server: {severity: WARNING} {code: Neo.ClientNotification.Statement.FeatureDeprecationWarning} {category: DEPRECATION} {title: This feature is deprecated and will be removed in future versions.} {description: The query used a deprecated function: `id`.} {position: line: 1, column: 23, offset: 22} for query: 'MATCH (m:Movie) WHERE ID(m) = $id SET m.plotEmbedding = $embedding'\n"
          ]
        },
        {
          "name": "stdout",
          "output_type": "stream",
          "text": [
            "Updated movie 'From Dusk Till Dawn' with embedding.\n",
            "67\n",
            "Max Kirkpatrick is a cop who protects Kate McQuean, a civil law attorney, from a renegade KGB team out to terminate her.\n",
            "=================\n"
          ]
        },
        {
          "name": "stderr",
          "output_type": "stream",
          "text": [
            "WARNING:neo4j.notifications:Received notification from DBMS server: {severity: WARNING} {code: Neo.ClientNotification.Statement.FeatureDeprecationWarning} {category: DEPRECATION} {title: This feature is deprecated and will be removed in future versions.} {description: The query used a deprecated function: `id`.} {position: line: 1, column: 23, offset: 22} for query: 'MATCH (m:Movie) WHERE ID(m) = $id SET m.plotEmbedding = $embedding'\n"
          ]
        },
        {
          "name": "stdout",
          "output_type": "stream",
          "text": [
            "Updated movie 'Fair Game' with embedding.\n",
            "68\n",
            "Following graduation, a handful of college students do nothing and talk about it wittily.\n",
            "=================\n"
          ]
        },
        {
          "name": "stderr",
          "output_type": "stream",
          "text": [
            "WARNING:neo4j.notifications:Received notification from DBMS server: {severity: WARNING} {code: Neo.ClientNotification.Statement.FeatureDeprecationWarning} {category: DEPRECATION} {title: This feature is deprecated and will be removed in future versions.} {description: The query used a deprecated function: `id`.} {position: line: 1, column: 23, offset: 22} for query: 'MATCH (m:Movie) WHERE ID(m) = $id SET m.plotEmbedding = $embedding'\n"
          ]
        },
        {
          "name": "stdout",
          "output_type": "stream",
          "text": [
            "Updated movie 'Kicking and Screaming' with embedding.\n",
            "69\n",
            "Henri Fortin is poor and iliterate former boxer. Ziman is rich Jewish lawyer from Paris. During WWII they meet when Fortin agrees to drive Ziman's family to Switzerland. Intrigued by Victor...\n",
            "=================\n"
          ]
        },
        {
          "name": "stderr",
          "output_type": "stream",
          "text": [
            "WARNING:neo4j.notifications:Received notification from DBMS server: {severity: WARNING} {code: Neo.ClientNotification.Statement.FeatureDeprecationWarning} {category: DEPRECATION} {title: This feature is deprecated and will be removed in future versions.} {description: The query used a deprecated function: `id`.} {position: line: 1, column: 23, offset: 22} for query: 'MATCH (m:Movie) WHERE ID(m) = $id SET m.plotEmbedding = $embedding'\n"
          ]
        },
        {
          "name": "stdout",
          "output_type": "stream",
          "text": [
            "Updated movie 'Misérables, Les' with embedding.\n",
            "70\n",
            "Romantic drama about a young career girl who is swept off her feet by a shy florist, who fell in love with her after one glimpse through a shadowy window.\n",
            "=================\n"
          ]
        },
        {
          "name": "stderr",
          "output_type": "stream",
          "text": [
            "WARNING:neo4j.notifications:Received notification from DBMS server: {severity: WARNING} {code: Neo.ClientNotification.Statement.FeatureDeprecationWarning} {category: DEPRECATION} {title: This feature is deprecated and will be removed in future versions.} {description: The query used a deprecated function: `id`.} {position: line: 1, column: 23, offset: 22} for query: 'MATCH (m:Movie) WHERE ID(m) = $id SET m.plotEmbedding = $embedding'\n"
          ]
        },
        {
          "name": "stdout",
          "output_type": "stream",
          "text": [
            "Updated movie 'Bed of Roses' with embedding.\n",
            "71\n",
            "(SIRIUS 6B, Year 2078) On a distant mining planet ravaged by a decade of war, scientists have created the perfect weapon: a blade-wielding, self-replicating race of killing devices known as...\n",
            "=================\n"
          ]
        },
        {
          "name": "stderr",
          "output_type": "stream",
          "text": [
            "WARNING:neo4j.notifications:Received notification from DBMS server: {severity: WARNING} {code: Neo.ClientNotification.Statement.FeatureDeprecationWarning} {category: DEPRECATION} {title: This feature is deprecated and will be removed in future versions.} {description: The query used a deprecated function: `id`.} {position: line: 1, column: 23, offset: 22} for query: 'MATCH (m:Movie) WHERE ID(m) = $id SET m.plotEmbedding = $embedding'\n"
          ]
        },
        {
          "name": "stdout",
          "output_type": "stream",
          "text": [
            "Updated movie 'Screamers' with embedding.\n",
            "72\n",
            "A look into the many lives of Christa Päffgen, otherwise known as Nico; from cutie German mädchen to the first of the supermodels, to glamorous diva of the Velvet Underground, to cult item,...\n",
            "=================\n"
          ]
        },
        {
          "name": "stderr",
          "output_type": "stream",
          "text": [
            "WARNING:neo4j.notifications:Received notification from DBMS server: {severity: WARNING} {code: Neo.ClientNotification.Statement.FeatureDeprecationWarning} {category: DEPRECATION} {title: This feature is deprecated and will be removed in future versions.} {description: The query used a deprecated function: `id`.} {position: line: 1, column: 23, offset: 22} for query: 'MATCH (m:Movie) WHERE ID(m) = $id SET m.plotEmbedding = $embedding'\n"
          ]
        },
        {
          "name": "stdout",
          "output_type": "stream",
          "text": [
            "Updated movie 'Nico Icon' with embedding.\n",
            "73\n",
            "Freddie Gale is a seedy jeweler who has sworn to kill the drunk driver who killed his little girl.\n",
            "=================\n"
          ]
        },
        {
          "name": "stderr",
          "output_type": "stream",
          "text": [
            "WARNING:neo4j.notifications:Received notification from DBMS server: {severity: WARNING} {code: Neo.ClientNotification.Statement.FeatureDeprecationWarning} {category: DEPRECATION} {title: This feature is deprecated and will be removed in future versions.} {description: The query used a deprecated function: `id`.} {position: line: 1, column: 23, offset: 22} for query: 'MATCH (m:Movie) WHERE ID(m) = $id SET m.plotEmbedding = $embedding'\n"
          ]
        },
        {
          "name": "stdout",
          "output_type": "stream",
          "text": [
            "Updated movie 'Crossing Guard, The' with embedding.\n",
            "74\n",
            "When Annie Laird is selected as a juror in a big Mafia trial, she is forced by someone known as The Teacher to persuade the other jurors to vote not guilty. He threatens to kill her son...\n",
            "=================\n"
          ]
        },
        {
          "name": "stderr",
          "output_type": "stream",
          "text": [
            "WARNING:neo4j.notifications:Received notification from DBMS server: {severity: WARNING} {code: Neo.ClientNotification.Statement.FeatureDeprecationWarning} {category: DEPRECATION} {title: This feature is deprecated and will be removed in future versions.} {description: The query used a deprecated function: `id`.} {position: line: 1, column: 23, offset: 22} for query: 'MATCH (m:Movie) WHERE ID(m) = $id SET m.plotEmbedding = $embedding'\n"
          ]
        },
        {
          "name": "stdout",
          "output_type": "stream",
          "text": [
            "Updated movie 'Juror, The' with embedding.\n",
            "75\n",
            "Several people try to take advantage of a little girl's innocence to hustle money her mom gave to her to buy a goldfish with.\n",
            "=================\n"
          ]
        },
        {
          "name": "stderr",
          "output_type": "stream",
          "text": [
            "WARNING:neo4j.notifications:Received notification from DBMS server: {severity: WARNING} {code: Neo.ClientNotification.Statement.FeatureDeprecationWarning} {category: DEPRECATION} {title: This feature is deprecated and will be removed in future versions.} {description: The query used a deprecated function: `id`.} {position: line: 1, column: 23, offset: 22} for query: 'MATCH (m:Movie) WHERE ID(m) = $id SET m.plotEmbedding = $embedding'\n",
            "WARNING:neo4j.notifications:Received notification from DBMS server: {severity: WARNING} {code: Neo.ClientNotification.Statement.FeatureDeprecationWarning} {category: DEPRECATION} {title: This feature is deprecated and will be removed in future versions.} {description: The query used a deprecated function: `id`.} {position: line: 1, column: 23, offset: 22} for query: 'MATCH (m:Movie) WHERE ID(m) = $id SET m.plotEmbedding = $embedding'\n"
          ]
        },
        {
          "name": "stdout",
          "output_type": "stream",
          "text": [
            "Updated movie 'White Balloon, The (Badkonake sefid)' with embedding.\n",
            "76\n",
            "Five different criminals face imminent death after botching a job quite badly.\n",
            "=================\n",
            "Updated movie 'Things to Do in Denver When You're Dead' with embedding.\n",
            "77\n",
            "A Dutch matron establishes and, for several generations, oversees a close-knit, matriarchal community where feminism and liberalism thrive.\n",
            "=================\n"
          ]
        },
        {
          "name": "stderr",
          "output_type": "stream",
          "text": [
            "WARNING:neo4j.notifications:Received notification from DBMS server: {severity: WARNING} {code: Neo.ClientNotification.Statement.FeatureDeprecationWarning} {category: DEPRECATION} {title: This feature is deprecated and will be removed in future versions.} {description: The query used a deprecated function: `id`.} {position: line: 1, column: 23, offset: 22} for query: 'MATCH (m:Movie) WHERE ID(m) = $id SET m.plotEmbedding = $embedding'\n"
          ]
        },
        {
          "name": "stdout",
          "output_type": "stream",
          "text": [
            "Updated movie 'Antonia's Line (Antonia)' with embedding.\n",
            "78\n",
            "A narrator tells the story of his childhood years in a tightly knit Afro-American community in the deep south under racial segregation.\n",
            "=================\n"
          ]
        },
        {
          "name": "stderr",
          "output_type": "stream",
          "text": [
            "WARNING:neo4j.notifications:Received notification from DBMS server: {severity: WARNING} {code: Neo.ClientNotification.Statement.FeatureDeprecationWarning} {category: DEPRECATION} {title: This feature is deprecated and will be removed in future versions.} {description: The query used a deprecated function: `id`.} {position: line: 1, column: 23, offset: 22} for query: 'MATCH (m:Movie) WHERE ID(m) = $id SET m.plotEmbedding = $embedding'\n"
          ]
        },
        {
          "name": "stdout",
          "output_type": "stream",
          "text": [
            "Updated movie 'Once Upon a Time... When We Were Colored' with embedding.\n",
            "79\n",
            "Filmed entirely on location in East Hampton, Long Island, Last Summer in the Hamptons concerns a large theatrical family spending the last weekend of their summer together at the ...\n",
            "=================\n"
          ]
        },
        {
          "name": "stderr",
          "output_type": "stream",
          "text": [
            "WARNING:neo4j.notifications:Received notification from DBMS server: {severity: WARNING} {code: Neo.ClientNotification.Statement.FeatureDeprecationWarning} {category: DEPRECATION} {title: This feature is deprecated and will be removed in future versions.} {description: The query used a deprecated function: `id`.} {position: line: 1, column: 23, offset: 22} for query: 'MATCH (m:Movie) WHERE ID(m) = $id SET m.plotEmbedding = $embedding'\n"
          ]
        },
        {
          "name": "stdout",
          "output_type": "stream",
          "text": [
            "Updated movie 'Last Summer in the Hamptons' with embedding.\n",
            "80\n",
            "In the 1800s a naturalist marries into a family of British country gentry.\n",
            "=================\n"
          ]
        },
        {
          "name": "stderr",
          "output_type": "stream",
          "text": [
            "WARNING:neo4j.notifications:Received notification from DBMS server: {severity: WARNING} {code: Neo.ClientNotification.Statement.FeatureDeprecationWarning} {category: DEPRECATION} {title: This feature is deprecated and will be removed in future versions.} {description: The query used a deprecated function: `id`.} {position: line: 1, column: 23, offset: 22} for query: 'MATCH (m:Movie) WHERE ID(m) = $id SET m.plotEmbedding = $embedding'\n"
          ]
        },
        {
          "name": "stdout",
          "output_type": "stream",
          "text": [
            "Updated movie 'Angels and Insects' with embedding.\n",
            "81\n",
            "Teenage boys discover discipline and camaraderie on an ill-fated sailing voyage.\n",
            "=================\n"
          ]
        },
        {
          "name": "stderr",
          "output_type": "stream",
          "text": [
            "WARNING:neo4j.notifications:Received notification from DBMS server: {severity: WARNING} {code: Neo.ClientNotification.Statement.FeatureDeprecationWarning} {category: DEPRECATION} {title: This feature is deprecated and will be removed in future versions.} {description: The query used a deprecated function: `id`.} {position: line: 1, column: 23, offset: 22} for query: 'MATCH (m:Movie) WHERE ID(m) = $id SET m.plotEmbedding = $embedding'\n"
          ]
        },
        {
          "name": "stdout",
          "output_type": "stream",
          "text": [
            "Updated movie 'White Squall' with embedding.\n",
            "82\n",
            "Young boy befriends larcenous orangutan in luxury hotel.\n",
            "=================\n"
          ]
        },
        {
          "name": "stderr",
          "output_type": "stream",
          "text": [
            "WARNING:neo4j.notifications:Received notification from DBMS server: {severity: WARNING} {code: Neo.ClientNotification.Statement.FeatureDeprecationWarning} {category: DEPRECATION} {title: This feature is deprecated and will be removed in future versions.} {description: The query used a deprecated function: `id`.} {position: line: 1, column: 23, offset: 22} for query: 'MATCH (m:Movie) WHERE ID(m) = $id SET m.plotEmbedding = $embedding'\n"
          ]
        },
        {
          "name": "stdout",
          "output_type": "stream",
          "text": [
            "Updated movie 'Dunston Checks In' with embedding.\n",
            "83\n",
            "A gubernatorial candidate hires a wormy special assistant whose only job is to make sure the candidate's well-meaning but incompetent brother doesn't ruin the election.\n",
            "=================\n"
          ]
        },
        {
          "name": "stderr",
          "output_type": "stream",
          "text": [
            "WARNING:neo4j.notifications:Received notification from DBMS server: {severity: WARNING} {code: Neo.ClientNotification.Statement.FeatureDeprecationWarning} {category: DEPRECATION} {title: This feature is deprecated and will be removed in future versions.} {description: The query used a deprecated function: `id`.} {position: line: 1, column: 23, offset: 22} for query: 'MATCH (m:Movie) WHERE ID(m) = $id SET m.plotEmbedding = $embedding'\n"
          ]
        },
        {
          "name": "stdout",
          "output_type": "stream",
          "text": [
            "Updated movie 'Black Sheep' with embedding.\n",
            "84\n",
            "An unimpressive, every-day man is forced into a situation where he is told to kill a politician to save his kidnapped daughter.\n",
            "=================\n"
          ]
        },
        {
          "name": "stderr",
          "output_type": "stream",
          "text": [
            "WARNING:neo4j.notifications:Received notification from DBMS server: {severity: WARNING} {code: Neo.ClientNotification.Statement.FeatureDeprecationWarning} {category: DEPRECATION} {title: This feature is deprecated and will be removed in future versions.} {description: The query used a deprecated function: `id`.} {position: line: 1, column: 23, offset: 22} for query: 'MATCH (m:Movie) WHERE ID(m) = $id SET m.plotEmbedding = $embedding'\n"
          ]
        },
        {
          "name": "stdout",
          "output_type": "stream",
          "text": [
            "Updated movie 'Nick of Time' with embedding.\n",
            "85\n",
            "A housemaid falls in love with Dr. Jekyll and his darkly mysterious counterpart, Mr. Hyde.\n",
            "=================\n"
          ]
        },
        {
          "name": "stderr",
          "output_type": "stream",
          "text": [
            "WARNING:neo4j.notifications:Received notification from DBMS server: {severity: WARNING} {code: Neo.ClientNotification.Statement.FeatureDeprecationWarning} {category: DEPRECATION} {title: This feature is deprecated and will be removed in future versions.} {description: The query used a deprecated function: `id`.} {position: line: 1, column: 23, offset: 22} for query: 'MATCH (m:Movie) WHERE ID(m) = $id SET m.plotEmbedding = $embedding'\n"
          ]
        },
        {
          "name": "stdout",
          "output_type": "stream",
          "text": [
            "Updated movie 'Mary Reilly' with embedding.\n",
            "86\n",
            "Maximillian is the only survivor from a race of vampires on a Caribbean Island, and as a vampire, he must find a mate to keep the line from ending. He knows that a child had been born to a ...\n",
            "=================\n"
          ]
        },
        {
          "name": "stderr",
          "output_type": "stream",
          "text": [
            "WARNING:neo4j.notifications:Received notification from DBMS server: {severity: WARNING} {code: Neo.ClientNotification.Statement.FeatureDeprecationWarning} {category: DEPRECATION} {title: This feature is deprecated and will be removed in future versions.} {description: The query used a deprecated function: `id`.} {position: line: 1, column: 23, offset: 22} for query: 'MATCH (m:Movie) WHERE ID(m) = $id SET m.plotEmbedding = $embedding'\n"
          ]
        },
        {
          "name": "stdout",
          "output_type": "stream",
          "text": [
            "Updated movie 'Vampire in Brooklyn' with embedding.\n",
            "87\n",
            "A piano player at a crossroads in his life returns home to his friends and their own problems with life and love.\n",
            "=================\n"
          ]
        },
        {
          "name": "stderr",
          "output_type": "stream",
          "text": [
            "WARNING:neo4j.notifications:Received notification from DBMS server: {severity: WARNING} {code: Neo.ClientNotification.Statement.FeatureDeprecationWarning} {category: DEPRECATION} {title: This feature is deprecated and will be removed in future versions.} {description: The query used a deprecated function: `id`.} {position: line: 1, column: 23, offset: 22} for query: 'MATCH (m:Movie) WHERE ID(m) = $id SET m.plotEmbedding = $embedding'\n"
          ]
        },
        {
          "name": "stdout",
          "output_type": "stream",
          "text": [
            "Updated movie 'Beautiful Girls' with embedding.\n",
            "88\n",
            "Terrorists steal nuclear warheads from the U.S. military but don't count on a pilot and park ranger spoiling their plans.\n",
            "=================\n"
          ]
        },
        {
          "name": "stderr",
          "output_type": "stream",
          "text": [
            "WARNING:neo4j.notifications:Received notification from DBMS server: {severity: WARNING} {code: Neo.ClientNotification.Statement.FeatureDeprecationWarning} {category: DEPRECATION} {title: This feature is deprecated and will be removed in future versions.} {description: The query used a deprecated function: `id`.} {position: line: 1, column: 23, offset: 22} for query: 'MATCH (m:Movie) WHERE ID(m) = $id SET m.plotEmbedding = $embedding'\n"
          ]
        },
        {
          "name": "stdout",
          "output_type": "stream",
          "text": [
            "Updated movie 'Broken Arrow' with embedding.\n",
            "89\n",
            "Out of work actor Joe volunteers to help try and save his sister's local church for the community by putting on a Christmas production of Hamlet, somewhat against the advice of his agent ...\n",
            "=================\n"
          ]
        },
        {
          "name": "stderr",
          "output_type": "stream",
          "text": [
            "WARNING:neo4j.notifications:Received notification from DBMS server: {severity: WARNING} {code: Neo.ClientNotification.Statement.FeatureDeprecationWarning} {category: DEPRECATION} {title: This feature is deprecated and will be removed in future versions.} {description: The query used a deprecated function: `id`.} {position: line: 1, column: 23, offset: 22} for query: 'MATCH (m:Movie) WHERE ID(m) = $id SET m.plotEmbedding = $embedding'\n"
          ]
        },
        {
          "name": "stdout",
          "output_type": "stream",
          "text": [
            "Updated movie 'In the Bleak Midwinter' with embedding.\n",
            "90\n",
            "24 hours in the lives of three young men in the French suburbs the day after a violent riot.\n",
            "=================\n"
          ]
        },
        {
          "name": "stderr",
          "output_type": "stream",
          "text": [
            "WARNING:neo4j.notifications:Received notification from DBMS server: {severity: WARNING} {code: Neo.ClientNotification.Statement.FeatureDeprecationWarning} {category: DEPRECATION} {title: This feature is deprecated and will be removed in future versions.} {description: The query used a deprecated function: `id`.} {position: line: 1, column: 23, offset: 22} for query: 'MATCH (m:Movie) WHERE ID(m) = $id SET m.plotEmbedding = $embedding'\n"
          ]
        },
        {
          "name": "stdout",
          "output_type": "stream",
          "text": [
            "Updated movie 'Hate (Haine, La)' with embedding.\n",
            "91\n",
            "You've run out of options, no school, no job. Steal a car, smash a shop with a heavy car and reap the proceeds!. This movie is about underground England. The causes, the benefits, and the result of a life of 'crash and carry'.\n",
            "=================\n"
          ]
        },
        {
          "name": "stderr",
          "output_type": "stream",
          "text": [
            "WARNING:neo4j.notifications:Received notification from DBMS server: {severity: WARNING} {code: Neo.ClientNotification.Statement.FeatureDeprecationWarning} {category: DEPRECATION} {title: This feature is deprecated and will be removed in future versions.} {description: The query used a deprecated function: `id`.} {position: line: 1, column: 23, offset: 22} for query: 'MATCH (m:Movie) WHERE ID(m) = $id SET m.plotEmbedding = $embedding'\n"
          ]
        },
        {
          "name": "stdout",
          "output_type": "stream",
          "text": [
            "Updated movie 'Shopping' with embedding.\n",
            "92\n",
            "A documentary crew from the BBC arrives in L.A. intent on interviewing Heidi Fleiss, a year after her arrest for running a brothel but before her trial. Several months elapse before the ...\n",
            "=================\n"
          ]
        },
        {
          "name": "stderr",
          "output_type": "stream",
          "text": [
            "WARNING:neo4j.notifications:Received notification from DBMS server: {severity: WARNING} {code: Neo.ClientNotification.Statement.FeatureDeprecationWarning} {category: DEPRECATION} {title: This feature is deprecated and will be removed in future versions.} {description: The query used a deprecated function: `id`.} {position: line: 1, column: 23, offset: 22} for query: 'MATCH (m:Movie) WHERE ID(m) = $id SET m.plotEmbedding = $embedding'\n"
          ]
        },
        {
          "name": "stdout",
          "output_type": "stream",
          "text": [
            "Updated movie 'Heidi Fleiss: Hollywood Madam' with embedding.\n",
            "93\n",
            "The accidental shooting of a boy in New York leads to an investigation by the Deputy Mayor, and unexpectedly far-reaching consequences.\n",
            "=================\n"
          ]
        },
        {
          "name": "stderr",
          "output_type": "stream",
          "text": [
            "WARNING:neo4j.notifications:Received notification from DBMS server: {severity: WARNING} {code: Neo.ClientNotification.Statement.FeatureDeprecationWarning} {category: DEPRECATION} {title: This feature is deprecated and will be removed in future versions.} {description: The query used a deprecated function: `id`.} {position: line: 1, column: 23, offset: 22} for query: 'MATCH (m:Movie) WHERE ID(m) = $id SET m.plotEmbedding = $embedding'\n"
          ]
        },
        {
          "name": "stdout",
          "output_type": "stream",
          "text": [
            "Updated movie 'City Hall' with embedding.\n",
            "94\n",
            "Focusing on a trio of friends and their elaborate plan to pull off a simple robbery and go on the run.\n",
            "=================\n"
          ]
        },
        {
          "name": "stderr",
          "output_type": "stream",
          "text": [
            "WARNING:neo4j.notifications:Received notification from DBMS server: {severity: WARNING} {code: Neo.ClientNotification.Statement.FeatureDeprecationWarning} {category: DEPRECATION} {title: This feature is deprecated and will be removed in future versions.} {description: The query used a deprecated function: `id`.} {position: line: 1, column: 23, offset: 22} for query: 'MATCH (m:Movie) WHERE ID(m) = $id SET m.plotEmbedding = $embedding'\n"
          ]
        },
        {
          "name": "stdout",
          "output_type": "stream",
          "text": [
            "Updated movie 'Bottle Rocket' with embedding.\n",
            "95\n",
            "A single and lonely woman finds the seemingly perfect man to date, but soon regrets it when his deranged and possessive other personality emerges and worst still, she cannot convince anyone else of his Jekyll/Hyde true nature.\n",
            "=================\n"
          ]
        },
        {
          "name": "stderr",
          "output_type": "stream",
          "text": [
            "WARNING:neo4j.notifications:Received notification from DBMS server: {severity: WARNING} {code: Neo.ClientNotification.Statement.FeatureDeprecationWarning} {category: DEPRECATION} {title: This feature is deprecated and will be removed in future versions.} {description: The query used a deprecated function: `id`.} {position: line: 1, column: 23, offset: 22} for query: 'MATCH (m:Movie) WHERE ID(m) = $id SET m.plotEmbedding = $embedding'\n"
          ]
        },
        {
          "name": "stdout",
          "output_type": "stream",
          "text": [
            "Updated movie 'Mr. Wrong' with embedding.\n",
            "96\n",
            "Unsuccessfully framed for his wife's murder, Dr. David Krane attempts to find the real culprit by utilizing a new drug that allows him to experience the memories of other people first-hand....\n",
            "=================\n"
          ]
        },
        {
          "name": "stderr",
          "output_type": "stream",
          "text": [
            "WARNING:neo4j.notifications:Received notification from DBMS server: {severity: WARNING} {code: Neo.ClientNotification.Statement.FeatureDeprecationWarning} {category: DEPRECATION} {title: This feature is deprecated and will be removed in future versions.} {description: The query used a deprecated function: `id`.} {position: line: 1, column: 23, offset: 22} for query: 'MATCH (m:Movie) WHERE ID(m) = $id SET m.plotEmbedding = $embedding'\n"
          ]
        },
        {
          "name": "stdout",
          "output_type": "stream",
          "text": [
            "Updated movie 'Unforgettable' with embedding.\n",
            "97\n",
            "A rejected hockey player puts his skills to the golf course to save his grandmother's house.\n",
            "=================\n"
          ]
        },
        {
          "name": "stderr",
          "output_type": "stream",
          "text": [
            "WARNING:neo4j.notifications:Received notification from DBMS server: {severity: WARNING} {code: Neo.ClientNotification.Statement.FeatureDeprecationWarning} {category: DEPRECATION} {title: This feature is deprecated and will be removed in future versions.} {description: The query used a deprecated function: `id`.} {position: line: 1, column: 23, offset: 22} for query: 'MATCH (m:Movie) WHERE ID(m) = $id SET m.plotEmbedding = $embedding'\n"
          ]
        },
        {
          "name": "stdout",
          "output_type": "stream",
          "text": [
            "Updated movie 'Happy Gilmore' with embedding.\n",
            "98\n",
            "Photographer Robert Kincaid wanders into the life of housewife Francesca Johnson, for four days in the 1960s.\n",
            "=================\n"
          ]
        },
        {
          "name": "stderr",
          "output_type": "stream",
          "text": [
            "WARNING:neo4j.notifications:Received notification from DBMS server: {severity: WARNING} {code: Neo.ClientNotification.Statement.FeatureDeprecationWarning} {category: DEPRECATION} {title: This feature is deprecated and will be removed in future versions.} {description: The query used a deprecated function: `id`.} {position: line: 1, column: 23, offset: 22} for query: 'MATCH (m:Movie) WHERE ID(m) = $id SET m.plotEmbedding = $embedding'\n"
          ]
        },
        {
          "name": "stdout",
          "output_type": "stream",
          "text": [
            "Updated movie 'Bridges of Madison County, The' with embedding.\n",
            "99\n",
            "The Muppets' twist on the classic tale.\n",
            "=================\n"
          ]
        },
        {
          "name": "stderr",
          "output_type": "stream",
          "text": [
            "WARNING:neo4j.notifications:Received notification from DBMS server: {severity: WARNING} {code: Neo.ClientNotification.Statement.FeatureDeprecationWarning} {category: DEPRECATION} {title: This feature is deprecated and will be removed in future versions.} {description: The query used a deprecated function: `id`.} {position: line: 1, column: 23, offset: 22} for query: 'MATCH (m:Movie) WHERE ID(m) = $id SET m.plotEmbedding = $embedding'\n"
          ]
        },
        {
          "name": "stdout",
          "output_type": "stream",
          "text": [
            "Updated movie 'Muppet Treasure Island' with embedding.\n",
            "100\n",
            "A camera follows model Christy Turlington through the spring fashion shows in Milan, Paris, and New York one year in the early 1990s, probably 1992. She and others dash from one designer's ...\n",
            "=================\n"
          ]
        },
        {
          "name": "stderr",
          "output_type": "stream",
          "text": [
            "WARNING:neo4j.notifications:Received notification from DBMS server: {severity: WARNING} {code: Neo.ClientNotification.Statement.FeatureDeprecationWarning} {category: DEPRECATION} {title: This feature is deprecated and will be removed in future versions.} {description: The query used a deprecated function: `id`.} {position: line: 1, column: 23, offset: 22} for query: 'MATCH (m:Movie) WHERE ID(m) = $id SET m.plotEmbedding = $embedding'\n",
            "WARNING:neo4j.notifications:Received notification from DBMS server: {severity: WARNING} {code: Neo.ClientNotification.Statement.FeatureDeprecationWarning} {category: DEPRECATION} {title: This feature is deprecated and will be removed in future versions.} {description: The query used a deprecated function: `id`.} {position: line: 1, column: 23, offset: 22} for query: 'MATCH (m:Movie) WHERE ID(m) = $id SET m.plotEmbedding = $embedding'\n"
          ]
        },
        {
          "name": "stdout",
          "output_type": "stream",
          "text": [
            "Updated movie 'Catwalk' with embedding.\n"
          ]
        }
      ],
      "source": [
        "def add_embedding_to_movie(tx):\n",
        "    \"\"\"모든 Movie 노드의 plot을 임베딩하고, 그 값을 embedding 속성에 추가\"\"\"\n",
        "    result = tx.run(\"MATCH (m:Movie) WHERE m.plot IS NOT NULL RETURN m.title AS title, m.plot AS plot, ID(m) AS id LIMIT 100\")\n",
        "    cnt = 0\n",
        "    for record in result:\n",
        "        cnt += 1\n",
        "        print(cnt)\n",
        "        title = record[\"title\"]\n",
        "        plot = record[\"plot\"]\n",
        "        node_id = record[\"id\"]\n",
        "        print(plot)\n",
        "        print(\"=================\")\n",
        "        embedding = generate_embedding(plot)\n",
        "        # 임베딩 벡터를 Neo4j에 저장\n",
        "        tx.run(\"MATCH (m:Movie) WHERE ID(m) = $id SET m.plotEmbedding = $embedding\", id=node_id, embedding=embedding)\n",
        "        print(f\"Updated movie '{title}' with embedding.\")\n",
        "\n",
        "with driver.session() as session:\n",
        "    session.write_transaction(add_embedding_to_movie)"
      ]
    },
    {
      "cell_type": "markdown",
      "metadata": {
        "id": "yqXfhvRaQFli"
      },
      "source": [
        "## 3. Vector INDEX 로 Retriever 생성하기"
      ]
    },
    {
      "cell_type": "markdown",
      "metadata": {
        "id": "EIIzNQcO_olr"
      },
      "source": [
        "Embedding 모델 : https://platform.openai.com/docs/models/embeddings\n",
        "\n",
        "VECTOR INDEX : https://neo4j.com/docs/cypher-manual/current/indexes/semantic-indexes/vector-indexes/"
      ]
    },
    {
      "cell_type": "markdown",
      "metadata": {
        "id": "VNoMyw_2AUYl"
      },
      "source": [
        "인덱스(VECTOR INDEX) 생성하기\n",
        "```cypher\n",
        "CREATE VECTOR INDEX moviePlotsEmbedding FOR (n:Movie) ON (n.plotEmbedding) OPTIONS {indexConfig: {\n",
        " `vector.dimensions`: 1536,\n",
        " `vector.similarity_function`: 'cosine'\n",
        "}}\n",
        "```"
      ]
    },
    {
      "cell_type": "code",
      "execution_count": 10,
      "metadata": {
        "id": "YH5CcnCU2XJk"
      },
      "outputs": [],
      "source": [
        "from neo4j_graphrag.retrievers import VectorRetriever\n",
        "from neo4j_graphrag.embeddings.openai import OpenAIEmbeddings\n",
        "embedder = OpenAIEmbeddings(model=\"text-embedding-ada-002\")\n",
        "retriever = VectorRetriever(\n",
        "    driver,\n",
        "    index_name=\"moviePlotsEmbedding\",\n",
        "    embedder=embedder,\n",
        "    return_properties=[\"title\", \"plot\"],  # 반환 노드 속성(제목, 줄거리)\n",
        ")"
      ]
    },
    {
      "cell_type": "code",
      "execution_count": 11,
      "metadata": {
        "colab": {
          "base_uri": "https://localhost:8080/"
        },
        "id": "-1WyJK3eTpBA",
        "outputId": "00a438ca-6535-4255-8561-19fa5b95f7a9"
      },
      "outputs": [
        {
          "name": "stdout",
          "output_type": "stream",
          "text": [
            "items=[RetrieverResultItem(content='{\\'title\\': \\'Toy Story\\', \\'plot\\': \"A cowboy doll is profoundly threatened and jealous when a new spaceman figure supplants him as top toy in a boy\\'s room.\"}', metadata={'score': 0.980560302734375, 'nodeLabels': ['Movie'], 'id': '4:ed60d588-03a3-4da0-9a4f-6c31fb2fe9eb:0'}), RetrieverResultItem(content=\"{'title': 'Indian in the Cupboard, The', 'plot': 'On his ninth birthday a boy receives many presents. Two of them first seem to be less important: an old cupboard from his brother and a little Indian figure made of plastic from his best ...'}\", metadata={'score': 0.904815673828125, 'nodeLabels': ['Movie'], 'id': '4:ed60d588-03a3-4da0-9a4f-6c31fb2fe9eb:73'}), RetrieverResultItem(content=\"{'title': 'Powder', 'plot': 'A young bald albino boy with unique powers shakes up the rural community he lives in.'}\", metadata={'score': 0.899169921875, 'nodeLabels': ['Movie'], 'id': '4:ed60d588-03a3-4da0-9a4f-6c31fb2fe9eb:35'})] metadata={'query_vector': [-0.035501353442668915, -0.014417523518204689, 0.00733293779194355, -0.02529275417327881, -0.027684781700372696, -0.007058443035930395, -0.0207701213657856, -0.0091629046946764, 0.001156800426542759, -0.021580535918474197, 0.014731232076883316, 0.0005163120222277939, 0.022783085703849792, -0.008738091215491295, -0.001960678491741419, 0.033958952873945236, 0.027763208374381065, -0.005084692966192961, -0.007437507621943951, -0.000987691804766655, 0.006934266537427902, 0.008542022667825222, -0.00045749166747555137, -0.019449932500720024, 0.006659771781414747, 0.002060346305370331, 0.018992440775036812, -0.026207737624645233, 0.022338664159178734, 0.018848657608032227, 0.004516096320003271, 0.004679486155509949, 0.0064735072664916515, -0.005685967858880758, -0.0448080413043499, -0.03100486472249031, 0.0009182511130347848, -0.018116669729351997, 0.0038690725341439247, -0.007267581764608622, 0.01401231624186039, 0.027109649032354355, -0.01637820154428482, 0.006620557978749275, -0.02363271266222, 0.01674419455230236, 0.012646377086639404, -0.017345469444990158, -0.010907908901572227, -0.0005314255831763148, 0.01411688607186079, 0.013371828012168407, -0.021240685135126114, -0.024678407236933708, 0.014260669238865376, -0.02815534546971321, -0.011175868101418018, -0.014352167025208473, 0.01703176088631153, -0.0036207197699695826, 0.0004019391199108213, 0.01513643842190504, 0.008019175380468369, 0.013313007541000843, -0.008385168388485909, 0.0026730585377663374, -0.0103850606828928, -0.01470508985221386, -0.003888679202646017, -0.008809982798993587, 0.020090419799089432, 0.017201686277985573, 0.0020587125327438116, -0.002651817863807082, 0.015580859035253525, -0.0002138365089194849, -0.021175328642129898, 0.022717729210853577, 0.003764502936974168, -0.0016575903864577413, 0.031475428491830826, -0.025554178282618523, -0.024050990119576454, 0.01220195647329092, 0.013195366598665714, -0.002182888798415661, -0.013188831508159637, 0.02367192693054676, -0.028730476275086403, 0.020600195974111557, 0.0018528412329033017, 0.00442133005708456, 0.01437830924987793, 0.00666957488283515, -0.01658734120428562, 0.01828659512102604, -0.00249986513517797, 0.026260022073984146, -0.0016927191754803061, -0.035422924906015396, 0.005931052844971418, -0.010156314820051193, -0.016273632645606995, -0.0018577430164441466, 0.020090419799089432, 0.027632497251033783, 0.004653343930840492, 0.001888787024654448, 0.013803177513182163, -0.006460436154156923, 0.011737928725779057, 0.011273901909589767, 0.029540890827775, -0.028050774708390236, -0.013437183573842049, -0.015633143484592438, 0.012469915673136711, 0.002862590830773115, 0.004006320144981146, -0.01075758971273899, 0.024260129779577255, 0.02317522093653679, 0.007679324597120285, -9.158768989436794e-06, 0.0020472751930356026, 0.013711678795516491, -0.022665444761514664, -0.008123745210468769, -0.00800610426813364, 0.008770768530666828, 0.027893921360373497, 0.01934536173939705, 0.017868317663669586, -0.0007217748207040131, -0.033540673553943634, 0.008457059971988201, -0.03231198340654373, 0.015149509534239769, 0.007038836367428303, -0.017606893554329872, -0.0006294595077633858, 0.0018217972246930003, 0.004029194358736277, 0.005169655662029982, -0.005431079771369696, 0.020142704248428345, 0.012443773448467255, 0.008561629801988602, -0.012999298982322216, 0.021436752751469612, -0.00963346753269434, 0.005993140861392021, 0.012940478511154652, -0.025737173855304718, 0.014143028296530247, 0.0023364752996712923, -0.022090312093496323, 0.008162958547472954, 0.011267365887761116, -0.030769582837820053, -0.0055160424672067165, 0.0026730585377663374, 0.021175328642129898, -0.0034148485865443945, 0.009914497844874859, 0.024469269439578056, 0.006094442680478096, 0.004372313152998686, 0.008221779018640518, 0.007947283796966076, -0.005512774456292391, 0.01230652630329132, -0.034612514078617096, 0.034900080412626266, -0.009319758974015713, 0.009215189144015312, -0.014038458466529846, 0.024103274568915367, -0.02053484134376049, -0.019214650616049767, -0.038638439029455185, -0.019410718232393265, 0.002416536444798112, 0.010633413679897785, -0.012502593919634819, -0.014182241633534431, -0.009084477089345455, -0.02440391294658184, 0.00016778099234215915, 0.02309679426252842, 0.0032367536332458258, 0.024247057735919952, -0.027344930917024612, -0.018312737345695496, -0.6474944949150085, -0.03142314404249191, 0.0033821705728769302, -0.0018936886917799711, -0.0017548073083162308, 0.006414686795324087, 0.014966513030230999, 0.0037383604794740677, -0.013397970236837864, 0.010051745921373367, -0.006600951310247183, 0.02261316031217575, -0.010228206403553486, -0.01568542793393135, -0.010600735433399677, 0.0010514139430597425, 0.03063886985182762, -0.024704549461603165, 0.02109690196812153, 0.01470508985221386, -0.011581074446439743, 0.010071352124214172, 0.003944231662899256, 0.002199227921664715, 0.008666199631989002, 0.011940532363951206, 0.02917489781975746, 0.0027808959130197763, -0.00634606322273612, 0.0020391056314110756, -0.01666576787829399, 0.036965325474739075, -0.02371113933622837, 0.023397430777549744, 0.05448072403669357, -0.005352652631700039, -0.014051529578864574, 0.003921356983482838, 0.015659285709261894, 0.010411202907562256, -0.03212898597121239, -7.612947229063138e-05, 0.010371989570558071, -0.033305395394563675, -0.00867927074432373, 0.002516204258427024, 0.014103814959526062, -0.003989981021732092, -0.013750892132520676, -0.011685644276440144, 0.016038350760936737, 0.009770714677870274, 0.019502216950058937, 0.010339311324059963, 0.009594254195690155, 0.005741520319133997, 0.025305824354290962, 0.0007495511090382934, -0.010215135291218758, -0.01132618635892868, 0.0147704454138875, 0.00667937844991684, -0.013018906116485596, -0.00839170441031456, -0.02436469867825508, 0.02786777913570404, -0.004891892895102501, 0.002614238066598773, 0.0022580481600016356, -0.030246734619140625, 0.008306741714477539, 0.02167203463613987, -0.011679109185934067, 0.01637820154428482, 0.008457059971988201, 0.036442480981349945, 0.03129243105649948, -0.004901696462184191, 0.0019639465026557446, 0.014796587638556957, 0.009770714677870274, 0.0062284222804009914, -0.028442909941077232, -0.0009484782931394875, 0.041331104934215546, -0.014861944131553173, -0.01686183549463749, 0.009659609757363796, -0.0035292215179651976, -0.010437346063554287, 0.010535379871726036, 0.03887372091412544, -0.027397215366363525, -0.01718861609697342, -0.0030880686827003956, 0.0037122180219739676, -0.009038728661835194, 0.017789890989661217, -0.003944231662899256, -0.04054683446884155, -0.013973102904856205, 0.00015133987471926957, -0.013816248625516891, 0.0011951969936490059, -0.003891946980729699, 0.014208383858203888, 0.013920818455517292, 0.03377595543861389, 0.034194234758615494, -0.05531727895140648, 0.016796479001641273, 0.00735254492610693, 0.0032923060934990644, 0.005431079771369696, -0.011182403191924095, -0.02484833262860775, 0.01764610782265663, 0.0004623933637049049, 0.024090204387903214, -0.015633143484592438, 0.015672357752919197, 0.01020206417888403, 0.018430378288030624, -0.00877730455249548, -0.004865750670433044, -0.0005089594633318484, 0.0016069394769147038, 0.0017302988562732935, -0.01999892108142376, 0.02024727500975132, -0.0016461530467495322, -0.009940640069544315, 0.02199881337583065, -0.011868640780448914, 0.014182241633534431, 0.016234418377280235, 0.009868748486042023, -0.00932629406452179, 0.01788138784468174, -0.011796749196946621, -0.01907086744904518, 0.029436321929097176, -0.00158651580568403, 0.012626769952476025, 0.004503025207668543, -0.037096038460731506, -0.016914119943976402, 0.005757859442383051, -0.025514964014291763, 0.01285551581531763, -0.0012197054456919432, 0.0011249392991885543, 0.03160613775253296, -0.018142811954021454, 0.0027776279021054506, 0.012868586927652359, -0.009581183083355427, 0.003888679202646017, -0.0006964493659324944, -0.01287512294948101, 0.008032246492803097, 0.03401123732328415, -0.030743440613150597, -0.001777681871317327, -0.021031545475125313, -0.018966296687722206, 0.0002387534623267129, 0.0036501300055533648, -0.020090419799089432, -0.018182026222348213, -0.01364632323384285, -0.02386799454689026, -0.009692288003861904, -0.002109363442286849, -0.029671601951122284, 0.0017253971891477704, -0.0020342040807008743, -0.0205740537494421, 0.004728503059595823, -0.003676272463053465, -0.012646377086639404, 0.0010056647006422281, 0.018809443339705467, 0.007738145068287849, 0.03435108810663223, -0.0011143189622089267, 0.03631176799535751, 0.019214650616049767, -0.015750784426927567, 0.014208383858203888, -0.009875284507870674, 0.002321770181879401, -0.012365346774458885, -0.011868640780448914, -0.015567787922918797, -0.035501353442668915, 0.009823000058531761, 0.035658206790685654, 0.034481801092624664, 0.02663908712565899, 0.020587125793099403, -0.0032628958579152822, 0.018025171011686325, 0.009136762470006943, -0.0010922614019364119, -0.02802463248372078, -0.0032024416141211987, -0.01959371380507946, 0.014522092416882515, 0.0008063290733844042, 0.013051583431661129, -0.010293562896549702, 0.012064709328114986, -0.012561414390802383, 0.056728966534137726, 0.006130388472229242, -0.017136331647634506, 0.01124122366309166, -0.011012477800250053, 0.00653886329382658, -0.0264822319149971, -0.01694026216864586, 0.018848657608032227, -0.0013781936140730977, 0.0005816679913550615, -0.004339635372161865, 0.004339635372161865, -0.007012693677097559, 0.0077054668217897415, -0.03853387013077736, -0.008345955051481724, -0.009620396420359612, 0.0038135198410600424, 0.014417523518204689, 0.004101085942238569, 0.0069865514524281025, 0.002421437995508313, 0.0009525630157440901, 0.04052069038152695, 0.012940478511154652, 0.011273901909589767, 0.013188831508159637, 0.011280437931418419, -0.012718268670141697, -0.01568542793393135, 0.014143028296530247, 0.005284028593450785, 0.025397323071956635, -0.007698931265622377, 0.026220807805657387, -0.010685698129236698, -0.015711572021245956, -0.018312737345695496, 0.012352274730801582, 0.0035128823947161436, -0.007280653342604637, 0.018835585564374924, -0.015580859035253525, 0.014156099408864975, 0.01097980048507452, 0.011744464747607708, 0.00528729660436511, 0.020116562023758888, 0.0013969835126772523, 0.04365777596831322, 0.016626553609967232, -0.013018906116485596, -0.01390774641185999, 0.0007642561686225235, 0.020090419799089432, -0.012652912177145481, 0.030952580273151398, 0.004382116720080376, -0.026207737624645233, 0.0005432713660411537, -0.01820816844701767, -0.010685698129236698, 0.013620181009173393, 0.011888247914612293, 0.0066728428937494755, 0.013999245129525661, -0.05385330691933632, 0.0044670794159173965, 0.01955450139939785, 0.007777358405292034, 0.007783893961459398, -0.039082858711481094, 0.01690104976296425, -0.00222046859562397, 0.03254726529121399, -0.011829427443444729, -0.0020325700752437115, 0.017044832929968834, 0.006218618713319302, 0.0010064817033708096, -0.007424436043947935, 0.008555094711482525, -0.007189154624938965, 0.00481673376634717, -0.022508589550852776, 0.01543707586824894, -0.0018070921069011092, -0.021031545475125313, -0.028181487694382668, 0.01820816844701767, 0.01535864919424057, -0.005833019036799669, -0.034847795963287354, -0.010751054622232914, -0.013946960680186749, -0.010992871597409248, -0.019162366166710854, -0.02977617271244526, 0.004646808374673128, 0.0006833781953901052, -0.013169224373996258, -0.0015113564440980554, -0.015502432361245155, 0.034612514078617096, 0.005538917146623135, -0.018757158890366554, 0.020194988697767258, -0.011554932221770287, 0.00810413807630539, 0.12966620922088623, -0.007019229233264923, 0.007940748706459999, -0.012711732648313046, -0.009123691357672215, -0.01562007237225771, -0.013254187069833279, -0.020639410242438316, 0.030691156163811684, -0.019698284566402435, -0.023188292980194092, -0.021985743194818497, 0.022508589550852776, 0.016404343768954277, 0.017005618661642075, -0.013515611179172993, 0.019502216950058937, 0.0004901696229353547, 0.008019175380468369, -0.024273201823234558, -0.008149887435138226, 0.007738145068287849, -0.008640057407319546, 0.005885303486138582, -0.00028041788027621806, -0.01674419455230236, 0.0031795671675354242, 0.04635044187307358, 0.004597791470587254, -0.032939400523900986, -0.004496489651501179, -0.015711572021245956, -0.006332991644740105, 0.005578130483627319, -0.008986443281173706, 0.0051108356565237045, 0.0041304961778223515, 0.011169332079589367, 0.022600088268518448, -0.002957356860861182, 0.02399870567023754, 0.005803608801215887, 0.01869180239737034, -0.003235119627788663, -0.001689451397396624, 0.00802571140229702, -0.00963346753269434, 0.014940370805561543, -0.0018610107945278287, -0.03795873746275902, 0.029933026060461998, -0.019293077290058136, -0.003744896035641432, -0.0019492412684485316, 0.015515503473579884, 0.0016412513796240091, -0.002821743255481124, -0.012594091705977917, -0.01963292807340622, -0.0036370588932186365, -0.01869180239737034, -0.021279897540807724, 0.0012417631223797798, -0.005555255804210901, -0.009234796278178692, -0.038716867566108704, -0.004852679558098316, -0.010130172595381737, 0.0031011400278657675, -0.032207414507865906, 0.003372367238625884, -0.014391381293535233, -0.017345469444990158, -0.0008512613130733371, -0.0020309363026171923, 0.0011478139786049724, 0.010051745921373367, -0.030848009511828423, 0.003924624994397163, -0.0023658855352550745, -0.004473614972084761, -0.03194598853588104, 0.01001906767487526, -0.024586910381913185, 0.002540712710469961, -0.012371881864964962, 0.021933458745479584, 0.01437830924987793, -0.01869180239737034, 0.002926312852650881, 0.0150710828602314, 0.026874367147684097, 0.00802571140229702, 0.0012817935785278678, 0.022024955600500107, -0.019606785848736763, 0.0036239875480532646, 0.015162580646574497, 0.014613591134548187, 0.027188075706362724, -0.011293509043753147, -0.018848657608032227, -0.013920818455517292, 0.012208491563796997, 0.004695825278759003, 0.008711948990821838, 0.012888194061815739, 0.004463811405003071, -0.0211884006857872, 0.006666307337582111, -0.004728503059595823, -0.0027498516719788313, -0.007045371923595667, -0.010496165603399277, 0.016482770442962646, -0.010117101483047009, 0.005261154379695654, 0.015201794914901257, 0.004882089793682098, -0.016600411385297775, -0.015515503473579884, -0.024142488837242126, 0.02053484134376049, 0.0209792610257864, -0.001875715795904398, 0.00859430804848671, -0.0037187538109719753, -0.022587018087506294, -0.027266504243016243, 0.027606355026364326, -0.01882251538336277, -0.01209738664329052, -0.015005726367235184, -0.013842390850186348, -0.028913473710417747, -0.0027776279021054506, -0.01346332672983408, 0.0035096146166324615, 0.015084153972566128, -0.026168523356318474, -0.011489576660096645, -0.01180982030928135, -0.007529005873948336, -0.036154914647340775, 0.004447472747415304, -0.01999892108142376, -0.017162473872303963, 0.024103274568915367, -0.011515718884766102, 0.003686075797304511, -0.013763963244855404, 0.008692341856658459, -0.03348838910460472, 0.019933566451072693, 0.02567181922495365, -0.048258837312459946, -0.00798649713397026, -0.00567289674654603, 0.014574377797544003, 0.01726704277098179, 0.04080825671553612, -0.011770606972277164, 0.013515611179172993, -0.013855461962521076, -0.003017811104655266, 0.0015293293399736285, -0.006738198921084404, 0.0004235882661305368, -0.024142488837242126, 0.0151756526902318, 0.02521432749927044, 0.00924786739051342, 0.01976364105939865, 0.005525846034288406, -0.006676110439002514, 0.01763303577899933, 0.009175975807011127, -0.019201578572392464, -0.016835693269968033, 0.009724966250360012, 0.016626553609967232, -0.04216765984892845, -0.013567895628511906, -0.00252600759267807, -0.02032570168375969, -0.012064709328114986, 0.023567356169223785, 0.021083829924464226, -0.012130064889788628, -0.0037416282575577497, 0.016430485993623734, -0.016521984711289406, 0.03401123732328415, 0.0010203698184341192, 0.02134525403380394, -0.003918089438229799, -0.0022760210558772087, 0.021201470866799355, 0.01699254848062992, 0.0060683004558086395, 0.003150156931951642, 0.01722782850265503, -0.013960031792521477, 0.01181635633111, 0.0013071190332993865, 0.025854814797639847, -0.005029140505939722, -0.020116562023758888, 0.016247490420937538, -0.03526607155799866, -0.01126083079725504, -0.038481585681438446, -0.019907422363758087, -0.031109433621168137, -0.026377663016319275, -0.010796803049743176, -0.01248298678547144, 0.013685536570847034, -0.03262569010257721, -0.030769582837820053, 0.010973264463245869, -0.0005216221907176077, 0.03683461621403694, 0.00932629406452179, 0.010914443992078304, 0.024050990119576454, -0.03923971578478813, 0.0037220215890556574, 0.013450254686176777, 0.0031109433621168137, -0.01531943492591381, 0.020025063306093216, 0.017057903110980988, -0.00044237810652703047, -0.001161702093668282, 0.005617344286292791, -0.014234527014195919, -0.021763531491160393, -0.040886685252189636, 0.0008255273569375277, -0.016064492985606194, 0.00419585220515728, -0.03989327326416969, -0.01354175340384245, 0.013045048341155052, 0.004944177810102701, -0.022351736202836037, -0.01747618243098259, -0.009391650557518005, -0.03976256027817726, -0.024717621505260468, 0.00808453094214201, -0.011685644276440144, 0.0056075407192111015, 0.01629977487027645, -0.021279897540807724, 0.011149725876748562, -0.00810413807630539, 0.010162850841879845, 0.01657426916062832, -0.022011885419487953, 0.024495411664247513, 0.01419531274586916, 0.01641741581261158, 0.008718484081327915, 1.0313986422261223e-05, 0.016182133927941322, -0.00810413807630539, 0.003320082323625684, 0.025632604956626892, 0.006685914006084204, 0.013188831508159637, -0.0023479126393795013, 0.0013087529223412275, 0.007966890931129456, 0.009692288003861904, -0.017489252611994743, -0.007894999347627163, 0.020025063306093216, -0.009025657549500465, 0.012522201053798199, 0.007496327627450228, -0.01180982030928135, -0.013894675299525261, -0.01525407936424017, -0.0040389979258179665, -0.019894352182745934, 0.006600951310247183, 0.0059375884011387825, 0.0033151807729154825, 0.0012041834415867925, -0.012463380582630634, -0.005499703343957663, 0.015502432361245155, 0.00782310776412487, -0.009130226448178291, 0.017332399263978004, 0.004679486155509949, -0.016887977719306946, 0.02020806074142456, -0.00934590119868517, 0.01267251931130886, -0.014927299693226814, -0.00010783732432173565, 0.03186756372451782, -0.014051529578864574, 0.013149618171155453, -0.012084315530955791, -0.01616906188428402, -0.01845652051270008, 0.012071244418621063, -0.017816033214330673, 0.00798649713397026, -0.012064709328114986, 0.001998258288949728, 0.01967214234173298, 0.006960409227758646, -0.04948752745985985, -0.02188117243349552, 0.014221454970538616, 0.023894136771559715, 0.005862428806722164, 0.024796048179268837, 0.0017956547671929002, -0.003359295893460512, -0.02244323492050171, 0.021123044192790985, 0.005522578023374081, -0.0121169937774539, -0.0018691802397370338, -0.020639410242438316, 0.01576385647058487, -0.019449932500720024, -0.03063886985182762, -0.03691304102540016, 0.010149779729545116, -0.010515772737562656, 0.026704441756010056, 0.01065301988273859, -0.0005583849269896746, 0.008568165823817253, 0.024064062163233757, -0.012437237426638603, 0.0272926464676857, 0.0021698176860809326, -0.0031174789182841778, 0.022142596542835236, -0.02948860637843609, -0.020717836916446686, -0.013946960680186749, -0.00961386039853096, -0.006512720603495836, -0.0061434595845639706, -0.03327925130724907, -0.020665552467107773, 0.011489576660096645, -0.01869180239737034, 0.0046827541664242744, -0.010836017318069935, 0.014574377797544003, 0.02786777913570404, -0.017816033214330673, -0.0050879609771072865, 0.027475642040371895, 0.001316105481237173, 0.02484833262860775, 0.009862213395535946, -0.010803339071571827, -0.0042448691092431545, 0.0058068763464689255, -0.004382116720080376, 0.010711840353906155, -0.00011049240856664255, -0.026207737624645233, 0.015397862531244755, 0.014430594630539417, 0.010332776233553886, 0.00999946054071188, 0.013881604187190533, -0.025972455739974976, -0.03262569010257721, 0.003065194236114621, 0.016352059319615364, 0.0021812550257891417, 0.01305811945348978, -0.023854922503232956, -0.0061434595845639706, -0.006199012044817209, 0.01686183549463749, -0.012803231365978718, -0.015162580646574497, 0.0016388004878535867, -0.004473614972084761, 0.004839608445763588, 0.0019476073794066906, -0.021776603534817696, -0.009274009615182877, -0.006084639113396406, 0.010888301767408848, -0.023606570437550545, -0.007698931265622377, 0.02317522093653679, 0.020547911524772644, -0.03599805757403374, -0.013803177513182163, 0.016404343768954277, 0.01951528713107109, -0.007012693677097559, -0.007692395709455013, -0.015345578081905842, 0.0015129903331398964, 0.004934374243021011, -0.0030995060224086046, -0.02288765460252762, 0.00696694478392601, -0.004839608445763588, 0.010110566392540932, -0.04624587297439575, 0.028861189261078835, 0.011084369383752346, -0.018927084282040596, -0.004914767574518919, -0.0017695124261081219, 0.003996516577899456, -0.020338771864771843, 0.00686237495392561, 0.011208546347916126, -0.003463865490630269, -0.02823377214372158, -0.019332291558384895, -0.018025171011686325, -0.012907800264656544, 0.04106968268752098, 0.0062676360830664635, -0.010156314820051193, 0.02656065858900547, 0.2518034279346466, -0.00849627424031496, -0.012809766456484795, 0.03764503076672554, -0.001882251468487084, -0.0033070112112909555, 0.009790321812033653, -0.004110889509320259, -0.025162041187286377, -0.011084369383752346, 0.0027808959130197763, 0.006440829019993544, -0.015711572021245956, 0.006816626060754061, -0.021292969584465027, -0.006313384976238012, -0.005355920176953077, 0.0031975400634109974, -0.008770768530666828, -0.009515826590359211, 0.028416767716407776, -0.01666576787829399, 0.01658734120428562, -0.02619466558098793, 0.01488808635622263, -0.026795940473675728, -0.0029965704306960106, -0.0035063468385487795, 0.01799902878701687, 0.014443665742874146, -0.017201686277985573, -0.023240577429533005, 0.002191058360040188, -0.028782762587070465, -0.017123259603977203, -0.01653505675494671, -0.019136223942041397, 0.004137031733989716, 0.01629977487027645, 0.010666091926395893, -0.004094550386071205, -0.0033625636715441942, 0.002810305915772915, 0.00016624919953756034, 0.014469807967543602, 0.019083937630057335, -0.016678839921951294, 0.0031942722853273153, -0.0005395950865931809, 0.014430594630539417, -0.03654704988002777, -0.026495303958654404, 0.026299236342310905, 0.038272447884082794, -0.0025733907241374254, 0.015214866027235985, 0.04334406927227974, 0.0014843971002846956, -0.009973318316042423, 0.0005587933701463044, 0.00015501615416724235, 0.021502109244465828, -0.013247651979327202, 0.007104191929101944, -0.021972671151161194, 0.016809551045298576, -0.012430702336132526, 0.002939383964985609, 0.017410825937986374, -0.015241008251905441, 0.019123151898384094, -0.0005971899954602122, -0.018221240490674973, 0.0018479395657777786, -0.011025548912584782, -0.024756835773587227, 0.020482555031776428, 0.010953657329082489, -0.01132618635892868, 0.020338771864771843, -0.004137031733989716, -0.00378410960547626, -0.0005579764256253839, -0.01601220853626728, 0.0025864618364721537, -0.02948860637843609, 0.009280545637011528, -0.008502809330821037, -0.01134579349309206, -0.0029638924170285463, 0.007280653342604637, -0.016025280579924583, -6.893010890962614e-07, -0.01162682380527258, -0.0038984825368970633, 0.012247705832123756, -0.00048159167636185884, 0.020743979141116142, 0.009940640069544315, -0.01183596346527338, -0.015633143484592438, -0.018757158890366554, 0.02750178426504135, -0.0010677528334781528, -0.005378794856369495, -0.0037579673808068037, 0.009855677373707294, 0.003359295893460512, 0.007940748706459999, 0.003940964117646217, -0.005757859442383051, -0.028259914368391037, 0.002200861694291234, -0.008502809330821037, -0.007189154624938965, 0.021541321650147438, 0.025488821789622307, 0.0024475804530084133, 0.019606785848736763, -0.02041720040142536, 0.026181595399975777, -0.009032192640006542, 0.01861337572336197, 0.01955450139939785, 0.002212299033999443, -0.031475428491830826, -0.0011143189622089267, 0.012809766456484795, 0.012940478511154652, -0.020887762308120728, -0.0022482448257505894, -0.027684781700372696, 0.023475857451558113, -0.008241385221481323, -0.0016502378275617957, 0.0024835262447595596, 0.0019476073794066906, 0.0003870297805406153, 0.005705574527382851, 0.03547521308064461, 0.0036501300055533648, 0.017946744337677956, 0.0006229239515960217, -0.002628943184390664, 0.019567571580410004, -0.012685590423643589, 0.008300205692648888, -0.015058011747896671, -0.0023724210914224386, -0.008744626305997372, -0.023188292980194092, 0.002514570252969861, -0.00013163097901269794, 0.004529167432337999, 0.014535163529217243, -0.009287080727517605, -0.020966188982129097, -0.02998531050980091, -0.003895214758813381, 0.003349492559209466, -0.028181487694382668, 0.002825011033564806, 0.013672465458512306, 0.010953657329082489, -0.002419804222881794, -0.0007544527761638165, -0.16605640947818756, 0.01285551581531763, 0.025606462731957436, -0.037331320345401764, 0.008646592497825623, -0.009757643565535545, 0.009809928946197033, 0.013580966740846634, -0.01364632323384285, -0.002934482181444764, 0.02875661849975586, 0.010914443992078304, -0.015397862531244755, -0.006022551096975803, 0.011888247914612293, -3.987734453403391e-05, -0.023201363161206245, -0.015018798410892487, 0.005081425420939922, 0.016770336776971817, 0.022547803819179535, 0.005205601453781128, -0.002944285748526454, 0.01768532022833824, -0.012554878368973732, 0.02203802764415741, 0.013750892132520676, 0.02917489781975746, -0.006019283086061478, -0.002936116186901927, -0.015672357752919197, -0.036599334329366684, 0.011554932221770287, 0.025070544332265854, 0.019985850900411606, -0.0018806175794452429, -0.012724803760647774, -0.00709765637293458, -0.010032138787209988, 0.03027287684381008, -0.01535864919424057, 0.017123259603977203, 0.020757051184773445, 0.014966513030230999, -0.0016608581645414233, 0.020391058176755905, 0.007803500629961491, 0.02330593205988407, 0.015031869523227215, -0.016195205971598625, 0.008215242996811867, -0.03144928440451622, -0.011842498555779457, 0.0023283057380467653, 0.02513589896261692, 0.01894015446305275, 0.024416983127593994, 0.043317925184965134, -0.0075224703177809715, -0.005970266181975603, 0.0022613159380853176, -0.03131857141852379, -0.002527641598135233, -0.014103814959526062, -0.04786669835448265, -0.018312737345695496, 0.01124122366309166, 0.016639625653624535, -0.04648115485906601, 0.005770930554717779, -0.023397430777549744, 0.02171124704182148, 0.001999892061576247, -0.006316652987152338, -0.007940748706459999, 0.036965325474739075, -0.01132618635892868, 0.008280599489808083, 0.011953603476285934, -0.0036174519918859005, 0.002762923017144203, 0.025488821789622307, 0.00771853793412447, -0.023201363161206245, -0.01865258812904358, 0.017097117379307747, -0.0031959060579538345, -0.005411473102867603, -0.024011777713894844, -0.022822298109531403, -0.002950821304693818, -0.047840557992458344, -0.029828457161784172, -0.015267150476574898, -0.020351843908429146, 0.02656065858900547, -0.0025439804885536432, -0.00828713458031416, 0.021619750186800957, -0.0011657867580652237, 0.0009819732513278723, -0.0031174789182841778, -0.008653128519654274, 0.00735254492610693, 0.0003843746962957084, 0.008202171884477139, -0.025554178282618523, 0.008339419960975647, 0.02134525403380394, -0.020665552467107773, -0.015201794914901257, 0.010228206403553486, -0.0009787053568288684, 0.03526607155799866, -0.0006833781953901052, 0.01878330111503601, 0.01094058621674776, 0.005826483014971018, 0.01799902878701687, 0.0006106696673668921, 0.04509560763835907, -0.012156207114458084, -0.006849303841590881, 0.012927407398819923, -0.011777142994105816, 6.494109356935951e-07, -0.10090959072113037, -0.016182133927941322, 0.02594631351530552, 0.018482662737369537, -0.012633305974304676, 0.024299344047904015, -0.0023756888695061207, 0.010090959258377552, -0.004620665684342384, 0.041043538600206375, 0.04070368781685829, -0.030194450169801712, 0.009260938502848148, -0.022547803819179535, 0.023684997111558914, -0.03108329139649868, 0.004084747284650803, -0.00877730455249548, 0.0014982852153480053, 0.00935243722051382, 0.007816571742296219, 0.01047002337872982, -0.021371396258473396, -0.002416536444798112, 0.013234580866992474, -0.01682262308895588, -0.02721421793103218, 0.006074836011976004, 0.013489468954503536, -0.011692180298268795, -0.005378794856369495, -0.02273080125451088, 0.023554285988211632, -0.0014468174194917083, -0.04062525928020477, 0.018600303679704666, -0.050977643579244614, 0.0022335397079586983, 0.023319004103541374, -0.042141519486904144, -0.005800340790301561, 0.0029018044006079435, -0.02182888798415661, -0.008143351413309574, -0.016469700261950493, -0.0046664150431752205, -0.0006707154680043459, 0.01805131509900093, 0.004460543859750032, -0.023933349177241325, -0.029070327058434486, -0.004094550386071205, 0.0036272553261369467, 0.008424382656812668, 0.03861229866743088, 0.012391488999128342, 0.017384683713316917, 0.01285551581531763, -0.007659717462956905, 0.010587664321064949, -0.001515441108494997, 0.0033249841071665287, -0.02073090896010399, -0.00414356729015708, -0.002725343219935894, 0.011169332079589367, 0.012391488999128342, 4.403867933433503e-06, 0.003918089438229799, -0.031214002519845963, -0.03955342248082161, 0.023894136771559715, -0.03296554088592529, 0.0019034921424463391, -0.022874584421515465, -0.00506181875243783, -0.0005718645988963544, -0.01759382337331772, 0.02184196002781391, -0.025371180847287178, 0.006065032444894314, -0.018887870013713837, 0.019280005246400833, -0.0011175867402926087, 0.047317709773778915, 0.01513643842190504, -0.009372043423354626, 0.0047742524184286594, 0.014090743847191334, -0.0041304961778223515, -0.02554110623896122, 0.0009827901376411319, -0.009914497844874859, -0.006940802093595266, -0.024573838338255882, 0.022064169868826866, -0.017750676721334457, -0.004940910264849663, 0.025593390688300133, -0.024639194831252098, -0.013894675299525261, -0.025240469723939896, -0.0484679751098156, 0.02151517942547798, 0.016469700261950493, 0.009241331368684769, 9.946359205059707e-05, -0.01593378186225891, 0.029201040044426918, -0.02053484134376049, -0.0013863631756976247, -0.015776926651597023, -0.006770876701921225, 0.012757482007145882, -0.020181918516755104, -0.015476290136575699, -0.03304396942257881, -0.02480912022292614, 0.025227397680282593, 0.015162580646574497, -0.0006666307453997433, -0.011391542851924896, -3.178443876095116e-05, 0.007123799063265324, 0.015397862531244755, 0.018025171011686325, -0.012411095201969147, 0.031632281839847565, 0.01266598328948021, 0.0037579673808068037, -0.013554824516177177, -0.028861189261078835, 0.013920818455517292, -0.04203695058822632, -0.010718376375734806, 0.006009479984641075, -0.0012360444525256753, -0.010064817033708096, -0.010999406687915325, 0.01513643842190504, 0.015058011747896671, 0.004725235514342785, -0.013790106400847435, -0.02346278727054596, 0.005123906768858433, -0.024586910381913185, 0.00019565939146559685, 0.0006764341378584504, -0.003244922962039709, 0.007130334619432688, 0.02367192693054676, 0.01686183549463749, 0.008195636793971062, 0.022508589550852776, 0.0009615494636818767, -0.008267528377473354, -0.023593498393893242, -0.022992223501205444, 0.0067251273430883884, -0.014260669238865376, 0.008221779018640518, -0.0041697099804878235, 0.004748110193759203, 0.0011666037607938051, 0.026978937909007072, -0.022953011095523834, 0.017528466880321503, 0.006205547600984573, -0.023201363161206245, 0.015737714245915413, 0.024207845330238342, -0.00510430010035634, -0.0035063468385487795, -0.020469484850764275, 0.009104084223508835, -0.03714832291007042, 0.003552095964550972, 0.0003396467072889209, -0.013554824516177177, 0.004617398139089346, -0.028442909941077232, 0.0028887330554425716, 0.008646592497825623, -0.003666468895971775, -0.03445565700531006, 0.007038836367428303, 0.005587934050709009, 0.02815534546971321, -0.016809551045298576, 0.0053853304125368595, 0.010162850841879845, 0.008509345352649689, -0.006908124312758446, -0.0023871262092143297, -0.01584228314459324, -9.874875831883401e-05, 0.021201470866799355, 0.045200176537036896, -0.03495236486196518, -0.000630684953648597, 0.04925224557518959, 0.018848657608032227, 0.01440445240586996, -0.012999298982322216, -0.000760171446017921, 0.0023675193078815937, -0.00818910077214241, 0.01743696816265583, -0.02065248042345047, -0.001900224364362657, -0.008600843138992786, 0.007496327627450228, 0.00971843022853136, -0.00709765637293458, 0.0036141842138022184, 0.00896030105650425, -0.0018381362315267324, 0.010241277515888214, -0.02831219881772995, -0.009077941998839378, -0.022874584421515465, 0.010901372879743576, 0.008921087719500065, 0.0030635602306574583, -0.006025818642228842, -0.01629977487027645, 0.03262569010257721, 0.008666199631989002, 0.011430756188929081, -0.025697961449623108, -0.014182241633534431, -0.003127282252535224, 0.026612944900989532, -0.008855731226503849, -0.003153424710035324, 0.012273848056793213, 0.003253092523664236, 0.013201902620494366, -0.019541429355740547, 0.039736419916152954, -0.018482662737369537, 0.021279897540807724, -0.0077446806244552135, -0.011404613964259624, 0.013332614675164223, -0.00979685690253973, 0.015162580646574497, 0.023946421220898628, 0.013371828012168407, -0.022756943479180336, -0.006398347672075033, 0.004166441969573498, 0.00857470091432333, 0.014312953688204288, 0.007685860153287649, 0.00604869332164526, 0.004597791470587254, -0.01020206417888403, 0.010215135291218758, -0.014718160964548588, -0.006297045852988958, 0.011613752692937851, -0.022913796827197075, 0.027423357591032982, -0.008417846634984016, -0.008077995851635933, 0.0029867670964449644, 0.015816140919923782, 0.026429947465658188, -0.005029140505939722, -0.03212898597121239, 0.007346008904278278, 0.012352274730801582, 0.004280814900994301, -0.008803446777164936, 0.003656665561720729, -0.01010403037071228, -0.018469592556357384, 0.00030533483368344605, -0.0009558307938277721, -0.006810090504586697, -0.012920872308313847, 0.03842930123209953, -0.010607271455228329, -0.013371828012168407, 0.029514748603105545, 0.019541429355740547, 0.017659178003668785, -0.008999514393508434, -0.02692665345966816], '__retriever': 'VectorRetriever'}\n"
          ]
        }
      ],
      "source": [
        "query_text = \"A cowboy doll is jealous when a new spaceman figure becomes the top toy.\" # 토이스토리 줄거리\n",
        "retriever_result = retriever.search(query_text=query_text, top_k=3)\n",
        "print(retriever_result)"
      ]
    },
    {
      "cell_type": "code",
      "execution_count": 13,
      "metadata": {
        "colab": {
          "base_uri": "https://localhost:8080/"
        },
        "id": "zZ8yMjQL2b4L",
        "outputId": "ebf93884-5d90-4464-db3b-85a381584887"
      },
      "outputs": [
        {
          "name": "stdout",
          "output_type": "stream",
          "text": [
            "items=[RetrieverResultItem(content=\"{'title': 'City Hall', 'plot': 'The accidental shooting of a boy in New York leads to an investigation by the Deputy Mayor, and unexpectedly far-reaching consequences.'}\", metadata={'score': 0.931365966796875, 'nodeLabels': ['Movie'], 'id': '4:ed60d588-03a3-4da0-9a4f-6c31fb2fe9eb:109'}), RetrieverResultItem(content=\"{'title': 'Usual Suspects, The', 'plot': 'A sole survivor tells of the twisty events leading up to a horrific gun battle on a boat, which begin when five criminals meet at a seemingly random police lineup.'}\", metadata={'score': 0.9310150146484375, 'nodeLabels': ['Movie'], 'id': '4:ed60d588-03a3-4da0-9a4f-6c31fb2fe9eb:65'}), RetrieverResultItem(content=\"{'title': 'Nick of Time', 'plot': 'An unimpressive, every-day man is forced into a situation where he is told to kill a politician to save his kidnapped daughter.'}\", metadata={'score': 0.913909912109375, 'nodeLabels': ['Movie'], 'id': '4:ed60d588-03a3-4da0-9a4f-6c31fb2fe9eb:100'})] metadata={'query_vector': [-0.015782145783305168, -0.005749857984483242, -0.0075477007776498795, -0.02754748798906803, -0.02102990262210369, 0.009633846580982208, -0.0043731313198804855, -0.013747829012572765, -0.009134985506534576, -0.02246817760169506, 0.025681618601083755, -0.005996048916131258, -0.00234529422596097, -0.006336181424558163, 0.027962125837802887, -0.0006247909041121602, 0.0358402393758297, -0.018425460904836655, 0.013223053887486458, -0.029335612431168556, -0.0029316176660358906, 0.01601537875831127, -0.0057854908518493176, 0.03495913743972778, 0.011473800987005234, -0.00940709188580513, -0.002886266680434346, -0.020628223195672035, -0.0005110084894113243, -0.008305709809064865, -0.0019144597463309765, -0.012024492025375366, 0.0032118221279233694, -0.005328741390258074, -0.016404101625084877, 0.0037187812849879265, 0.00980229303240776, -0.03252314031124115, 0.0072561586275696754, -0.013223053887486458, 0.018593907356262207, -0.003589207073673606, -0.010359462350606918, -0.02954293228685856, -0.010534387081861496, -0.003968211822211742, 0.02101694606244564, -0.008927666582167149, -0.03511462360620499, 0.0027048627380281687, 0.015302720479667187, 0.003122739726677537, -0.03964972496032715, -0.03459632769227028, 0.019889649003744125, 0.01045016385614872, -0.010910152457654476, -0.006783212535083294, 0.02316787838935852, -0.014888082630932331, -0.010229888372123241, -0.008461199700832367, -0.020407946780323982, 0.007729104720056057, -0.010514951311051846, -0.0019517123000696301, -0.018231099471449852, 0.010761142708361149, -0.013197138905525208, 0.003061191877350211, 0.031460631638765335, 0.019747117534279823, 0.017064930871129036, -0.00433749845251441, 0.022105369716882706, -0.014603019692003727, -0.010579738765954971, 0.004052435047924519, 0.018490247428417206, 0.011551545932888985, 0.023349281400442123, -0.013125873170793056, -0.020628223195672035, 0.046594906598329544, 0.015186103992164135, -0.01882714033126831, -0.024411791935563087, 0.032212160527706146, 0.005150577053427696, 0.005759575869888067, 0.022792112082242966, 0.005400007590651512, 0.011013812385499477, -0.002836056752130389, 0.00611914461478591, 0.017635056748986244, 0.009873558767139912, 0.016391145065426826, -0.007165456656366587, -0.03703232482075691, -0.00972454808652401, -0.003683148417621851, -0.014654848724603653, -0.0032102023251354694, -0.008662039414048195, -0.0033656915184110403, 0.014188381843268871, 0.0030352771282196045, 0.020122883841395378, -0.00436341343447566, -0.02108173258602619, -0.01658550649881363, 0.02097807265818119, -0.04193023219704628, -0.0029510539025068283, -0.005024242214858532, 0.012840809300541878, -0.025565002113580704, -0.0024327568244189024, -0.036488112062215805, 0.019241778180003166, 0.014577104710042477, -0.0019824861083179712, -0.016883525997400284, 0.02469685487449169, -0.003508223220705986, -0.006822085008025169, -0.01585988886654377, 0.03381888195872307, -0.016417058184742928, 0.01446048729121685, -0.003806243883445859, 0.012743628583848476, -0.0002903273270931095, -0.02677004225552082, 0.015004700049757957, -0.029931655153632164, 0.03690275177359581, -0.03200484439730644, -0.03482956066727638, 0.028765486553311348, 0.019151076674461365, -0.0435369536280632, -0.004454115405678749, -0.004470312036573887, 0.013683042488992214, 0.01745365373790264, 0.01591171883046627, 0.0181015245616436, 0.006750819273293018, 0.016922399401664734, -0.009815250523388386, 0.008668518625199795, -0.014823295176029205, 0.006271394435316324, -0.0007414077408611774, -0.01576918736100197, -0.005069592967629433, -0.013397978618741035, -0.004243556875735521, 0.0107805784791708, -0.01150619424879551, 0.002887886483222246, 0.015030614100396633, 0.03231582045555115, 0.02030428685247898, 0.007482913788408041, -0.02309013344347477, 0.0032733697444200516, -0.01725929230451584, -0.002758312039077282, 0.04415890946984291, -0.0108324084430933, 0.018503203988075256, -0.006997010204941034, 0.008746262639760971, 0.02323266491293907, 0.02324562333524227, -0.01413655187934637, -0.0073274243623018265, -0.0179589930921793, 0.016119038686156273, 0.03032037802040577, 0.021366795524954796, -0.032160330563783646, 0.01486216764897108, -0.0007446471136063337, -0.03107190877199173, -0.008234444074332714, -0.0015581304905936122, -0.00560084730386734, -0.010949024930596352, 0.011570981703698635, -0.030138973146677017, -0.6737861633300781, -0.015043571591377258, -0.00029964049463160336, 0.016067208722233772, -0.00864908192306757, 0.027780720964074135, 0.013488681055605412, 0.019747117534279823, -0.011940267868340015, 0.010009611956775188, -0.010417770594358444, 0.01817926950752735, 0.019721202552318573, -0.011836608871817589, -0.019760075956583023, -0.027029192075133324, -0.01263349037617445, 0.011149865575134754, -0.019941478967666626, -1.0686080713639967e-05, -0.0008183424361050129, 0.030890503898262978, -0.012128151021897793, -0.0076902322471141815, 0.02381574921309948, 0.017648015171289444, 0.013106436468660831, -0.03389662876725197, -0.012866724282503128, 0.0077679771929979324, -0.015613698400557041, 0.01878826878964901, 0.00972454808652401, 0.017738716676831245, 0.04104912653565407, -0.009134985506534576, 0.00020043518452439457, 0.029853910207748413, 0.015678485855460167, 0.027936210855841637, -0.006368575152009726, 0.028350848704576492, 0.026251746341586113, -0.012367863208055496, -0.0024943044409155846, -0.009096113033592701, 0.025720492005348206, -0.010761142708361149, 0.0361512191593647, -0.004288908094167709, 0.013592340052127838, 0.03371522203087807, -0.004816923290491104, 0.008033604361116886, -0.009439485147595406, 0.0050857895985245705, 0.02389349415898323, 0.01887897029519081, 0.001287644263356924, -0.00651758536696434, -0.029750250279903412, 0.0181403961032629, -0.012471523135900497, 0.0032150615006685257, -0.01151267345994711, 0.029827995225787163, 0.0013289459748193622, 0.013916275463998318, 0.001150781405158341, -0.029931655153632164, 0.013501638546586037, 0.01653367653489113, -0.005335220135748386, -0.02320674993097782, 0.00831866730004549, 0.02302534691989422, 0.025085577741265297, 0.001484435168094933, 0.002968870336189866, -0.002772889332845807, -0.006776733789592981, -0.010676919482648373, -0.007469956297427416, 0.012814894318580627, 0.004062152933329344, 0.015743272379040718, -0.02307717688381672, 0.0024959242437034845, 0.02167777344584465, -0.008027125149965286, -0.01010679267346859, -0.006086750887334347, -0.018917841836810112, -0.00975046306848526, -0.013592340052127838, 0.012899117544293404, 0.005409725476056337, 0.011389577761292458, 0.019682331010699272, -0.023297453299164772, -0.011402535252273083, -0.012840809300541878, -0.007022925186902285, 0.013223053887486458, -0.0024327568244189024, 0.0030158408917486668, -0.00522832153365016, -0.006925744470208883, 0.044418055564165115, -0.006997010204941034, 0.016106080263853073, -0.003051473991945386, -0.007541222032159567, -0.018334757536649704, 0.0009531806572340429, -0.026925532147288322, 0.028532251715660095, 0.025798235088586807, 0.020122883841395378, -0.005749857984483242, 0.005723943002521992, -0.013605297543108463, 0.008040082640945911, 0.0016366848722100258, -0.0041560945101082325, 0.010022569447755814, 0.0005644579068757594, -0.00902484729886055, -0.021353838965296745, -0.015108359046280384, 0.003255553310737014, -0.008040082640945911, 0.02237747423350811, -0.00558141153305769, 0.00969863310456276, -0.011240567080676556, 0.007832763716578484, 0.00023161398712545633, 0.013644170016050339, -0.024152642115950584, -0.021314965561032295, -0.004651715978980064, 0.013158266432583332, -0.0011912733316421509, -0.00800121109932661, -0.021936923265457153, -0.010314111597836018, 0.005617044400423765, -0.01654663309454918, 0.019863734021782875, -0.004036238417029381, -0.01045664306730032, 0.013670084998011589, 0.012361384928226471, -0.004557774867862463, 0.003861312987282872, -0.021314965561032295, -0.022105369716882706, -0.011596896685659885, -0.009199772961437702, 0.02016175538301468, 0.007884593680500984, -0.017842376604676247, 0.003754414152354002, 0.012005055323243141, -0.03247131034731865, 0.022830985486507416, 0.0008462818805128336, -0.012562224641442299, -0.01549708191305399, 0.016883525997400284, -0.0252281092107296, -0.010897195897996426, 0.030735015869140625, 0.0015516517451032996, 0.02824718877673149, -0.008331624791026115, 0.01601537875831127, 0.004026520065963268, 0.00792346615344286, -0.006028442643582821, 0.006549979094415903, -0.013197138905525208, 0.01043072808533907, -0.003738217521458864, 0.029957570135593414, 0.008551901206374168, 0.02102990262210369, -0.030786843970417976, 0.022273816168308258, -0.000388722779462114, 0.015017656609416008, -0.028765486553311348, 7.789640221744776e-05, -0.011240567080676556, 0.013903317973017693, 0.004214402753859758, 0.0215611569583416, 0.011972662061452866, 0.01666324958205223, 0.022960558533668518, -0.01126000378280878, 0.015186103992164135, 0.004538338631391525, -0.0031211201567202806, -0.02600555494427681, -0.004016802180558443, -0.03962380811572075, 0.03392254188656807, -0.0051311408169567585, 0.009821728803217411, -0.016183825209736824, 0.00036989402724429965, -0.0009596594027243555, -0.006504627875983715, 0.009867080487310886, -0.00369286653585732, 0.010651004500687122, -0.009394134394824505, -0.02167777344584465, 0.0030644312500953674, -0.010391855612397194, 0.0020375552121549845, -0.005510145332664251, -0.013540510088205338, -0.004275950603187084, 0.02298647351562977, 0.017544355243444443, 0.02232564613223076, -0.01304164994508028, -0.00834458228200674, 0.02162594348192215, -0.02026541531085968, 0.011875481344759464, 0.007133062928915024, -0.019306564703583717, 0.0010608892189338803, 0.00934878271073103, 0.022947601974010468, 0.0002585411421023309, -0.008921188302338123, 0.03044995106756687, 0.025007832795381546, -0.033559732139110565, 0.014499359764158726, -0.021496370434761047, 0.029283782467246056, 0.003806243883445859, -0.012905596755445004, 0.00398764805868268, -0.025150364264845848, 0.0020796668250113726, 0.0026886658743023872, 0.016183825209736824, -0.009154421277344227, -0.012432650662958622, 0.00455129612237215, -0.006349138915538788, 0.026925532147288322, 0.02169073186814785, 0.0011256764410063624, 0.005710985511541367, 0.027988040819764137, 0.004243556875735521, -0.004933540243655443, -0.005331980995833874, 0.008603731170296669, -0.0006624484085477889, 0.00649167038500309, -0.015471166931092739, -0.0025040225591510534, -0.00969863310456276, 0.0011378240305930376, 0.012575182132422924, -0.00012967549264431, 0.014317955821752548, 0.016417058184742928, 0.01583397574722767, 0.01413655187934637, -0.010424249805510044, -0.01947501115500927, -0.022662539035081863, 0.01198561955243349, 0.01296390499919653, -0.01873643882572651, -0.011195216327905655, -0.013955147936940193, -0.014745551161468029, -0.022675495594739914, 0.027314255014061928, -0.015756230801343918, 0.037317387759685516, -0.012490958906710148, 0.02022654190659523, -0.01122760958969593, -0.02023950032889843, 0.02104286104440689, -0.0018804464489221573, 0.001390493824146688, -0.005199167411774397, -0.001443943241611123, -0.013799658976495266, 0.008849922567605972, -0.023258579894900322, -0.0006183121586218476, 0.018542077392339706, 0.030605440959334373, -0.008182615041732788, 0.0066147660836577415, -0.005189449060708284, 0.014317955821752548, -0.011843087151646614, -0.010139185935258865, 0.003010981949046254, 0.002925138920545578, -0.0005729611730203032, -0.010495515540242195, -0.011966182850301266, 0.011266482062637806, -0.003932578954845667, 0.0033462552819401026, -0.018192226067185402, -0.005727182608097792, -0.01652071811258793, 0.11226314306259155, 0.019954435527324677, 0.019824862480163574, 0.01298334077000618, -0.023349281400442123, -0.021379753947257996, -0.013242489658296108, -0.009594974108040333, 0.011843087151646614, -0.007489392533898354, 0.006647159811109304, -0.0001446575188310817, 0.01792011968791485, 0.002832817379385233, 0.01803673803806305, -0.004133419133722782, 0.012147586792707443, 0.0008333244477398694, 0.007793891709297895, -0.048771753907203674, -0.015445251949131489, -0.0023209990467876196, 0.03335241600871086, -0.012374342419207096, -0.024917131289839745, -0.04612843692302704, 0.01602833718061447, 0.0215741153806448, -0.0016374947736039758, -0.0034790688659995794, -0.03954606503248215, 0.009854122996330261, -0.007651360239833593, -0.015561869367957115, -0.005879431962966919, -0.01722041890025139, 0.014732593670487404, -0.006336181424558163, 0.037887513637542725, -0.013721914030611515, 0.015095401555299759, -0.009160900488495827, 0.017207462340593338, -0.014965827576816082, -0.0006567795644514263, -0.008331624791026115, 0.007171935401856899, 0.020006265491247177, 0.00014334153092931956, 0.003942296840250492, 0.03423352167010307, 0.016779866069555283, -0.015237933024764061, 0.0022772676311433315, 0.0034790688659995794, -0.0031065428629517555, 0.010579738765954971, -0.010521430522203445, -0.016144953668117523, 0.03298960626125336, -0.009620889090001583, -0.028454508632421494, -0.013449808582663536, -0.015186103992164135, -0.001171837211586535, -0.03457041457295418, -0.0033090028446167707, -0.017000142484903336, 0.001702281879261136, -0.01305460650473833, 0.006582372356206179, -0.016041293740272522, -0.03177160769701004, -0.021094689145684242, 0.010618611238896847, -0.009368219412863255, 0.011072120629251003, -0.0060608359053730965, -0.01652071811258793, 0.025888938456773758, -0.017466610297560692, -0.0004243557050358504, 0.0029526734724640846, -0.009037804789841175, 0.0006377483368851244, 0.011493236757814884, -0.016468888148665428, -0.010365940630435944, -0.008357539772987366, 0.011039727367460728, 0.006294069811701775, 0.0011030009482055902, 0.02456727996468544, -0.013210096396505833, 0.016170868650078773, 0.0070099676959216595, 0.008253880776464939, 0.03462224453687668, 0.014641891233623028, 0.013955147936940193, 0.02088737115263939, -0.032082587480545044, -0.01649480313062668, -0.003900185227394104, -0.0064268833957612514, -0.0359957292675972, -0.01333319116383791, 0.022597750648856163, 0.0005838940269313753, 0.0021444540470838547, -0.004674391355365515, -0.020602308213710785, 0.014965827576816082, -0.030838673934340477, 0.015160189010202885, 0.019747117534279823, 0.01732407882809639, 0.023388154804706573, -0.0006203367956914008, 0.005895629059523344, -0.012899117544293404, -0.024308132007718086, 0.0075930519960820675, 0.02819535881280899, 0.009880037978291512, -0.013838531449437141, 0.009834686294198036, -0.03109782375395298, -0.0016204881248995662, 0.007379254326224327, -0.011370141990482807, 0.01731112226843834, 0.0021023424342274666, 0.010942546650767326, -0.02235156111419201, -0.03537377342581749, -0.0060316817834973335, 0.005973373539745808, -0.0012260964140295982, -0.03400028496980667, -0.027962125837802887, -0.014032892882823944, -0.00042395078344270587, -0.0010001513874158263, -0.003132457844913006, -0.01659846305847168, -0.014991742558777332, 0.004130179528146982, -0.009620889090001583, -0.004078350029885769, -0.0008835344924591482, -0.004146376624703407, -0.031331054866313934, -0.0007567947031930089, -0.019876692444086075, -0.051648300141096115, -0.02458023838698864, -0.005312544759362936, 0.0144864022731781, 0.021898049861192703, 0.050896771252155304, -0.0028295780066400766, 0.030475866049528122, 0.0011143386363983154, -0.0036086433101445436, 0.03469998762011528, -0.004648476839065552, -0.009225687943398952, -0.028039870783686638, 0.034285351634025574, 0.03037220798432827, -0.008305709809064865, 0.030683185905218124, -0.0005170822842046618, 0.005072832573205233, 0.011797736398875713, 0.017712801694869995, 0.016080165281891823, 0.010534387081861496, -0.0063523780554533005, -0.020537519827485085, -0.013890360482037067, -0.005759575869888067, -0.0067184255458414555, -0.011616332456469536, -0.011214652098715305, 0.007742062211036682, -0.015263848006725311, 0.004580450244247913, -0.004233838990330696, 0.017855333164334297, -0.006731383036822081, -0.01878826878964901, -0.013812616467475891, 0.0020084010902792215, -0.008130785077810287, -0.009115549735724926, -0.0020391750149428844, 0.03102007880806923, 0.008772177621722221, 0.01864573545753956, 0.012918554246425629, -0.009925388731062412, 0.016481846570968628, -0.01298981998115778, 0.05190744996070862, -0.0011807454284280539, -0.0007612488116137683, 0.012937990017235279, -0.009232166223227978, -0.024204472079873085, -0.03236765041947365, -0.02240338921546936, -0.021846219897270203, 0.028376763686537743, -0.011719992384314537, 0.001556510804221034, 0.012018012814223766, -0.011149865575134754, -0.014369785785675049, -0.005241279024630785, -0.008117827586829662, 0.026873702183365822, 0.015730315819382668, 0.03192709758877754, 0.013994020409882069, -0.01585988886654377, -0.015471166931092739, 0.04786473140120506, 0.0001774560078047216, 0.016779866069555283, 0.01952684111893177, 0.004496227018535137, 0.008215008303523064, 0.015082444064319134, -0.020822584629058838, 0.008584294468164444, -0.03488139063119888, -0.02460615336894989, 0.00864908192306757, 0.03107190877199173, 0.0003988457901868969, -0.03542560338973999, -0.006763776298612356, -0.0034272391349077225, 0.0071265846490859985, 0.0014099299442023039, 0.031486544758081436, 0.0010568400612100959, -0.03905368223786354, -0.01659846305847168, 0.01407176535576582, -0.027184680104255676, 0.011480279266834259, -0.013773743994534016, -0.02095215767621994, 0.009925388731062412, -0.008545422926545143, -0.0050857895985245705, -0.011409013532102108, -0.008947103284299374, 0.02811761572957039, -0.017829418182373047, -0.011804215610027313, 0.013929232954978943, 0.00907667726278305, -0.006193649955093861, -0.016909440979361534, 0.014434573240578175, 0.02674412727355957, 0.003602164564654231, 0.012432650662958622, 0.004327780567109585, 0.0039358180947601795, 8.032591722439975e-05, 0.030216718092560768, -0.015756230801343918, -0.043718356639146805, -0.004178769886493683, 0.013981062918901443, 0.0062066069804131985, 0.013994020409882069, 0.012173501774668694, -0.012782501056790352, -0.016870569437742233, -0.008888794109225273, -0.024385876953601837, -0.010916631668806076, 0.00597985228523612, -0.010003132745623589, -0.023660261183977127, -0.010618611238896847, -0.014032892882823944, 0.008856400847434998, 0.013281362131237984, 0.00907019805163145, 0.02378983423113823, 0.047994308173656464, -0.04504001513123512, -0.004531859885901213, -0.011804215610027313, 0.020667094737291336, -0.020485691726207733, -0.0035049838479608297, 0.0017168589401990175, -0.0052056461572647095, 0.035010967403650284, -0.01043720729649067, -0.01744069531559944, -0.022234942764043808, -0.007832763716578484, -0.002003542147576809, 0.015782145783305168, -0.007696710992604494, 0.024943046271800995, 0.017777588218450546, -0.021820304915308952, -0.010340026579797268, -0.0036475155502557755, 0.026497935876250267, -0.021872134879231453, -0.007554179523140192, 0.030683185905218124, -0.0022367758210748434, 0.00371554191224277, -0.016961270943284035, 0.016507761552929878, -0.005017763469368219, -0.015328635461628437, 0.002865210874006152, 0.01737590879201889, 0.01378670148551464, -0.006170974113047123, -0.005208885297179222, -0.023439984768629074, -0.0058859107084572315, -0.023439984768629074, 0.014434573240578175, -0.0050857895985245705, 0.0010940927313640714, 0.025124449282884598, 0.0253576822578907, -0.00796881690621376, 0.017168588936328888, 0.007405169308185577, -0.006038160528987646, 0.009283996187150478, -0.032937776297330856, -0.02677004225552082, -0.02534472569823265, -0.016948314383625984, 0.008480635471642017, 0.010463121347129345, -0.012808416038751602, -0.0253317691385746, 0.005432400852441788, -0.05224434286355972, 0.012879681773483753, -0.0289209745824337, 0.003569770837202668, 0.02377687767148018, 0.011421971023082733, -0.014032892882823944, 0.010618611238896847, 0.0004846887313760817, -0.003618361195549369, -0.010113270953297615, -0.008493592962622643, 0.025046704337000847, -0.006566175725311041, 0.02538359723985195, 0.017013100907206535, 0.006776733789592981, 0.005490709561854601, -0.012043927796185017, 0.012270682491362095, 0.0033138617873191833, 0.0011580699356272817, -0.024826427921652794, 0.0022999432403594255, 0.0033689308911561966, -0.010709312744438648, 0.0036572336684912443, 0.008746262639760971, -0.0075930519960820675, -0.030579525977373123, -0.010929589159786701, 0.01959162764251232, 0.01807560957968235, -0.027651147916913033, -0.0009499412844888866, 0.02443770505487919, -0.00973102729767561, -0.012672362849116325, -0.03742104768753052, -0.007826285436749458, 0.006919265724718571, -0.02829901874065399, 0.015263848006725311, 0.007003488950431347, -0.005727182608097792, -0.0008592393132857978, -0.0034920263569802046, -0.010385377332568169, -0.007482913788408041, -0.00029235193505883217, -0.008338104002177715, -0.003372170263901353, -0.019708245992660522, -0.0013346149353310466, 0.02229973115026951, -0.007437562569975853, 0.022157199680805206, -0.009899473749101162, -0.003381888149306178, -0.008662039414048195, -0.004068631678819656, -0.031331054866313934, 0.016131995245814323, -0.008292753249406815, -0.0361512191593647, 0.0034304785076528788, -0.003498505102470517, -0.020369073376059532, -0.0018286168342456222, -0.01160337496548891, 0.01727224886417389, -0.029335612431168556, -0.014991742558777332, -0.02529289573431015, -0.002779367845505476, -0.04027168080210686, 0.010910152457654476, -0.00398440845310688, -0.0254224706441164, 0.042215295135974884, 0.2089773714542389, 0.005484230816364288, -0.01798490807414055, 0.029931655153632164, -0.02754748798906803, 0.03024263307452202, 0.011007333174347878, -0.008687954396009445, -0.0015200680354610085, 0.009543144144117832, 0.003602164564654231, -7.703594746999443e-05, 0.01817926950752735, 0.004868752788752317, -0.016857611015439034, 0.0024408551398664713, -0.004554535262286663, -0.018917841836810112, -0.036384452134370804, -0.024891216307878494, 0.0072237653657794, 0.008966539055109024, 0.0015937634743750095, -0.018192226067185402, 0.01228363998234272, 0.009672719053924084, 0.015574825927615166, 0.0091025922447443, 0.018386587500572205, 0.014577104710042477, -0.010203973390161991, -0.03775794059038162, 0.030035313218832016, -0.02605738490819931, -0.020394988358020782, 0.0014261266915127635, -0.01728520728647709, -0.011719992384314537, 0.014499359764158726, 0.0063232239335775375, -0.003592446446418762, 0.0012844048906117678, 0.013812616467475891, -0.01225772500038147, 0.0036766696721315384, 0.012173501774668694, -0.00945244263857603, 0.004616083111613989, 0.0034110425040125847, 0.005153816193342209, -0.01792011968791485, -0.0006980813341215253, 0.0057854908518493176, 0.019760075956583023, -0.00597985228523612, -0.010327069088816643, 0.003057952504605055, -0.0057854908518493176, -0.0014196480624377728, -0.03563292324542999, -0.00010993566684192047, 0.024139685556292534, -0.028324933722615242, 0.01884009689092636, -0.013566425070166588, 0.022196071222424507, -0.007476435042917728, 0.009083155542612076, -0.011344227008521557, -0.027910295873880386, -0.004191727377474308, 0.0037317387759685516, -0.022027624770998955, -0.006345899309962988, 0.006854478269815445, -0.016365230083465576, -0.01153210923075676, -0.0038321588654071093, 0.012996298260986805, 0.005192688666284084, -0.004635519348084927, -0.0015168286627158523, 0.002585006644949317, 0.004275950603187084, -0.027806635946035385, -0.016740994527935982, 0.016404101625084877, -0.01944909617304802, -0.007314467336982489, -0.01188843883574009, 0.0036086433101445436, -0.007100669667124748, -0.0022238183300942183, -6.801383278798312e-06, 0.00945244263857603, -0.004962694365531206, 0.02674412727355957, 0.03032037802040577, -0.019617542624473572, -0.012082800269126892, -0.042189378291368484, 0.006559696979820728, 0.011240567080676556, -0.030812758952379227, -0.010314111597836018, -0.006209846585988998, -0.008571337908506393, 0.024269258603453636, 0.025163322687149048, -0.005850277841091156, -0.017842376604676247, -0.010417770594358444, 0.009951303713023663, -0.00016763669555075467, -0.02018767036497593, -0.0068350424990057945, 0.031356971710920334, -0.02305126190185547, 0.00576605461537838, -0.02461910992860794, -0.009309911169111729, 0.0014099299442023039, -0.010009611956775188, 0.001660170266404748, 0.02811761572957039, -0.011370141990482807, -0.002429517451673746, 0.011700555682182312, 0.009938346222043037, -0.020446818321943283, 0.016119038686156273, -0.0009377937531098723, 0.02314196340739727, -0.016896484419703484, -0.004113982897251844, 0.005503666587173939, 0.029309697449207306, -0.004891428630799055, -0.015186103992164135, 0.011421971023082733, 0.012931511737406254, -0.005986331030726433, 0.0015233074082061648, -0.004677630960941315, 0.008513028733432293, -0.006925744470208883, 0.0253188107162714, 0.006028442643582821, -0.03241948038339615, -0.005403246730566025, -0.019889649003744125, -0.021535241976380348, -0.00576929422095418, -0.008836965076625347, 0.026148086413741112, -0.04283725097775459, -0.023699132725596428, -0.03879453241825104, -0.01807560957968235, 0.025098534300923347, -0.010113270953297615, 0.021198349073529243, 0.02018767036497593, -0.005182970315217972, -0.008759220130741596, -0.008513028733432293, -0.16512943804264069, 0.00686743576079607, 0.009251601994037628, 0.007158977910876274, 0.007670796476304531, -0.0016860851319506764, 0.0063070273026824, 0.021068774163722992, -0.0007183272973634303, -0.009964261204004288, 0.010521430522203445, -0.009057240560650826, -0.006057596765458584, -0.0012795458314940333, 0.004007084295153618, -0.0037187812849879265, 0.0043310197070240974, 0.005756336729973555, 0.03345607593655586, -0.004729460459202528, 0.01442161574959755, 0.0002447738661430776, 0.016352271661162376, -0.0022157197818160057, -0.0006721664685755968, -0.005821123719215393, -0.012724192813038826, 0.026925532147288322, -0.01592467725276947, 0.0043018655851483345, -0.02029133029282093, -0.00862964615225792, 0.003806243883445859, 0.03026854805648327, -0.00719785038381815, 0.015704400837421417, 0.009115549735724926, -0.0004190917534288019, -0.014408658258616924, 0.018956715241074562, 0.01191435381770134, 0.007146020419895649, 0.00471326382830739, -0.023517727851867676, -0.0031697102822363377, 0.03099416382610798, 0.03032037802040577, 0.009096113033592701, 0.024178557097911835, -0.0035730102099478245, 0.00719785038381815, -0.05343642458319664, -0.004389327950775623, 0.0028036630246788263, 0.02969842031598091, 0.03112373873591423, -0.01150619424879551, 0.007424605078995228, -0.008577816188335419, -4.056788020534441e-05, -0.03174569457769394, -0.011836608871817589, -0.0038839885964989662, -0.009413570165634155, -0.029983485117554665, -0.020680053159594536, 0.006770255044102669, -0.014577104710042477, -0.024735726416110992, -2.705368933675345e-05, -0.015186103992164135, -0.009588495828211308, -0.004492987412959337, -0.01939726620912552, 0.0029964048881083727, 0.014266125857830048, -0.001909600687213242, 0.0252281092107296, -0.009478357620537281, 0.008130785077810287, -0.009912431240081787, 0.03920917212963104, -0.0076189665123820305, -0.01661141961812973, 0.013799658976495266, 0.019734160974621773, -0.017583226785063744, -0.017557311803102493, -0.013397978618741035, -0.028065785765647888, 0.006984052713960409, -0.011493236757814884, -0.014006977900862694, 0.00134757230989635, 0.011629289947450161, 0.022118326276540756, -0.00017158467380795628, 0.004567492753267288, 0.026925532147288322, -0.012134629301726818, -0.004395806696265936, -0.000902970670722425, -0.012478001415729523, 0.008519507944583893, -0.007107148412615061, 0.025629788637161255, 0.021392710506916046, 0.008467677980661392, 0.009011889807879925, -0.026536809280514717, 0.0064689950086176395, 0.003673430299386382, 0.023414069786667824, 0.007048839703202248, 0.0003506603534333408, 0.014978785067796707, 0.006971095222979784, 0.005911825690418482, 0.004117222037166357, 0.001182365114800632, 0.06603104621171951, -0.0008381835068576038, 0.0006709517328999937, -0.015237933024764061, 0.0004810444370377809, -0.029335612431168556, -0.09650690853595734, -0.020511604845523834, 0.009497793391346931, 0.0058599961921572685, -0.01338502112776041, 0.035062793642282486, 0.0019031219417229295, 0.03669543191790581, -0.015237933024764061, 0.027780720964074135, -0.0017978429095819592, -0.028713656589388847, -0.013527552597224712, 0.011473800987005234, 0.032937776297330856, 0.013644170016050339, -0.006394489668309689, -0.00972454808652401, -0.015354550443589687, 0.008772177621722221, -0.0181403961032629, -0.00595393730327487, 0.0032361173070967197, -0.01882714033126831, 0.004026520065963268, 0.011758863925933838, -0.030605440959334373, 0.005153816193342209, 0.006365335546433926, 0.03827623650431633, -0.00015184484072960913, -0.012108715251088142, -0.0011977520771324635, -0.007560658268630505, 0.008545422926545143, -0.015043571591377258, -0.03703232482075691, -0.018606863915920258, 0.018412502482533455, -0.03524420037865639, -0.008130785077810287, 0.01013270765542984, 0.002489445498213172, -0.025487257167696953, -0.0019322761800140142, 0.0010649384930729866, -0.0067896912805736065, 0.02027837187051773, 0.02754748798906803, -0.009037804789841175, -0.01803673803806305, 0.001068987650796771, -0.010605653747916222, -0.009627367369830608, 0.02096511609852314, 0.02245521917939186, 0.018347715958952904, -0.02014879696071148, -0.014939912594854832, 0.00011712298874044791, -0.008642603643238544, -0.007068275939673185, 0.0003206963010597974, 0.0029024635441601276, 0.0034499147441238165, -0.01047607883810997, -0.014227254316210747, 0.013683042488992214, 0.014266125857830048, 0.0069063082337379456, -0.017686886712908745, -0.005046917591243982, -0.025694577023386955, 0.00012582875206135213, -0.016274526715278625, -0.0033786490093916655, -0.04750192537903786, -0.005432400852441788, 0.024968961253762245, -0.040090277791023254, -0.009530186653137207, -0.024800512939691544, 0.028402678668498993, -0.015717357397079468, -0.0012601097114384174, 0.025681618601083755, 0.010411292314529419, 0.016442973166704178, -0.0047391788102686405, -0.0028700698167085648, -0.012199416756629944, -0.005549017805606127, -0.0030660510528832674, -0.0126140546053648, -0.02241634763777256, 0.019824862480163574, -0.0032523139379918575, -0.006478712894022465, -0.004855795297771692, 0.009990175254642963, 0.0018836858216673136, 0.010424249805510044, -0.0655645802617073, 0.004356934688985348, 0.002959152217954397, 0.0021201588679105043, -0.01725929230451584, 0.000726020778529346, 0.02327153831720352, -0.004541577771306038, 0.021936923265457153, 0.007884593680500984, 0.00972454808652401, 0.03262680023908615, 0.009957781992852688, -0.006912786979228258, -0.018360672518610954, -0.004641998093575239, -0.013579382561147213, 0.0017379147466272116, 0.00684799998998642, -0.007541222032159567, -0.017544355243444443, -0.021289050579071045, -0.019876692444086075, 0.005212124902755022, -0.005775772966444492, -0.00036058088880963624, -0.004107504151761532, 0.015458209440112114, -0.025603873655200005, -0.003010981949046254, 0.003592446446418762, -0.014978785067796707, 0.01668916456401348, -0.004787769168615341, 0.002447333885356784, -0.03102007880806923, 0.0007324995240196586, 0.005992809776216745, 0.028506338596343994, 0.022675495594739914, -0.004101025406271219, -0.017039015889167786, 0.00797529611736536, -0.004016802180558443, -0.010229888372123241, 0.015354550443589687, -0.015471166931092739, -0.0034304785076528788, 0.031331054866313934, 0.0026416953187435865, 0.011318312026560307, 0.01588580384850502, -0.015626655891537666, -0.003579488955438137, -0.008182615041732788, 0.011979140341281891, 0.02671821229159832, -0.006384771782904863, 0.007826285436749458, -0.009659761562943459, 0.020433861762285233, -0.0034823082387447357, 0.010942546650767326, 0.005289869382977486, 0.027858465909957886, 0.013553467579185963, -0.016922399401664734, 0.012801936827600002, 0.015341592952609062, -0.0360216461122036, 0.005736900493502617, -0.017505483701825142, 0.0253576822578907, 0.007022925186902285, -0.005866474937647581, 0.003206962952390313, 0.0144475307315588, -0.004194966517388821, -0.00013038409815635532, 0.005934501066803932, 0.015406379476189613, 0.009763420559465885, -0.0217166468501091, 0.016196783632040024, 0.03096824884414673, 0.028324933722615242, -0.01951388455927372, 0.02373800426721573, 0.003010981949046254, 0.010391855612397194, -0.01263996958732605, 0.015678485855460167, 0.004020041320472956, 0.017622100189328194, 0.001796223223209381, 0.022636624053120613, -0.005244518164545298, -0.008888794109225273, 0.020576393231749535, 0.015561869367957115, 0.020420903339982033, 0.0018318560905754566, -0.013825573958456516, -0.012082800269126892, -0.017518440261483192, 0.027340169996023178, -0.007029403932392597, -0.026381319388747215, -0.01576918736100197, -0.0010276858229190111, 0.021975794807076454, 0.0029931655153632164, -0.01951388455927372, 0.02445066347718239, -0.009478357620537281, 0.014538232237100601, 0.005539299920201302, -0.004392567556351423, -0.01585988886654377, 0.021522285416722298, -0.006290830671787262, 0.005698028020560741, 0.01010031346231699, -0.005338459741324186, 0.048823583871126175, -0.0028781683649867773, 0.01332023460417986, -0.025020789355039597, -0.01941022463142872, -0.0025299375411123037, 0.027728892862796783, -0.006170974113047123, -0.037991173565387726, 0.013138830661773682, 0.000757199595682323, 0.012141108512878418, -0.015069486573338509, 0.03552926331758499, -0.02827310375869274, 0.03330058604478836, -0.006504627875983715, 0.023673217743635178, -0.009122028015553951, -0.019656416028738022, 0.0028571125585585833, 0.0018205184023827314, 0.0217555183917284, -0.02534472569823265, -0.02088737115263939, 0.014758508652448654, 0.010249324142932892, 0.018477289006114006, -0.026394277811050415, -0.004975651856511831, -0.0026530330069363117, -0.01663733460009098, 0.014019935391843319, -0.0003081437898799777, -0.00684799998998642, 0.019824862480163574, 0.009277516975998878, 0.030035313218832016, 0.017064930871129036, 0.0012390539050102234, 0.007755019702017307, -0.006854478269815445, 0.005289869382977486, -0.011357184499502182, -0.01798490807414055, -0.0017184786265715957, -0.012128151021897793, -0.005111704580485821, -0.027728892862796783, 0.033663392066955566, -0.02013584040105343, -0.004382849205285311, 0.002199523150920868, -0.003815962001681328, 0.008772177621722221, -0.008027125149965286, 0.036462198942899704, -0.021379753947257996, -0.019138118252158165, 0.016144953668117523, -0.003806243883445859, -0.02252000756561756, -0.017635056748986244, -0.021289050579071045], '__retriever': 'VectorRetriever'}\n"
          ]
        }
      ],
      "source": [
        "query_text = \"A movie about a shooting incident.\"\n",
        "retriever_result = retriever.search(query_text=query_text, top_k=3)\n",
        "print(retriever_result)"
      ]
    },
    {
      "cell_type": "code",
      "execution_count": 15,
      "metadata": {
        "colab": {
          "base_uri": "https://localhost:8080/"
        },
        "id": "pcWKxU_d2W-G",
        "outputId": "b27bdb61-162c-40dd-cff8-f0a0535ef205"
      },
      "outputs": [
        {
          "name": "stdout",
          "output_type": "stream",
          "text": [
            "TOP 1\n",
            "{'title': 'City Hall', 'plot': 'The accidental shooting of a boy in New York leads to an investigation by the Deputy Mayor, and unexpectedly far-reaching consequences.'}\n",
            "score :  0.931365966796875\n",
            "TOP 2\n",
            "{'title': 'Usual Suspects, The', 'plot': 'A sole survivor tells of the twisty events leading up to a horrific gun battle on a boat, which begin when five criminals meet at a seemingly random police lineup.'}\n",
            "score :  0.9310150146484375\n",
            "TOP 3\n",
            "{'title': 'Nick of Time', 'plot': 'An unimpressive, every-day man is forced into a situation where he is told to kill a politician to save his kidnapped daughter.'}\n",
            "score :  0.913909912109375\n"
          ]
        }
      ],
      "source": [
        "for k, item in enumerate(retriever_result.items):\n",
        "    print(f\"TOP {k+1}\")\n",
        "    print(item.content)\n",
        "    print(\"score : \", item.metadata[\"score\"])"
      ]
    },
    {
      "cell_type": "code",
      "execution_count": null,
      "metadata": {
        "id": "t1kgHFZxRhW4"
      },
      "outputs": [],
      "source": []
    }
  ],
  "metadata": {
    "colab": {
      "provenance": []
    },
    "kernelspec": {
      "display_name": "Python 3",
      "name": "python3"
    },
    "language_info": {
      "name": "python"
    }
  },
  "nbformat": 4,
  "nbformat_minor": 0
}
